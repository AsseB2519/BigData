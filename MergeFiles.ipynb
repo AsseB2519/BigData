{
 "cells": [
  {
   "cell_type": "code",
   "execution_count": null,
   "metadata": {},
   "outputs": [],
   "source": []
  },
  {
   "cell_type": "code",
   "execution_count": null,
   "metadata": {},
   "outputs": [],
   "source": [
    "# Primeiro Mudar o nome todo para Country e CountryCode\n",
    "\n",
    "# Dar Merge em todos os ficheiros para ficar com um ficheiro completo"
   ]
  }
 ],
 "metadata": {
  "language_info": {
   "name": "python"
  }
 },
 "nbformat": 4,
 "nbformat_minor": 2
}
