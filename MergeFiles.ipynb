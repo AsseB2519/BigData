{
 "cells": [
  {
   "cell_type": "markdown",
   "metadata": {},
   "source": [
    "<center>\n",
    "\n",
    "# $\\textbf{Inflation}$\n",
    "\n",
    "<center>"
   ]
  },
  {
   "cell_type": "markdown",
   "metadata": {},
   "source": [
    "### $\\textbf{Code}$"
   ]
  },
  {
   "cell_type": "code",
   "execution_count": 20,
   "metadata": {},
   "outputs": [],
   "source": [
    "import pandas as pd"
   ]
  },
  {
   "cell_type": "code",
   "execution_count": 21,
   "metadata": {},
   "outputs": [],
   "source": [
    "# Read the CSVs files into a DataFrames\n",
    "inflation = pd.read_csv('FinalFiles/Inflation.csv')\n",
    "covid = pd.read_csv('FinalFiles/Covid.csv')\n",
    "tax = pd.read_csv('FinalFiles/Tax2.csv')\n",
    "migration = pd.read_csv('FinalFiles/Migration2.csv')\n",
    "population = pd.read_csv('FinalFiles/Population.csv')\n",
    "gdp = pd.read_csv('FinalFiles/GDP.csv')\n",
    "unemployment = pd.read_csv('FinalFiles/Unemployment2.csv')"
   ]
  },
  {
   "cell_type": "code",
   "execution_count": 22,
   "metadata": {},
   "outputs": [],
   "source": [
    "# Convert data types if needed\n",
    "inflation['country'] = inflation['country'].astype(str)\n",
    "inflation['year'] = inflation['year'].astype(int)\n",
    "\n",
    "covid['country'] = covid['country'].astype(str)\n",
    "covid['year'] = covid['year'].astype(int)\n",
    "\n",
    "tax['country'] = tax['country'].astype(str)\n",
    "tax['year'] = tax['year'].astype(int)\n",
    "\n",
    "migration['country'] = migration['country'].astype(str)\n",
    "migration['year'] = migration['year'].astype(int)\n",
    "\n",
    "population['country'] = population['country'].astype(str)\n",
    "population['year'] = population['year'].astype(int)\n",
    "\n",
    "gdp['country'] = gdp['country'].astype(str)\n",
    "gdp['year'] = gdp['year'].astype(int)\n",
    "\n",
    "unemployment['country'] = unemployment['country'].astype(str)\n",
    "unemployment['year'] = unemployment['year'].astype(int)"
   ]
  },
  {
   "cell_type": "code",
   "execution_count": 23,
   "metadata": {},
   "outputs": [],
   "source": [
    "# Filter data for years greater than 2010\n",
    "inflation = inflation[inflation['year'] > 2010]\n",
    "# covid = covid[covid['year'] > 2010]\n",
    "tax = tax[tax['year'] > 2010]\n",
    "migration = migration[migration['year'] > 2010]\n",
    "population = population[population['year'] > 2010]\n",
    "gdp = gdp[gdp['year'] > 2010]\n",
    "unemployment = unemployment[unemployment['year'] > 2010]"
   ]
  },
  {
   "cell_type": "code",
   "execution_count": 24,
   "metadata": {},
   "outputs": [],
   "source": [
    "# Filter data for years lower than 2025\n",
    "inflation = inflation[inflation['year'] < 2025]\n",
    "# covid = covid[covid['year'] < 2025]\n",
    "tax = tax[tax['year'] < 2025]\n",
    "migration = migration[migration['year'] < 2025]\n",
    "population = population[population['year'] < 2025]\n",
    "gdp = gdp[gdp['year'] < 2025]\n",
    "unemployment = unemployment[unemployment['year'] < 2025]"
   ]
  },
  {
   "cell_type": "code",
   "execution_count": 25,
   "metadata": {},
   "outputs": [
    {
     "ename": "IndentationError",
     "evalue": "unexpected indent (1379410458.py, line 7)",
     "output_type": "error",
     "traceback": [
      "\u001b[1;36m  Cell \u001b[1;32mIn[25], line 7\u001b[1;36m\u001b[0m\n\u001b[1;33m    .merge(tax, on=['country', 'year'], how='outer')\u001b[0m\n\u001b[1;37m    ^\u001b[0m\n\u001b[1;31mIndentationError\u001b[0m\u001b[1;31m:\u001b[0m unexpected indent\n"
     ]
    }
   ],
   "source": [
    "# Merge the dataframes\n",
    "merged_data = inflation.merge(covid, on=['country', 'year'], how='outer') \\\n",
    "    .merge(migration, on=['country', 'year'], how='outer') \\\n",
    "    .merge(population, on=['country', 'year'], how='outer') \\\n",
    "    .merge(gdp, on=['country', 'year'], how='outer') \\\n",
    "    .merge(unemployment, on=['country', 'year'], how='outer') \\\n",
    "    .merge(tax, on=['country', 'year'], how='outer')"
   ]
  },
  {
   "cell_type": "code",
   "execution_count": null,
   "metadata": {},
   "outputs": [],
   "source": [
    "# Sort the merged data by country and then by year\n",
    "merged_data = merged_data.sort_values(by=['country', 'year'])"
   ]
  },
  {
   "cell_type": "code",
   "execution_count": null,
   "metadata": {},
   "outputs": [],
   "source": [
    "# Save the merged dataframe to a new CSV file\n",
    "merged_data.to_csv('FinalOuter.csv', index=False)"
   ]
  }
 ],
 "metadata": {
  "kernelspec": {
   "display_name": "daa1",
   "language": "python",
   "name": "python3"
  },
  "language_info": {
   "codemirror_mode": {
    "name": "ipython",
    "version": 3
   },
   "file_extension": ".py",
   "mimetype": "text/x-python",
   "name": "python",
   "nbconvert_exporter": "python",
   "pygments_lexer": "ipython3",
   "version": "3.11.5"
  }
 },
 "nbformat": 4,
 "nbformat_minor": 2
}
