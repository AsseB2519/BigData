{
 "cells": [
  {
   "cell_type": "markdown",
   "metadata": {},
   "source": [
    "<center>\n",
    "\n",
    "# $\\textbf{Merge Files}$\n",
    "\n",
    "<center>"
   ]
  },
  {
   "cell_type": "markdown",
   "metadata": {},
   "source": [
    "### $\\textbf{Code}$"
   ]
  },
  {
   "cell_type": "code",
   "execution_count": 9,
   "metadata": {},
   "outputs": [],
   "source": [
    "from pyspark.sql import SparkSession\n",
    "import os\n",
    "os.environ['PYSPARK_SUBMIT_ARGS'] = '--conf \"spark.executor.extraJavaOptions=-XX:ReservedCodeCacheSize=2048m\" --conf \"spark.driver.extraJavaOptions=-XX:ReservedCodeCacheSize=2048m\" pyspark-shell'"
   ]
  },
  {
   "cell_type": "code",
   "execution_count": 10,
   "metadata": {},
   "outputs": [
    {
     "data": {
      "text/html": [
       "\n",
       "            <div>\n",
       "                <p><b>SparkSession - hive</b></p>\n",
       "                \n",
       "        <div>\n",
       "            <p><b>SparkContext</b></p>\n",
       "\n",
       "            <p><a href=\"http://172.26.68.223:4040\">Spark UI</a></p>\n",
       "\n",
       "            <dl>\n",
       "              <dt>Version</dt>\n",
       "                <dd><code>v3.4.1</code></dd>\n",
       "              <dt>Master</dt>\n",
       "                <dd><code>local</code></dd>\n",
       "              <dt>AppName</dt>\n",
       "                <dd><code>MergeFiles</code></dd>\n",
       "            </dl>\n",
       "        </div>\n",
       "        \n",
       "            </div>\n",
       "        "
      ],
      "text/plain": [
       "<pyspark.sql.session.SparkSession at 0x108324700>"
      ]
     },
     "execution_count": 10,
     "metadata": {},
     "output_type": "execute_result"
    }
   ],
   "source": [
    "spark = SparkSession.builder.appName('MergeFiles').master(\"local\").enableHiveSupport().getOrCreate()\n",
    "spark"
   ]
  },
  {
   "cell_type": "code",
   "execution_count": 11,
   "metadata": {},
   "outputs": [
    {
     "name": "stdout",
     "output_type": "stream",
     "text": [
      "+------------------+----+-----------+---------+---------+---------+----------+----+------------+\n",
      "|           country|year|covid_cases|      gdp|inflation|migration|population| tax|unemployment|\n",
      "+------------------+----+-----------+---------+---------+---------+----------+----+------------+\n",
      "|           ASEAN-5|2011|       null| 4742.031|      4.7|     null|      null|null|        null|\n",
      "|           ASEAN-5|2012|       null| 4934.317|      3.4|     null|      null|null|        null|\n",
      "|           ASEAN-5|2013|       null| 5009.992|      4.2|     null|      null|null|        null|\n",
      "|           ASEAN-5|2014|       null| 4941.123|      4.3|     null|      null|null|        null|\n",
      "|           ASEAN-5|2015|       null| 4715.428|      3.1|     null|      null|null|        null|\n",
      "|           ASEAN-5|2016|       null| 4889.034|      2.0|     null|      null|null|        null|\n",
      "|           ASEAN-5|2017|       null| 5213.511|      2.8|     null|      null|null|        null|\n",
      "|           ASEAN-5|2018|       null| 5513.448|      2.6|     null|      null|null|        null|\n",
      "|           ASEAN-5|2019|       null| 5771.691|      1.9|     null|      null|null|        null|\n",
      "|           ASEAN-5|2020|       null| 5361.577|      1.0|     null|      null|null|        null|\n",
      "|           ASEAN-5|2021|       null| 5882.641|      2.0|     null|      null|null|        null|\n",
      "|           ASEAN-5|2022|       null| 6249.703|      4.8|     null|      null|null|        null|\n",
      "|           ASEAN-5|2023|       null| 6597.204|      3.6|     null|      null|null|        null|\n",
      "|Advanced economies|2011|       null|45011.518|      2.7|     null|      null|null|        null|\n",
      "|Advanced economies|2012|       null|44632.763|      2.0|     null|      null|null|        null|\n",
      "|Advanced economies|2013|       null|44832.244|      1.4|     null|      null|null|        null|\n",
      "|Advanced economies|2014|       null|45647.709|      1.4|     null|      null|null|        null|\n",
      "|Advanced economies|2015|       null|42967.254|      0.3|     null|      null|null|        null|\n",
      "|Advanced economies|2016|       null|43894.075|      0.7|     null|      null|null|        null|\n",
      "|Advanced economies|2017|       null| 45602.87|      1.7|     null|      null|null|        null|\n",
      "+------------------+----+-----------+---------+---------+---------+----------+----+------------+\n",
      "only showing top 20 rows\n",
      "\n"
     ]
    }
   ],
   "source": [
    "# Set paths to the Parquet files\n",
    "file_paths = [\"FilesParquet/Covid.parquet\", \"FilesParquet/GDP.parquet\", \"FilesParquet/Inflation.parquet\",\n",
    "              \"FilesParquet/Migration.parquet\", \"FilesParquet/Population.parquet\", \"FilesParquet/Tax.parquet\", \"FilesParquet/Unemployment.parquet\"]\n",
    "\n",
    "# Read Parquet files into DataFrames\n",
    "dfs = [spark.read.parquet(file_path) for file_path in file_paths]\n",
    "\n",
    "# Merge or outer join the DataFrames\n",
    "merged_df = dfs[0]\n",
    "#for i, df in enumerate(dfs):\n",
    "    # Generate new column names with a suffix indicating the iteration number\n",
    "#    renamed_columns = [(c, f\"{c}_df{i+1}\") for c in df.columns if c == \"year\"]\n",
    "    # Rename columns in the DataFrame\n",
    "#    for old_name, new_name in renamed_columns:\n",
    "#        df = df.withColumnRenamed(old_name, new_name)\n",
    "    # Update the DataFrame in the list\n",
    "#    dfs[i] = df\n",
    "\n",
    "for df in dfs[1:]:\n",
    "    merged_df = merged_df.join(df, on=[\"country\",\"year\"], how=\"outer\")\n",
    "\n",
    "merged_df.show()"
   ]
  },
  {
   "cell_type": "code",
   "execution_count": 12,
   "metadata": {},
   "outputs": [
    {
     "name": "stdout",
     "output_type": "stream",
     "text": [
      "+------------------+----+-----------+---------+---------+---------+----------+----+------------+\n",
      "|           country|year|covid_cases|      gdp|inflation|migration|population| tax|unemployment|\n",
      "+------------------+----+-----------+---------+---------+---------+----------+----+------------+\n",
      "|           ASEAN-5|2011|       null| 4742.031|      4.7|     null|      null|null|        null|\n",
      "|           ASEAN-5|2012|       null| 4934.317|      3.4|     null|      null|null|        null|\n",
      "|           ASEAN-5|2013|       null| 5009.992|      4.2|     null|      null|null|        null|\n",
      "|           ASEAN-5|2014|       null| 4941.123|      4.3|     null|      null|null|        null|\n",
      "|           ASEAN-5|2015|       null| 4715.428|      3.1|     null|      null|null|        null|\n",
      "|           ASEAN-5|2016|       null| 4889.034|      2.0|     null|      null|null|        null|\n",
      "|           ASEAN-5|2017|       null| 5213.511|      2.8|     null|      null|null|        null|\n",
      "|           ASEAN-5|2018|       null| 5513.448|      2.6|     null|      null|null|        null|\n",
      "|           ASEAN-5|2019|       null| 5771.691|      1.9|     null|      null|null|        null|\n",
      "|           ASEAN-5|2020|       null| 5361.577|      1.0|     null|      null|null|        null|\n",
      "|           ASEAN-5|2021|       null| 5882.641|      2.0|     null|      null|null|        null|\n",
      "|           ASEAN-5|2022|       null| 6249.703|      4.8|     null|      null|null|        null|\n",
      "|           ASEAN-5|2023|       null| 6597.204|      3.6|     null|      null|null|        null|\n",
      "|Advanced economies|2011|       null|45011.518|      2.7|     null|      null|null|        null|\n",
      "|Advanced economies|2012|       null|44632.763|      2.0|     null|      null|null|        null|\n",
      "|Advanced economies|2013|       null|44832.244|      1.4|     null|      null|null|        null|\n",
      "|Advanced economies|2014|       null|45647.709|      1.4|     null|      null|null|        null|\n",
      "|Advanced economies|2015|       null|42967.254|      0.3|     null|      null|null|        null|\n",
      "|Advanced economies|2016|       null|43894.075|      0.7|     null|      null|null|        null|\n",
      "|Advanced economies|2017|       null| 45602.87|      1.7|     null|      null|null|        null|\n",
      "+------------------+----+-----------+---------+---------+---------+----------+----+------------+\n",
      "only showing top 20 rows\n",
      "\n"
     ]
    }
   ],
   "source": [
    "#Storing this dataframe in parquet\n",
    "merged_df.write.mode(\"overwrite\").parquet(\"FinalOuterParquet\")\n",
    "spark.read.parquet(\"FinalOuterParquet\").show()\n",
    "spark.stop()"
   ]
  }
 ],
 "metadata": {
  "kernelspec": {
   "display_name": "DataScience",
   "language": "python",
   "name": "python3"
  },
  "language_info": {
   "codemirror_mode": {
    "name": "ipython",
    "version": 3
   },
   "file_extension": ".py",
   "mimetype": "text/x-python",
   "name": "python",
   "nbconvert_exporter": "python",
   "pygments_lexer": "ipython3",
   "version": "3.10.13"
  }
 },
 "nbformat": 4,
 "nbformat_minor": 2
}
