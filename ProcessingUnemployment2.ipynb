{
 "cells": [
  {
   "cell_type": "markdown",
   "metadata": {},
   "source": [
    "<center>\n",
    "\n",
    "# $\\textbf{Unemployment2}$\n",
    "\n",
    "<center>"
   ]
  },
  {
   "cell_type": "markdown",
   "metadata": {},
   "source": [
    "### $\\textbf{Code}$"
   ]
  },
  {
   "cell_type": "code",
   "execution_count": 1,
   "metadata": {},
   "outputs": [],
   "source": [
    "import pandas as pd\n",
    "import time"
   ]
  },
  {
   "cell_type": "code",
   "execution_count": 2,
   "metadata": {},
   "outputs": [],
   "source": [
    "inicio = time.time()"
   ]
  },
  {
   "cell_type": "code",
   "execution_count": 3,
   "metadata": {},
   "outputs": [],
   "source": [
    "# Read the CSV file into a DataFrame\n",
    "df = pd.read_csv('Files/Unemployment2.csv')"
   ]
  },
  {
   "cell_type": "code",
   "execution_count": 4,
   "metadata": {},
   "outputs": [],
   "source": [
    "# Remove columns Country Code and Indicator Code\n",
    "columns_to_drop = ['Country Code', 'Indicator Code', 'Indicator Name']\n",
    "df.drop(columns=columns_to_drop, inplace=True)"
   ]
  },
  {
   "cell_type": "code",
   "execution_count": 5,
   "metadata": {},
   "outputs": [],
   "source": [
    "# Rename 'Unemployment  total (% of total labor force) (modeled ILO estimate)' to 'unemployment'\n",
    "df.rename(columns={'Country Name': 'country'}, inplace=True)"
   ]
  },
  {
   "cell_type": "code",
   "execution_count": 6,
   "metadata": {},
   "outputs": [],
   "source": [
    "# Reshape the DataFrame using melt\n",
    "melted_df = df.melt(id_vars='country', var_name='year', value_name='unemployment')"
   ]
  },
  {
   "cell_type": "code",
   "execution_count": 7,
   "metadata": {},
   "outputs": [],
   "source": [
    "# Sort the DataFrame first by Country and then by Year within each Country\n",
    "melted_df = melted_df.sort_values(by=['country', 'year'])"
   ]
  },
  {
   "cell_type": "code",
   "execution_count": 8,
   "metadata": {},
   "outputs": [],
   "source": [
    "# Save the merged dataframe to a new CSV file\n",
    "melted_df.to_csv('FinalFiles/Unemployment2.csv', index=False)"
   ]
  },
  {
   "cell_type": "markdown",
   "metadata": {},
   "source": [
    "### $\\textbf{Pre-Processing}$"
   ]
  },
  {
   "cell_type": "code",
   "execution_count": 9,
   "metadata": {},
   "outputs": [],
   "source": [
    "# Read the CSV file into a DataFrame\n",
    "df = pd.read_csv('FinalFiles/Unemployment2.csv')"
   ]
  },
  {
   "cell_type": "code",
   "execution_count": 10,
   "metadata": {},
   "outputs": [
    {
     "name": "stdout",
     "output_type": "stream",
     "text": [
      "['Afghanistan' 'Africa Eastern and Southern' 'Africa Western and Central'\n",
      " 'Albania' 'Algeria' 'American Samoa' 'Andorra' 'Angola'\n",
      " 'Antigua and Barbuda' 'Arab World' 'Argentina' 'Armenia' 'Aruba'\n",
      " 'Australia' 'Austria' 'Azerbaijan' 'Bahamas' 'Bahrain' 'Bangladesh'\n",
      " 'Barbados' 'Belarus' 'Belgium' 'Belize' 'Benin' 'Bermuda' 'Bhutan'\n",
      " 'Bolivia' 'Bosnia and Herzegovina' 'Botswana' 'Brazil'\n",
      " 'British Virgin Islands' 'Brunei Darussalam' 'Bulgaria' 'Burkina Faso'\n",
      " 'Burundi' 'Cabo Verde' 'Cambodia' 'Cameroon' 'Canada'\n",
      " 'Caribbean small states' 'Cayman Islands' 'Central African Republic'\n",
      " 'Central Europe and the Baltics' 'Chad' 'Channel Islands' 'Chile' 'China'\n",
      " 'Colombia' 'Comoros' 'Congo' 'Costa Rica' \"Cote d'Ivoire\" 'Croatia'\n",
      " 'Cuba' 'Curacao' 'Cyprus' 'Czechia' 'Denmark' 'Djibouti' 'Dominica'\n",
      " 'Dominican Republic' 'Early-demographic dividend' 'East Asia & Pacific'\n",
      " 'East Asia & Pacific (IDA & IBRD countries)'\n",
      " 'East Asia & Pacific (excluding high income)' 'Ecuador' 'Egypt'\n",
      " 'El Salvador' 'Equatorial Guinea' 'Eritrea' 'Estonia' 'Eswatini'\n",
      " 'Ethiopia' 'Euro area' 'Europe & Central Asia'\n",
      " 'Europe & Central Asia (IDA & IBRD countries)'\n",
      " 'Europe & Central Asia (excluding high income)' 'European Union'\n",
      " 'Faroe Islands' 'Fiji' 'Finland'\n",
      " 'Fragile and conflict affected situations' 'France' 'French Polynesia'\n",
      " 'Gabon' 'Gambia' 'Georgia' 'Germany' 'Ghana' 'Gibraltar' 'Greece'\n",
      " 'Greenland' 'Grenada' 'Guam' 'Guatemala' 'Guinea' 'Guinea-Bissau'\n",
      " 'Guyana' 'Haiti' 'Heavily indebted poor countries (HIPC)' 'High income'\n",
      " 'Honduras' 'Hong Kong SAR' 'Hungary' 'IBRD only' 'IDA & IBRD total'\n",
      " 'IDA blend' 'IDA only' 'IDA total' 'Iceland' 'India' 'Indonesia' 'Iran'\n",
      " 'Iraq' 'Ireland' 'Isle of Man' 'Israel' 'Italy' 'Jamaica' 'Japan'\n",
      " 'Jordan' 'Kazakhstan' 'Kenya' 'Kiribati' 'Korea' 'Kosovo' 'Kuwait'\n",
      " 'Kyrgyz Republic' 'Lao PDR' 'Late-demographic dividend'\n",
      " 'Latin America & Caribbean'\n",
      " 'Latin America & Caribbean (excluding high income)'\n",
      " 'Latin America & the Caribbean (IDA & IBRD countries)' 'Latvia'\n",
      " 'Least developed countries: UN classification' 'Lebanon' 'Lesotho'\n",
      " 'Liberia' 'Libya' 'Liechtenstein' 'Lithuania' 'Low & middle income'\n",
      " 'Low income' 'Lower middle income' 'Luxembourg' 'Macao SAR' 'Madagascar'\n",
      " 'Malawi' 'Malaysia' 'Maldives' 'Malta' 'Marshall Islands' 'Mauritania'\n",
      " 'Mauritius' 'Mexico' 'Micronesia' 'Middle East & North Africa'\n",
      " 'Middle East & North Africa (IDA & IBRD countries)'\n",
      " 'Middle East & North Africa (excluding high income)' 'Middle income'\n",
      " 'Moldova' 'Monaco' 'Mongolia' 'Montenegro' 'Morocco' 'Mozambique'\n",
      " 'Myanmar' 'Namibia' 'Nauru' 'Nepal' 'Netherlands' 'New Caledonia'\n",
      " 'New Zealand' 'Nicaragua' 'Niger' 'Nigeria' 'North America'\n",
      " 'North Macedonia' 'Northern Mariana Islands' 'Norway' 'Not classified'\n",
      " 'OECD members' 'Oman' 'Pacific island small states' 'Pakistan' 'Panama'\n",
      " 'Papua New Guinea' 'Paraguay' 'Peru' 'Philippines' 'Poland' 'Portugal'\n",
      " 'Post-demographic dividend' 'Pre-demographic dividend' 'Puerto Rico'\n",
      " 'Qatar' 'Romania' 'Russian Federation' 'Rwanda' 'Samoa' 'San Marino'\n",
      " 'Sao Tome and Principe' 'Saudi Arabia' 'Senegal' 'Serbia' 'Seychelles'\n",
      " 'Sierra Leone' 'Singapore' 'Sint Maarten (Dutch part)' 'Slovak Republic'\n",
      " 'Slovenia' 'Small states' 'Solomon Islands' 'Somalia' 'South Africa'\n",
      " 'South Asia' 'South Asia (IDA & IBRD)' 'South Sudan' 'Spain' 'Sri Lanka'\n",
      " 'St. Kitts and Nevis' 'St. Martin (French part)'\n",
      " 'St. Vincent and the Grenadines' 'Sub-Saharan Africa'\n",
      " 'Sub-Saharan Africa (IDA & IBRD countries)'\n",
      " 'Sub-Saharan Africa (excluding high income)' 'Sudan' 'Suriname' 'Sweden'\n",
      " 'Switzerland' 'Syrian Arab Republic' 'Tajikistan' 'Tanzania' 'Thailand'\n",
      " 'Timor-Leste' 'Togo' 'Tonga' 'Trinidad and Tobago' 'Tunisia' 'Turkiye'\n",
      " 'Turkmenistan' 'Turks and Caicos Islands' 'Tuvalu' 'Uganda' 'Ukraine'\n",
      " 'United Arab Emirates' 'United Kingdom' 'United States'\n",
      " 'Upper middle income' 'Uruguay' 'Uzbekistan' 'Vanuatu' 'Venezuela'\n",
      " 'Viet Nam' 'Virgin Islands (U.S.)' 'West Bank and Gaza' 'World' 'Yemen'\n",
      " 'Zambia' 'Zimbabwe' 'alau' 'ali' 't. Lucia' 'ther small states']\n"
     ]
    }
   ],
   "source": [
    "unique_values = df['country'].unique()\n",
    "print(unique_values)"
   ]
  },
  {
   "cell_type": "code",
   "execution_count": 11,
   "metadata": {},
   "outputs": [],
   "source": [
    "df['country'] = df['country'].replace({'China, People\\'s Republic of': 'China', \n",
    "                                       'Gambia, The': 'Gambia',\n",
    "                                       'Micronesia, Fed. States of': 'Micronesia',\n",
    "                                       'South Sudan, Republic of': 'South Sudan',\n",
    "                                       'Taiwan Province of China': 'Taiwan',\n",
    "                                       'Türkiye, Republic of': 'Türkiye',\n",
    "                                       'Caribbean small states' : 'Caribbean',\n",
    "                                       'Hong Kong SAR' : 'Hong Kong',\n",
    "                                       'Congo' : 'Democratic Republic of the Congo',\n",
    "                                       'Viet Nam' : 'Vietnam'})"
   ]
  },
  {
   "cell_type": "code",
   "execution_count": 12,
   "metadata": {},
   "outputs": [],
   "source": [
    "# Columns to drop\n",
    "countries_to_remove = ['Africa Eastern and Southern', \n",
    "                       'Africa Western and Central', \n",
    "                       'Central Europe and the Baltics', \n",
    "                       'Early-demographic dividend', \n",
    "                       'East Asia & Pacific', \n",
    "                       'East Asia & Pacific (IDA & IBRD countries)', \n",
    "                       'East Asia & Pacific (excluding high income)', \n",
    "                       'Euro area',\n",
    "                       'Europe & Central Asia',\n",
    "                       'Europe & Central Asia (IDA & IBRD countries)',\n",
    "                       'Europe & Central Asia (excluding high income)',\n",
    "                       'European Union',\n",
    "                       'Fragile and conflict affected situations',\n",
    "                       'Heavily indebted poor countries (HIPC)',\n",
    "                       'High income',\n",
    "                       'IBRD only',\n",
    "                       'IDA & IBRD total',\n",
    "                       'IDA blend',\n",
    "                       'IDA only',\n",
    "                       'IDA total',\n",
    "                       'Latin America & the Caribbean (IDA & IBRD countries)',\n",
    "                       'Latin America & Caribbean (excluding high income)',\n",
    "                       'Least developed countries: UN classification',\n",
    "                       'Low & middle income',\n",
    "                       'Low income',\n",
    "                       'Lower middle income',\n",
    "                       'Middle East & North Africa',\n",
    "                       'Middle East & North Africa (IDA & IBRD countries)',\n",
    "                       'Middle East & North Africa (excluding high income)',\n",
    "                       'Middle income',\n",
    "                       'Not classified',\n",
    "                       'OECD members',\n",
    "                       'Other small states',\n",
    "                       'Pacific island small states'\n",
    "                       'Post-demographic dividend',\n",
    "                       'Pre-demographic dividend',\n",
    "                       'Small states',\n",
    "                       'South Asia',\n",
    "                       'South Asia (IDA & IBRD)',\n",
    "                       'Sub-Saharan Africa (IDA & IBRD countries)',\n",
    "                       'Sub-Saharan Africa (excluding high income)',\n",
    "                       'Upper middle income',\n",
    "                       'World',\n",
    "                       'ther small states'\n",
    "                       ]\n",
    "\n",
    "# Drop the specified columns\n",
    "df = df[~df['country'].isin(countries_to_remove)]"
   ]
  },
  {
   "cell_type": "code",
   "execution_count": 13,
   "metadata": {},
   "outputs": [],
   "source": [
    "# Remove rows with missing values in the 'country' column\n",
    "df = df.dropna(subset=['country'])"
   ]
  },
  {
   "cell_type": "code",
   "execution_count": 14,
   "metadata": {},
   "outputs": [],
   "source": [
    "# Read the CSV file into a DataFrame\n",
    "df.to_csv(\"FilesPP/Unemployment2.csv\", index=False)"
   ]
  },
  {
   "cell_type": "code",
   "execution_count": 15,
   "metadata": {},
   "outputs": [
    {
     "name": "stdout",
     "output_type": "stream",
     "text": [
      "0.31972193717956543\n"
     ]
    }
   ],
   "source": [
    "fim = time.time()\n",
    "final = fim - inicio\n",
    "print(final)"
   ]
  }
 ],
 "metadata": {
  "kernelspec": {
   "display_name": "Python 3",
   "language": "python",
   "name": "python3"
  },
  "language_info": {
   "codemirror_mode": {
    "name": "ipython",
    "version": 3
   },
   "file_extension": ".py",
   "mimetype": "text/x-python",
   "name": "python",
   "nbconvert_exporter": "python",
   "pygments_lexer": "ipython3",
   "version": "3.11.5"
  }
 },
 "nbformat": 4,
 "nbformat_minor": 2
}
