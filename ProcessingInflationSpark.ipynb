{
 "cells": [
  {
   "cell_type": "markdown",
   "metadata": {},
   "source": [
    "<center>\n",
    "\n",
    "# $\\textbf{Inflation}$\n",
    "\n",
    "<center>"
   ]
  },
  {
   "cell_type": "markdown",
   "metadata": {},
   "source": [
    "### $\\textbf{Code}$"
   ]
  },
  {
   "cell_type": "code",
   "execution_count": 19,
   "metadata": {},
   "outputs": [],
   "source": [
    "import pandas as pd\n",
    "from pyspark.sql import SparkSession\n",
    "from pyspark.sql.types import StructType, StructField, StringType, DoubleType\n",
    "from pyspark.sql.functions import explode, col, lit, array, struct"
   ]
  },
  {
   "cell_type": "code",
   "execution_count": 20,
   "metadata": {},
   "outputs": [
    {
     "data": {
      "text/html": [
       "\n",
       "            <div>\n",
       "                <p><b>SparkSession - in-memory</b></p>\n",
       "                \n",
       "        <div>\n",
       "            <p><b>SparkContext</b></p>\n",
       "\n",
       "            <p><a href=\"http://172.26.68.223:4040\">Spark UI</a></p>\n",
       "\n",
       "            <dl>\n",
       "              <dt>Version</dt>\n",
       "                <dd><code>v3.4.1</code></dd>\n",
       "              <dt>Master</dt>\n",
       "                <dd><code>local</code></dd>\n",
       "              <dt>AppName</dt>\n",
       "                <dd><code>Inflation</code></dd>\n",
       "            </dl>\n",
       "        </div>\n",
       "        \n",
       "            </div>\n",
       "        "
      ],
      "text/plain": [
       "<pyspark.sql.session.SparkSession at 0x12c96dc00>"
      ]
     },
     "execution_count": 20,
     "metadata": {},
     "output_type": "execute_result"
    }
   ],
   "source": [
    "spark = SparkSession.builder.appName('Inflation').master(\"local\").config(\"spark.jars.packages\", \"com.crealytics:spark-excel_2.11:0.12.2\").getOrCreate()\n",
    "spark"
   ]
  },
  {
   "cell_type": "code",
   "execution_count": 21,
   "metadata": {},
   "outputs": [],
   "source": [
    "# Step 4: Read the Excel file using pandas\n",
    "pandas_df = pd.read_excel(\"Files/Inflation.xlsx\")\n",
    "\n",
    "# Replace \"no data\" with NaN\n",
    "pandas_df.replace(\"no data\", float(\"nan\"), inplace=True)\n",
    "\n",
    "# Extract column names from the first row\n",
    "column_names = [str(col) for col in pandas_df.columns]\n",
    "\n",
    "# Step 5: Define the schema for the Spark DataFrame\n",
    "schema_fields = [StructField(column_names[0], StringType(), True)] + \\\n",
    "                [StructField(col, DoubleType(), True) for col in column_names[1:]]\n",
    "\n",
    "# Create schema\n",
    "schema = StructType(schema_fields)\n",
    "\n",
    "# Step 6: Convert the pandas DataFrame to a Spark DataFrame with the specified schema\n",
    "df = spark.createDataFrame(pandas_df, schema=schema)"
   ]
  },
  {
   "cell_type": "code",
   "execution_count": 22,
   "metadata": {},
   "outputs": [],
   "source": [
    "# Rename the columns \"location\" and \"total_cases\"\n",
    "df = df.withColumnRenamed(\"Inflation rate, average consumer prices (Annual percent change)\",\"country\")"
   ]
  },
  {
   "cell_type": "code",
   "execution_count": 23,
   "metadata": {},
   "outputs": [],
   "source": [
    "# Assuming df is properly defined DataFrame\n",
    "df = df.select(\"country\", explode(array([\n",
    "    struct(lit(year).alias(\"year\"), col(str(year)).alias(\"inflation\")) \n",
    "    for year in range(2000, 2025)\n",
    "])).alias(\"data\")).selectExpr(\"country\", \"data.year\", \"data.inflation\")"
   ]
  },
  {
   "cell_type": "code",
   "execution_count": 24,
   "metadata": {},
   "outputs": [],
   "source": [
    "# Cast columns to their desired types\n",
    "df = df.withColumn(\"country\", col(\"country\").cast(\"string\"))\n",
    "df = df.withColumn(\"year\", col(\"year\").cast(\"int\"))\n",
    "df = df.withColumn(\"inflation\", col(\"inflation\").cast(\"double\"))"
   ]
  },
  {
   "cell_type": "code",
   "execution_count": 25,
   "metadata": {},
   "outputs": [],
   "source": [
    "# Filter data for years greater than 2010 and lower than 2024\n",
    "df = df.filter(df[\"year\"] > 2010)\n",
    "df = df.filter(df[\"year\"] < 2024)"
   ]
  },
  {
   "cell_type": "code",
   "execution_count": 26,
   "metadata": {},
   "outputs": [],
   "source": [
    "# Order by country and then by year\n",
    "df = df.orderBy(\"country\", \"year\")"
   ]
  },
  {
   "cell_type": "code",
   "execution_count": 27,
   "metadata": {},
   "outputs": [
    {
     "name": "stdout",
     "output_type": "stream",
     "text": [
      "+------------------+----+---------+\n",
      "|           country|year|inflation|\n",
      "+------------------+----+---------+\n",
      "|           ASEAN-5|2011|      4.7|\n",
      "|           ASEAN-5|2012|      3.4|\n",
      "|           ASEAN-5|2013|      4.2|\n",
      "|           ASEAN-5|2014|      4.3|\n",
      "|           ASEAN-5|2015|      3.1|\n",
      "|           ASEAN-5|2016|      2.0|\n",
      "|           ASEAN-5|2017|      2.8|\n",
      "|           ASEAN-5|2018|      2.6|\n",
      "|           ASEAN-5|2019|      1.9|\n",
      "|           ASEAN-5|2020|      1.0|\n",
      "|           ASEAN-5|2021|      2.0|\n",
      "|           ASEAN-5|2022|      4.8|\n",
      "|           ASEAN-5|2023|      3.6|\n",
      "|Advanced economies|2011|      2.7|\n",
      "|Advanced economies|2012|      2.0|\n",
      "|Advanced economies|2013|      1.4|\n",
      "|Advanced economies|2014|      1.4|\n",
      "|Advanced economies|2015|      0.3|\n",
      "|Advanced economies|2016|      0.7|\n",
      "|Advanced economies|2017|      1.7|\n",
      "+------------------+----+---------+\n",
      "only showing top 20 rows\n",
      "\n"
     ]
    }
   ],
   "source": [
    "#Storing this dataframe in parquet\n",
    "df.write.mode(\"overwrite\").parquet(\"FilesParquet/Inflation.parquet\" )\n",
    "spark.read.parquet(\"FilesParquet/Inflation.parquet\").show()\n",
    "spark.stop()"
   ]
  }
 ],
 "metadata": {
  "kernelspec": {
   "display_name": "DataScience",
   "language": "python",
   "name": "python3"
  },
  "language_info": {
   "codemirror_mode": {
    "name": "ipython",
    "version": 3
   },
   "file_extension": ".py",
   "mimetype": "text/x-python",
   "name": "python",
   "nbconvert_exporter": "python",
   "pygments_lexer": "ipython3",
   "version": "3.10.13"
  }
 },
 "nbformat": 4,
 "nbformat_minor": 2
}
