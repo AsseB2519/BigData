{
 "cells": [
  {
   "cell_type": "markdown",
   "metadata": {},
   "source": [
    "<center>\n",
    "\n",
    "# $\\textbf{Inflation}$\n",
    "\n",
    "<center>"
   ]
  },
  {
   "cell_type": "markdown",
   "metadata": {},
   "source": [
    "### $\\textbf{Code}$"
   ]
  },
  {
   "cell_type": "code",
   "execution_count": 104,
   "metadata": {},
   "outputs": [],
   "source": [
    "import pandas as pd\n",
    "from pyspark.sql import SparkSession\n",
    "from pyspark.sql.types import StructType, StructField, StringType, DoubleType\n",
    "from pyspark.sql.functions import explode, col, lit, array, struct, when"
   ]
  },
  {
   "cell_type": "code",
   "execution_count": 105,
   "metadata": {},
   "outputs": [
    {
     "data": {
      "text/html": [
       "\n",
       "            <div>\n",
       "                <p><b>SparkSession - in-memory</b></p>\n",
       "                \n",
       "        <div>\n",
       "            <p><b>SparkContext</b></p>\n",
       "\n",
       "            <p><a href=\"http://francisco-mbp:4040\">Spark UI</a></p>\n",
       "\n",
       "            <dl>\n",
       "              <dt>Version</dt>\n",
       "                <dd><code>v3.4.1</code></dd>\n",
       "              <dt>Master</dt>\n",
       "                <dd><code>local</code></dd>\n",
       "              <dt>AppName</dt>\n",
       "                <dd><code>Inflation</code></dd>\n",
       "            </dl>\n",
       "        </div>\n",
       "        \n",
       "            </div>\n",
       "        "
      ],
      "text/plain": [
       "<pyspark.sql.session.SparkSession at 0x13b3d0b10>"
      ]
     },
     "execution_count": 105,
     "metadata": {},
     "output_type": "execute_result"
    }
   ],
   "source": [
    "spark = SparkSession.builder.appName('Inflation').master(\"local\").config(\"spark.jars.packages\", \"com.crealytics:spark-excel_2.11:0.12.2\").getOrCreate()\n",
    "spark"
   ]
  },
  {
   "cell_type": "code",
   "execution_count": 106,
   "metadata": {},
   "outputs": [],
   "source": [
    "# Step 4: Read the Excel file using pandas\n",
    "pandas_df = pd.read_excel(\"Files/Inflation.xlsx\")\n",
    "\n",
    "# Replace \"no data\" with NaN\n",
    "pandas_df.replace(\"no data\", float(\"nan\"), inplace=True)\n",
    "\n",
    "# Extract column names from the first row\n",
    "column_names = [str(col) for col in pandas_df.columns]\n",
    "\n",
    "# Step 5: Define the schema for the Spark DataFrame\n",
    "schema_fields = [StructField(column_names[0], StringType(), True)] + \\\n",
    "                [StructField(col, DoubleType(), True) for col in column_names[1:]]\n",
    "\n",
    "# Create schema\n",
    "schema = StructType(schema_fields)\n",
    "\n",
    "# Step 6: Convert the pandas DataFrame to a Spark DataFrame with the specified schema\n",
    "df = spark.createDataFrame(pandas_df, schema=schema)"
   ]
  },
  {
   "cell_type": "code",
   "execution_count": 107,
   "metadata": {},
   "outputs": [],
   "source": [
    "# Rename the columns \"location\" and \"total_cases\"\n",
    "df = df.withColumnRenamed(\"Inflation rate, average consumer prices (Annual percent change)\",\"country\")"
   ]
  },
  {
   "cell_type": "code",
   "execution_count": 108,
   "metadata": {},
   "outputs": [],
   "source": [
    "# Assuming df is properly defined DataFrame\n",
    "df = df.select(\"country\", explode(array([\n",
    "    struct(lit(year).alias(\"year\"), col(str(year)).alias(\"inflation\")) \n",
    "    for year in range(2000, 2025)\n",
    "])).alias(\"data\")).selectExpr(\"country\", \"data.year\", \"data.inflation\")"
   ]
  },
  {
   "cell_type": "code",
   "execution_count": 109,
   "metadata": {},
   "outputs": [
    {
     "name": "stdout",
     "output_type": "stream",
     "text": [
      "+-----------+----+---------+\n",
      "|    country|year|inflation|\n",
      "+-----------+----+---------+\n",
      "|Afghanistan|2000|      NaN|\n",
      "|Afghanistan|2001|      NaN|\n",
      "|Afghanistan|2002|      5.1|\n",
      "|Afghanistan|2003|     35.7|\n",
      "|Afghanistan|2004|     16.4|\n",
      "|Afghanistan|2005|     10.6|\n",
      "|Afghanistan|2006|      6.8|\n",
      "|Afghanistan|2007|      8.7|\n",
      "|Afghanistan|2008|     26.4|\n",
      "|Afghanistan|2009|     -6.8|\n",
      "|Afghanistan|2010|      2.2|\n",
      "|Afghanistan|2011|     11.8|\n",
      "|Afghanistan|2012|      6.4|\n",
      "|Afghanistan|2013|      7.4|\n",
      "|Afghanistan|2014|      4.7|\n",
      "|Afghanistan|2015|     -0.7|\n",
      "|Afghanistan|2016|      4.4|\n",
      "|Afghanistan|2017|      5.0|\n",
      "|Afghanistan|2018|      0.6|\n",
      "|Afghanistan|2019|      2.3|\n",
      "+-----------+----+---------+\n",
      "only showing top 20 rows\n",
      "\n"
     ]
    }
   ],
   "source": [
    "#Storing this dataframe in parquet\n",
    "df.write.mode(\"overwrite\").parquet(\"FilesParquet/Inflation.parquet\" )\n",
    "spark.read.parquet(\"FilesParquet/Inflation.parquet\").show()\n",
    "spark.stop()"
   ]
  }
 ],
 "metadata": {
  "kernelspec": {
   "display_name": "DataScience",
   "language": "python",
   "name": "python3"
  },
  "language_info": {
   "codemirror_mode": {
    "name": "ipython",
    "version": 3
   },
   "file_extension": ".py",
   "mimetype": "text/x-python",
   "name": "python",
   "nbconvert_exporter": "python",
   "pygments_lexer": "ipython3",
   "version": "3.11.5"
  }
 },
 "nbformat": 4,
 "nbformat_minor": 2
}
