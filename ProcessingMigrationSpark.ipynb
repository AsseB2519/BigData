{
 "cells": [
  {
   "cell_type": "markdown",
   "metadata": {},
   "source": [
    "<center>\n",
    "\n",
    "# $\\textbf{Migration}$\n",
    "\n",
    "<center>"
   ]
  },
  {
   "cell_type": "markdown",
   "metadata": {},
   "source": [
    "### $\\textbf{Code}$"
   ]
  },
  {
   "cell_type": "code",
   "execution_count": 1,
   "metadata": {},
   "outputs": [],
   "source": [
    "from pyspark.sql import SparkSession\n",
    "from pyspark.sql.functions import explode, col, lit, array, struct\n",
    "import time"
   ]
  },
  {
   "cell_type": "code",
   "execution_count": 2,
   "metadata": {},
   "outputs": [],
   "source": [
    "inicio = time.time()"
   ]
  },
  {
   "cell_type": "code",
   "execution_count": 3,
   "metadata": {},
   "outputs": [
    {
     "name": "stderr",
     "output_type": "stream",
     "text": [
      "24/03/07 19:52:00 WARN Utils: Your hostname, Francisco-MacBook-Pro.local resolves to a loopback address: 127.0.0.1; using 10.191.2.158 instead (on interface en0)\n",
      "24/03/07 19:52:00 WARN Utils: Set SPARK_LOCAL_IP if you need to bind to another address\n",
      "Setting default log level to \"WARN\".\n",
      "To adjust logging level use sc.setLogLevel(newLevel). For SparkR, use setLogLevel(newLevel).\n",
      "24/03/07 19:52:01 WARN NativeCodeLoader: Unable to load native-hadoop library for your platform... using builtin-java classes where applicable\n"
     ]
    },
    {
     "data": {
      "text/html": [
       "\n",
       "            <div>\n",
       "                <p><b>SparkSession - hive</b></p>\n",
       "                \n",
       "        <div>\n",
       "            <p><b>SparkContext</b></p>\n",
       "\n",
       "            <p><a href=\"http://10.191.2.158:4040\">Spark UI</a></p>\n",
       "\n",
       "            <dl>\n",
       "              <dt>Version</dt>\n",
       "                <dd><code>v3.4.1</code></dd>\n",
       "              <dt>Master</dt>\n",
       "                <dd><code>local</code></dd>\n",
       "              <dt>AppName</dt>\n",
       "                <dd><code>Migration</code></dd>\n",
       "            </dl>\n",
       "        </div>\n",
       "        \n",
       "            </div>\n",
       "        "
      ],
      "text/plain": [
       "<pyspark.sql.session.SparkSession at 0x10a98a470>"
      ]
     },
     "execution_count": 3,
     "metadata": {},
     "output_type": "execute_result"
    }
   ],
   "source": [
    "spark = SparkSession.builder.appName('Migration').master(\"local\").enableHiveSupport().getOrCreate()\n",
    "spark"
   ]
  },
  {
   "cell_type": "code",
   "execution_count": 4,
   "metadata": {},
   "outputs": [],
   "source": [
    "# Creating dataframe from the csv file and infering the schema\n",
    "df = spark.read.load(\"Files/Migration2.csv\", format=\"csv\", sep=\",\", inferschema=\"true\", header=\"true\")"
   ]
  },
  {
   "cell_type": "code",
   "execution_count": 5,
   "metadata": {},
   "outputs": [],
   "source": [
    "# Drop the columns you don't want\n",
    "df = df.drop(\"Series Name\", \"Series Code\", \"Country Code\")"
   ]
  },
  {
   "cell_type": "code",
   "execution_count": 6,
   "metadata": {},
   "outputs": [],
   "source": [
    "# Rename the column\n",
    "df = df.withColumnRenamed(\"Country Name\",\"country\")\n",
    "df = df.withColumnRenamed(\"2000 [YR2000]\",\"2000\")\n",
    "df = df.withColumnRenamed(\"2001 [YR2001]\",\"2001\")\n",
    "df = df.withColumnRenamed(\"2002 [YR2002]\",\"2002\")\n",
    "df = df.withColumnRenamed(\"2003 [YR2003]\",\"2003\")\n",
    "df = df.withColumnRenamed(\"2004 [YR2004]\",\"2004\")\n",
    "df = df.withColumnRenamed(\"2008 [YR2008]\",\"2008\")\n",
    "df = df.withColumnRenamed(\"2009 [YR2009]\",\"2009\")\n",
    "df = df.withColumnRenamed(\"2010 [YR2010]\",\"2010\")\n",
    "df = df.withColumnRenamed(\"2011 [YR2011]\",\"2011\")\n",
    "df = df.withColumnRenamed(\"2012 [YR2012]\",\"2012\")\n",
    "df = df.withColumnRenamed(\"2013 [YR2013]\",\"2013\")\n",
    "df = df.withColumnRenamed(\"2014 [YR2014]\",\"2014\")\n",
    "df = df.withColumnRenamed(\"2015 [YR2015]\",\"2015\")\n",
    "df = df.withColumnRenamed(\"2016 [YR2016]\",\"2016\")\n",
    "df = df.withColumnRenamed(\"2017 [YR2017]\",\"2017\")\n",
    "df = df.withColumnRenamed(\"2018 [YR2018]\",\"2018\")\n",
    "df = df.withColumnRenamed(\"2019 [YR2019]\",\"2019\")\n",
    "df = df.withColumnRenamed(\"2020 [YR2020]\",\"2020\")\n",
    "df = df.withColumnRenamed(\"2021 [YR2021]\",\"2021\")\n",
    "df = df.withColumnRenamed(\"2022 [YR2022]\",\"2022\")\n",
    "df = df.withColumnRenamed(\"2023 [YR2023]\",\"2023\")\n",
    "df = df.withColumnRenamed(\"2024 [YR2024]\",\"2024\")\n",
    "df = df.withColumnRenamed(\"2025 [YR2025]\",\"2025\")"
   ]
  },
  {
   "cell_type": "code",
   "execution_count": 7,
   "metadata": {},
   "outputs": [],
   "source": [
    "# Assuming df is properly defined DataFrame\n",
    "df = df.select(\"country\", explode(array([\n",
    "    struct(lit(year).alias(\"year\"), col(str(year)).alias(\"migration\")) \n",
    "    for year in list(range(2000, 2005)) + list(range(2008, 2025))\n",
    "])).alias(\"data\")).selectExpr(\"country\", \"data.year\", \"data.migration\")"
   ]
  },
  {
   "cell_type": "code",
   "execution_count": 8,
   "metadata": {},
   "outputs": [],
   "source": [
    "# Cast columns to their desired types\n",
    "df = df.withColumn(\"country\", col(\"country\").cast(\"string\"))\n",
    "df = df.withColumn(\"year\", col(\"year\").cast(\"int\"))\n",
    "df = df.withColumn(\"migration\", col(\"migration\").cast(\"int\"))"
   ]
  },
  {
   "cell_type": "code",
   "execution_count": 9,
   "metadata": {},
   "outputs": [],
   "source": [
    "# Filter data for years greater than 2010 and lower than 2024\n",
    "df = df.filter(df[\"year\"] > 2010)\n",
    "df = df.filter(df[\"year\"] < 2024)"
   ]
  },
  {
   "cell_type": "code",
   "execution_count": 10,
   "metadata": {},
   "outputs": [],
   "source": [
    "# Order by country and then by year\n",
    "df = df.orderBy(\"country\", \"year\")"
   ]
  },
  {
   "cell_type": "markdown",
   "metadata": {},
   "source": [
    "### $\\textbf{Pre-Processing}$"
   ]
  },
  {
   "cell_type": "code",
   "execution_count": 11,
   "metadata": {},
   "outputs": [],
   "source": [
    "replacements = {\n",
    "    \"Bahamas, The\": \"Bahamas\",\n",
    "    \"Egypt, Arab Rep.\": \"Egypt\",\n",
    "    \"Micronesia, Fed. Sts.\": \"Micronesia\",\n",
    "    \"Sint Maarten (Dutch part)\": \"Sint Maarten\",\n",
    "    \"St. Martin (French part)\": \"St. Martin\",\n",
    "    \"Venezuela, RB\": \"Venezuela\",\n",
    "    \"Yemen, Rep.\": \"Yemen\",\n",
    "    \"Caribbean small states\": \"Caribbean\",\n",
    "    \"Gambia, The\": \"Gambia\",\n",
    "    \"Hong Kong SAR, China\": \"Hong Kong\",\n",
    "    \"Iran, Islamic Rep.\": \"Iran\",\n",
    "    \"Macao SAR, China\": \"Macao SAR\",\n",
    "    \"Korea, Rep.\": \"South Korea\",\n",
    "    \"Korea, Dem. People's Rep.\": \"Korea\",\n",
    "    \"Congo, Rep.\": \"Republic of the Congo\",\n",
    "    \"Congo, Dem. Rep.\": \"Democratic Republic of the Congo\",\n",
    "    \"Viet Nam\": \"Vietnam\"\n",
    "}\n",
    "\n",
    "# Rename columns based on replacements dictionary\n",
    "for old_value, new_value in replacements.items():\n",
    "    df = df.withColumnRenamed(old_value, new_value)"
   ]
  },
  {
   "cell_type": "code",
   "execution_count": 12,
   "metadata": {},
   "outputs": [],
   "source": [
    "# Columns to drop\n",
    "countries_to_remove = ['Africa Eastern and Southern', \n",
    "                       'Africa Western and Central', \n",
    "                       'Central Europe and the Baltics', \n",
    "                       'Early-demographic dividend', \n",
    "                       'East Asia & Pacific', \n",
    "                       'East Asia & Pacific (IDA & IBRD countries)', \n",
    "                       'East Asia & Pacific (excluding high income)', \n",
    "                       'Euro area',\n",
    "                       'Europe & Central Asia',\n",
    "                       'Europe & Central Asia (IDA & IBRD countries)',\n",
    "                       'Europe & Central Asia (excluding high income)',\n",
    "                       'European Union',\n",
    "                       'Fragile and conflict affected situations',\n",
    "                       'Heavily indebted poor countries (HIPC)',\n",
    "                       'High income',\n",
    "                       'IBRD only',\n",
    "                       'IDA & IBRD total',\n",
    "                       'IDA blend',\n",
    "                       'IDA only',\n",
    "                       'IDA total',\n",
    "                       'Latin America & the Caribbean (IDA & IBRD countries)',\n",
    "                       'Latin America & Caribbean (excluding high income)',\n",
    "                       'Least developed countries: UN classification',\n",
    "                       'Low & middle income',\n",
    "                       'Low income',\n",
    "                       'Lower middle income',\n",
    "                       'Middle East & North Africa',\n",
    "                       'Middle East & North Africa (IDA & IBRD countries)',\n",
    "                       'Middle East & North Africa (excluding high income)',\n",
    "                       'Middle income',\n",
    "                       'Not classified',\n",
    "                       'OECD members',\n",
    "                       'Other small states',\n",
    "                       'Pacific island small states'\n",
    "                       'Post-demographic dividend',\n",
    "                       'Pre-demographic dividend',\n",
    "                       'Small states',\n",
    "                       'South Asia',\n",
    "                       'South Asia (IDA & IBRD)',\n",
    "                       'Sub-Saharan Africa (IDA & IBRD countries)',\n",
    "                       'Sub-Saharan Africa (excluding high income)',\n",
    "                       'Upper middle income',\n",
    "                       'World'\n",
    "                       ]\n",
    "\n",
    "# Drop the specified rows\n",
    "df = df.filter(~df['country'].isin(countries_to_remove))"
   ]
  },
  {
   "cell_type": "code",
   "execution_count": 13,
   "metadata": {},
   "outputs": [],
   "source": [
    "# Remove rows with missing values in the 'country' column\n",
    "df = df.dropna(subset=['country'])"
   ]
  },
  {
   "cell_type": "code",
   "execution_count": 14,
   "metadata": {},
   "outputs": [
    {
     "name": "stderr",
     "output_type": "stream",
     "text": [
      "                                                                                \r"
     ]
    },
    {
     "name": "stdout",
     "output_type": "stream",
     "text": [
      "+-----------+----+---------+\n",
      "|    country|year|migration|\n",
      "+-----------+----+---------+\n",
      "|Afghanistan|2011|   418796|\n",
      "|Afghanistan|2012|   105905|\n",
      "|Afghanistan|2013|    48076|\n",
      "|Afghanistan|2014|   255611|\n",
      "|Afghanistan|2015|  -281739|\n",
      "|Afghanistan|2016|   -90238|\n",
      "|Afghanistan|2017|   -47090|\n",
      "|Afghanistan|2018|   -47205|\n",
      "|Afghanistan|2019|    -8082|\n",
      "|Afghanistan|2020|   166821|\n",
      "|Afghanistan|2021|  -183672|\n",
      "|Afghanistan|2022|   -65846|\n",
      "|Afghanistan|2023|   -65846|\n",
      "|    Albania|2011|   -24465|\n",
      "|    Albania|2012|   -19946|\n",
      "|    Albania|2013|   -16845|\n",
      "|    Albania|2014|   -14265|\n",
      "|    Albania|2015|   -12240|\n",
      "|    Albania|2016|   -10887|\n",
      "|    Albania|2017|    -9768|\n",
      "+-----------+----+---------+\n",
      "only showing top 20 rows\n",
      "\n"
     ]
    }
   ],
   "source": [
    "#Storing this dataframe in parquet\n",
    "df.write.mode(\"overwrite\").parquet(\"FilesParquet/Migration.parquet\" )\n",
    "spark.read.parquet(\"FilesParquet/Migration.parquet\").show()\n",
    "spark.stop()"
   ]
  },
  {
   "cell_type": "code",
   "execution_count": 15,
   "metadata": {},
   "outputs": [
    {
     "name": "stdout",
     "output_type": "stream",
     "text": [
      "7.757224798202515\n"
     ]
    }
   ],
   "source": [
    "fim = time.time()\n",
    "final = fim - inicio\n",
    "print(final)"
   ]
  }
 ],
 "metadata": {
  "kernelspec": {
   "display_name": "DataScience",
   "language": "python",
   "name": "python3"
  },
  "language_info": {
   "codemirror_mode": {
    "name": "ipython",
    "version": 3
   },
   "file_extension": ".py",
   "mimetype": "text/x-python",
   "name": "python",
   "nbconvert_exporter": "python",
   "pygments_lexer": "ipython3",
   "version": "3.10.13"
  }
 },
 "nbformat": 4,
 "nbformat_minor": 2
}
