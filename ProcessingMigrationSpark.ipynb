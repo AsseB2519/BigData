{
 "cells": [
  {
   "cell_type": "markdown",
   "metadata": {},
   "source": [
    "<center>\n",
    "\n",
    "# $\\textbf{Migration}$\n",
    "\n",
    "<center>"
   ]
  },
  {
   "cell_type": "markdown",
   "metadata": {},
   "source": [
    "### $\\textbf{Code}$"
   ]
  },
  {
   "cell_type": "code",
   "execution_count": 21,
   "metadata": {},
   "outputs": [],
   "source": [
    "from pyspark.sql import SparkSession\n",
    "from pyspark.sql.functions import explode, col, lit, array, struct"
   ]
  },
  {
   "cell_type": "code",
   "execution_count": 22,
   "metadata": {},
   "outputs": [
    {
     "data": {
      "text/html": [
       "\n",
       "            <div>\n",
       "                <p><b>SparkSession - hive</b></p>\n",
       "                \n",
       "        <div>\n",
       "            <p><b>SparkContext</b></p>\n",
       "\n",
       "            <p><a href=\"http://172.26.68.223:4040\">Spark UI</a></p>\n",
       "\n",
       "            <dl>\n",
       "              <dt>Version</dt>\n",
       "                <dd><code>v3.4.1</code></dd>\n",
       "              <dt>Master</dt>\n",
       "                <dd><code>local</code></dd>\n",
       "              <dt>AppName</dt>\n",
       "                <dd><code>Migration</code></dd>\n",
       "            </dl>\n",
       "        </div>\n",
       "        \n",
       "            </div>\n",
       "        "
      ],
      "text/plain": [
       "<pyspark.sql.session.SparkSession at 0x107c2e860>"
      ]
     },
     "execution_count": 22,
     "metadata": {},
     "output_type": "execute_result"
    }
   ],
   "source": [
    "spark = SparkSession.builder.appName('Migration').master(\"local\").enableHiveSupport().getOrCreate()\n",
    "spark"
   ]
  },
  {
   "cell_type": "code",
   "execution_count": 23,
   "metadata": {},
   "outputs": [],
   "source": [
    "# Creating dataframe from the csv file and infering the schema\n",
    "df = spark.read.load(\"Files/Migration2.csv\", format=\"csv\", sep=\",\", inferschema=\"true\", header=\"true\")"
   ]
  },
  {
   "cell_type": "code",
   "execution_count": 24,
   "metadata": {},
   "outputs": [],
   "source": [
    "# Drop the columns you don't want\n",
    "df = df.drop(\"Series Name\", \"Series Code\", \"Country Code\")"
   ]
  },
  {
   "cell_type": "code",
   "execution_count": 25,
   "metadata": {},
   "outputs": [],
   "source": [
    "# Rename the column\n",
    "df = df.withColumnRenamed(\"Country Name\",\"country\")\n",
    "df = df.withColumnRenamed(\"2000 [YR2000]\",\"2000\")\n",
    "df = df.withColumnRenamed(\"2001 [YR2001]\",\"2001\")\n",
    "df = df.withColumnRenamed(\"2002 [YR2002]\",\"2002\")\n",
    "df = df.withColumnRenamed(\"2003 [YR2003]\",\"2003\")\n",
    "df = df.withColumnRenamed(\"2004 [YR2004]\",\"2004\")\n",
    "df = df.withColumnRenamed(\"2008 [YR2008]\",\"2008\")\n",
    "df = df.withColumnRenamed(\"2009 [YR2009]\",\"2009\")\n",
    "df = df.withColumnRenamed(\"2010 [YR2010]\",\"2010\")\n",
    "df = df.withColumnRenamed(\"2011 [YR2011]\",\"2011\")\n",
    "df = df.withColumnRenamed(\"2012 [YR2012]\",\"2012\")\n",
    "df = df.withColumnRenamed(\"2013 [YR2013]\",\"2013\")\n",
    "df = df.withColumnRenamed(\"2014 [YR2014]\",\"2014\")\n",
    "df = df.withColumnRenamed(\"2015 [YR2015]\",\"2015\")\n",
    "df = df.withColumnRenamed(\"2016 [YR2016]\",\"2016\")\n",
    "df = df.withColumnRenamed(\"2017 [YR2017]\",\"2017\")\n",
    "df = df.withColumnRenamed(\"2018 [YR2018]\",\"2018\")\n",
    "df = df.withColumnRenamed(\"2019 [YR2019]\",\"2019\")\n",
    "df = df.withColumnRenamed(\"2020 [YR2020]\",\"2020\")\n",
    "df = df.withColumnRenamed(\"2021 [YR2021]\",\"2021\")\n",
    "df = df.withColumnRenamed(\"2022 [YR2022]\",\"2022\")\n",
    "df = df.withColumnRenamed(\"2023 [YR2023]\",\"2023\")\n",
    "df = df.withColumnRenamed(\"2024 [YR2024]\",\"2024\")\n",
    "df = df.withColumnRenamed(\"2025 [YR2025]\",\"2025\")"
   ]
  },
  {
   "cell_type": "code",
   "execution_count": 26,
   "metadata": {},
   "outputs": [],
   "source": [
    "# Assuming df is properly defined DataFrame\n",
    "df = df.select(\"country\", explode(array([\n",
    "    struct(lit(year).alias(\"year\"), col(str(year)).alias(\"migration\")) \n",
    "    for year in list(range(2000, 2005)) + list(range(2008, 2025))\n",
    "])).alias(\"data\")).selectExpr(\"country\", \"data.year\", \"data.migration\")"
   ]
  },
  {
   "cell_type": "code",
   "execution_count": 27,
   "metadata": {},
   "outputs": [],
   "source": [
    "# Cast columns to their desired types\n",
    "df = df.withColumn(\"country\", col(\"country\").cast(\"string\"))\n",
    "df = df.withColumn(\"year\", col(\"year\").cast(\"int\"))\n",
    "df = df.withColumn(\"migration\", col(\"migration\").cast(\"int\"))"
   ]
  },
  {
   "cell_type": "code",
   "execution_count": 28,
   "metadata": {},
   "outputs": [],
   "source": [
    "# Filter data for years greater than 2010 and lower than 2024\n",
    "df = df.filter(df[\"year\"] > 2010)\n",
    "df = df.filter(df[\"year\"] < 2024)"
   ]
  },
  {
   "cell_type": "code",
   "execution_count": 29,
   "metadata": {},
   "outputs": [],
   "source": [
    "# Order by country and then by year\n",
    "df = df.orderBy(\"country\", \"year\")"
   ]
  },
  {
   "cell_type": "code",
   "execution_count": 30,
   "metadata": {},
   "outputs": [
    {
     "name": "stdout",
     "output_type": "stream",
     "text": [
      "+--------------------+----+---------+\n",
      "|             country|year|migration|\n",
      "+--------------------+----+---------+\n",
      "|         Afghanistan|2011|   418796|\n",
      "|         Afghanistan|2012|   105905|\n",
      "|         Afghanistan|2013|    48076|\n",
      "|         Afghanistan|2014|   255611|\n",
      "|         Afghanistan|2015|  -281739|\n",
      "|         Afghanistan|2016|   -90238|\n",
      "|         Afghanistan|2017|   -47090|\n",
      "|         Afghanistan|2018|   -47205|\n",
      "|         Afghanistan|2019|    -8082|\n",
      "|         Afghanistan|2020|   166821|\n",
      "|         Afghanistan|2021|  -183672|\n",
      "|         Afghanistan|2022|   -65846|\n",
      "|         Afghanistan|2023|   -65846|\n",
      "|Africa Eastern an...|2011|  -683611|\n",
      "|Africa Eastern an...|2012|  -285231|\n",
      "|Africa Eastern an...|2013|   -92842|\n",
      "|Africa Eastern an...|2014|  -199608|\n",
      "|Africa Eastern an...|2015|   394925|\n",
      "|Africa Eastern an...|2016|  -864708|\n",
      "|Africa Eastern an...|2017|  -343075|\n",
      "+--------------------+----+---------+\n",
      "only showing top 20 rows\n",
      "\n"
     ]
    }
   ],
   "source": [
    "#Storing this dataframe in parquet\n",
    "df.write.mode(\"overwrite\").parquet(\"FilesParquet/Migration.parquet\" )\n",
    "spark.read.parquet(\"FilesParquet/Migration.parquet\").show()\n",
    "spark.stop()"
   ]
  }
 ],
 "metadata": {
  "kernelspec": {
   "display_name": "DataScience",
   "language": "python",
   "name": "python3"
  },
  "language_info": {
   "codemirror_mode": {
    "name": "ipython",
    "version": 3
   },
   "file_extension": ".py",
   "mimetype": "text/x-python",
   "name": "python",
   "nbconvert_exporter": "python",
   "pygments_lexer": "ipython3",
   "version": "3.10.13"
  }
 },
 "nbformat": 4,
 "nbformat_minor": 2
}
