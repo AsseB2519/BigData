{
 "cells": [
  {
   "cell_type": "markdown",
   "metadata": {},
   "source": [
    "# $\\textbf{Emigração - Número de Emigrantes por Ano}$"
   ]
  },
  {
   "cell_type": "code",
   "execution_count": 1,
   "metadata": {},
   "outputs": [
    {
     "name": "stdout",
     "output_type": "stream",
     "text": [
      "           Country  Year Migration\n",
      "0            India  2024  -486,784\n",
      "1            India  2023  -486,136\n",
      "2            India  2022  -487,303\n",
      "3            India  2020   -34,772\n",
      "4            India  2015  -475,094\n",
      "...            ...   ...       ...\n",
      "4099  the Holy See  1975     1,850\n",
      "4100  the Holy See  1970     1,880\n",
      "4101  the Holy See  1965     2,270\n",
      "4102  the Holy See  1960     2,295\n",
      "4103  the Holy See  1955     2,278\n",
      "\n",
      "[4104 rows x 3 columns]\n"
     ]
    },
    {
     "name": "stderr",
     "output_type": "stream",
     "text": [
      "/var/folders/86/nxnfdxl51rd76gjq8tycqkdh0000gn/T/ipykernel_47557/3362932626.py:1: DeprecationWarning: \n",
      "Pyarrow will become a required dependency of pandas in the next major release of pandas (pandas 3.0),\n",
      "(to allow more performant data types, such as the Arrow string type, and better interoperability with other libraries)\n",
      "but was not found to be installed on your system.\n",
      "If this would cause problems for you,\n",
      "please provide us feedback at https://github.com/pandas-dev/pandas/issues/54466\n",
      "        \n",
      "  import pandas as pd\n",
      "/var/folders/86/nxnfdxl51rd76gjq8tycqkdh0000gn/T/ipykernel_47557/3362932626.py:13: SettingWithCopyWarning: \n",
      "A value is trying to be set on a copy of a slice from a DataFrame\n",
      "\n",
      "See the caveats in the documentation: https://pandas.pydata.org/pandas-docs/stable/user_guide/indexing.html#returning-a-view-versus-a-copy\n",
      "  migration.rename(columns={'Change Migrants (net)': 'Migration'}, inplace=True)\n"
     ]
    }
   ],
   "source": [
    "import pandas as pd\n",
    "\n",
    "# Load the CSV file into a DataFrame\n",
    "df = pd.read_csv(\"Files/Migration.csv\")\n",
    "\n",
    "# Select the columns you're interested in\n",
    "selected_columns = ['Country', 'Year', 'Change Migrants (net)']\n",
    "\n",
    "# Create a new DataFrame with only the selected columns\n",
    "migration = df[selected_columns]\n",
    "\n",
    "# Rename the column\n",
    "migration.rename(columns={'Change Migrants (net)': 'Migration'}, inplace=True)\n",
    "\n",
    "# Display the data\n",
    "print(migration)\n",
    "\n",
    "# Save the selected data to a new CSV file\n",
    "migration.to_csv(\"FinalFiles/Migration.csv\", index=False)"
   ]
  }
 ],
 "metadata": {
  "kernelspec": {
   "display_name": "Python 3",
   "language": "python",
   "name": "python3"
  },
  "language_info": {
   "codemirror_mode": {
    "name": "ipython",
    "version": 3
   },
   "file_extension": ".py",
   "mimetype": "text/x-python",
   "name": "python",
   "nbconvert_exporter": "python",
   "pygments_lexer": "ipython3",
   "version": "3.11.5"
  }
 },
 "nbformat": 4,
 "nbformat_minor": 2
}
