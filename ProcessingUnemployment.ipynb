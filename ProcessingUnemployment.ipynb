{
 "cells": [
  {
   "cell_type": "markdown",
   "metadata": {},
   "source": [
    "# Unemployment"
   ]
  },
  {
   "cell_type": "code",
   "execution_count": 3,
   "metadata": {},
   "outputs": [],
   "source": [
    "import pandas as pd\n",
    "\n",
    "# Load the data from the CSV file into a DataFrame\n",
    "data = pd.read_csv(\"Files/Unemployment.csv\")\n",
    "\n",
    "# Specify the columns to keep and their new names\n",
    "columns_to_keep = {\"Country Name\": \"Country Name\",\n",
    "                   \"Country Code\": \"Country Code\",\n",
    "                   \"Year\": \"Year\",\n",
    "                   \"Unemployment, total (% of total labor force)\": \"Unemployment\"}\n",
    "\n",
    "# Filter the DataFrame to keep only the desired columns and rename the specified column\n",
    "filtered_data = data[list(columns_to_keep.keys())].rename(columns=columns_to_keep)\n",
    "\n",
    "# Display the filtered DataFrame\n",
    "filtered_data.head() \n",
    "\n",
    "# Order the filtered data by country first and then by year\n",
    "filtered_data = filtered_data.sort_values(by=[\"Country Name\", \"Year\"])\n",
    "\n",
    "# Save the selected data to a new CSV file\n",
    "filtered_data.to_csv(\"FinalFiles/Unemployment.csv\", index=False)\n"
   ]
  }
 ],
 "metadata": {
  "kernelspec": {
   "display_name": "daa1",
   "language": "python",
   "name": "python3"
  },
  "language_info": {
   "codemirror_mode": {
    "name": "ipython",
    "version": 3
   },
   "file_extension": ".py",
   "mimetype": "text/x-python",
   "name": "python",
   "nbconvert_exporter": "python",
   "pygments_lexer": "ipython3",
   "version": "3.11.5"
  }
 },
 "nbformat": 4,
 "nbformat_minor": 2
}
