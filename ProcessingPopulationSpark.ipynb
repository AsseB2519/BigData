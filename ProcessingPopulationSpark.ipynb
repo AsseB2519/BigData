{
 "cells": [
  {
   "cell_type": "markdown",
   "metadata": {},
   "source": [
    "<center>\n",
    "\n",
    "# $\\textbf{Population}$\n",
    "\n",
    "<center>"
   ]
  },
  {
   "cell_type": "markdown",
   "metadata": {},
   "source": [
    "### $\\textbf{Code}$"
   ]
  },
  {
   "cell_type": "code",
   "execution_count": 127,
   "metadata": {},
   "outputs": [],
   "source": [
    "from pyspark.sql import SparkSession\n",
    "from pyspark.sql.functions import explode, array, col, lit"
   ]
  },
  {
   "cell_type": "code",
   "execution_count": 128,
   "metadata": {},
   "outputs": [
    {
     "data": {
      "text/html": [
       "\n",
       "            <div>\n",
       "                <p><b>SparkSession - hive</b></p>\n",
       "                \n",
       "        <div>\n",
       "            <p><b>SparkContext</b></p>\n",
       "\n",
       "            <p><a href=\"http://10.191.2.158:4040\">Spark UI</a></p>\n",
       "\n",
       "            <dl>\n",
       "              <dt>Version</dt>\n",
       "                <dd><code>v3.4.1</code></dd>\n",
       "              <dt>Master</dt>\n",
       "                <dd><code>local</code></dd>\n",
       "              <dt>AppName</dt>\n",
       "                <dd><code>Population</code></dd>\n",
       "            </dl>\n",
       "        </div>\n",
       "        \n",
       "            </div>\n",
       "        "
      ],
      "text/plain": [
       "<pyspark.sql.session.SparkSession at 0x10c65fd90>"
      ]
     },
     "execution_count": 128,
     "metadata": {},
     "output_type": "execute_result"
    }
   ],
   "source": [
    "spark = SparkSession.builder.appName('Population').master(\"local\").enableHiveSupport().getOrCreate()\n",
    "spark"
   ]
  },
  {
   "cell_type": "code",
   "execution_count": 129,
   "metadata": {},
   "outputs": [],
   "source": [
    "# Creating dataframe from the csv file and infering the schema\n",
    "df = spark.read.load(\"Files/Population.csv\", format=\"csv\", sep=\",\", inferschema=\"true\", header=\"true\")"
   ]
  },
  {
   "cell_type": "code",
   "execution_count": 130,
   "metadata": {},
   "outputs": [],
   "source": [
    "# Drop the columns you don't want\n",
    "df = df.drop(\"Series Name\", \"Series Code\", \"Country Code\")"
   ]
  },
  {
   "cell_type": "code",
   "execution_count": 131,
   "metadata": {},
   "outputs": [],
   "source": [
    "# Rename the column\n",
    "df = df.withColumnRenamed(\"Country Name\",\"country\")\n",
    "df = df.withColumnRenamed(\"2000 [YR2000]\",\"2000\")\n",
    "df = df.withColumnRenamed(\"2001 [YR2001]\",\"2001\")\n",
    "df = df.withColumnRenamed(\"2002 [YR2002]\",\"2002\")\n",
    "df = df.withColumnRenamed(\"2003 [YR2003]\",\"2003\")\n",
    "df = df.withColumnRenamed(\"2004 [YR2004]\",\"2004\")\n",
    "df = df.withColumnRenamed(\"2005 [YR2005]\",\"2005\")\n",
    "df = df.withColumnRenamed(\"2006 [YR2006]\",\"2006\")\n",
    "df = df.withColumnRenamed(\"2007 [YR2007]\",\"2007\")\n",
    "df = df.withColumnRenamed(\"2008 [YR2008]\",\"2008\")\n",
    "df = df.withColumnRenamed(\"2009 [YR2009]\",\"2009\")\n",
    "df = df.withColumnRenamed(\"2010 [YR2010]\",\"2010\")\n",
    "df = df.withColumnRenamed(\"2011 [YR2011]\",\"2011\")\n",
    "df = df.withColumnRenamed(\"2012 [YR2012]\",\"2012\")\n",
    "df = df.withColumnRenamed(\"2013 [YR2013]\",\"2013\")\n",
    "df = df.withColumnRenamed(\"2014 [YR2014]\",\"2014\")\n",
    "df = df.withColumnRenamed(\"2015 [YR2015]\",\"2015\")\n",
    "df = df.withColumnRenamed(\"2016 [YR2016]\",\"2016\")\n",
    "df = df.withColumnRenamed(\"2017 [YR2017]\",\"2017\")\n",
    "df = df.withColumnRenamed(\"2018 [YR2018]\",\"2018\")\n",
    "df = df.withColumnRenamed(\"2019 [YR2019]\",\"2019\")\n",
    "df = df.withColumnRenamed(\"2020 [YR2020]\",\"2020\")\n",
    "df = df.withColumnRenamed(\"2021 [YR2021]\",\"2021\")\n",
    "df = df.withColumnRenamed(\"2022 [YR2022]\",\"2022\")\n",
    "df = df.withColumnRenamed(\"2023 [YR2023]\",\"2023\")\n",
    "df = df.withColumnRenamed(\"2024 [YR2024]\",\"2024\")\n",
    "df = df.withColumnRenamed(\"2025 [YR2025]\",\"2025\")"
   ]
  },
  {
   "cell_type": "code",
   "execution_count": 132,
   "metadata": {},
   "outputs": [],
   "source": [
    "# Melt the DataFrame to have the desired structure\n",
    "df = df.select(\"country\", explode(array([\n",
    "    struct(lit(year).alias(\"year\"), col(str(year)).alias(\"population\")) \n",
    "    for year in range(2000, 2025)\n",
    "])).alias(\"data\")).selectExpr(\"country\", \"data.year\", \"data.population\")"
   ]
  },
  {
   "cell_type": "code",
   "execution_count": 133,
   "metadata": {},
   "outputs": [
    {
     "name": "stdout",
     "output_type": "stream",
     "text": [
      "+-----------+----+----------+\n",
      "|    country|year|population|\n",
      "+-----------+----+----------+\n",
      "|Afghanistan|2000|  19542982|\n",
      "|Afghanistan|2001|  19688632|\n",
      "|Afghanistan|2002|  21000256|\n",
      "|Afghanistan|2003|  22645130|\n",
      "|Afghanistan|2004|  23553551|\n",
      "|Afghanistan|2005|  24411191|\n",
      "|Afghanistan|2006|  25442944|\n",
      "|Afghanistan|2007|  25903301|\n",
      "|Afghanistan|2008|  26427199|\n",
      "|Afghanistan|2009|  27385307|\n",
      "|Afghanistan|2010|  28189672|\n",
      "|Afghanistan|2011|  29249157|\n",
      "|Afghanistan|2012|  30466479|\n",
      "|Afghanistan|2013|  31541209|\n",
      "|Afghanistan|2014|  32716210|\n",
      "|Afghanistan|2015|  33753499|\n",
      "|Afghanistan|2016|  34636207|\n",
      "|Afghanistan|2017|  35643418|\n",
      "|Afghanistan|2018|  36686784|\n",
      "|Afghanistan|2019|  37769499|\n",
      "+-----------+----+----------+\n",
      "only showing top 20 rows\n",
      "\n"
     ]
    }
   ],
   "source": [
    "#Storing this dataframe in parquet\n",
    "df.write.mode(\"overwrite\").parquet(\"FilesParquet/Population.parquet\" )\n",
    "spark.read.parquet(\"FilesParquet/Population.parquet\").show()\n",
    "spark.stop()"
   ]
  }
 ],
 "metadata": {
  "kernelspec": {
   "display_name": "DataScience",
   "language": "python",
   "name": "python3"
  },
  "language_info": {
   "codemirror_mode": {
    "name": "ipython",
    "version": 3
   },
   "file_extension": ".py",
   "mimetype": "text/x-python",
   "name": "python",
   "nbconvert_exporter": "python",
   "pygments_lexer": "ipython3",
   "version": "3.11.5"
  }
 },
 "nbformat": 4,
 "nbformat_minor": 2
}
