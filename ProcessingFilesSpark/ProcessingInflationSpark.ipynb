{
 "cells": [
  {
   "cell_type": "markdown",
   "metadata": {},
   "source": [
    "<center>\n",
    "\n",
    "# $\\textbf{Inflation}$\n",
    "\n",
    "<center>"
   ]
  },
  {
   "cell_type": "markdown",
   "metadata": {},
   "source": [
    "### $\\textbf{Code}$"
   ]
  },
  {
   "cell_type": "code",
   "execution_count": 1,
   "metadata": {},
   "outputs": [],
   "source": [
    "import pandas as pd\n",
    "import time\n",
    "from pyspark.sql import SparkSession\n",
    "from pyspark.sql.types import StructType, StructField, StringType, DoubleType\n",
    "from pyspark.sql.functions import explode, col, lit, array, struct"
   ]
  },
  {
   "cell_type": "code",
   "execution_count": 2,
   "metadata": {},
   "outputs": [],
   "source": [
    "inicio = time.time()"
   ]
  },
  {
   "cell_type": "code",
   "execution_count": 3,
   "metadata": {},
   "outputs": [
    {
     "name": "stderr",
     "output_type": "stream",
     "text": [
      "24/03/14 16:33:02 WARN Utils: Your hostname, Francisco-MacBook-Pro.local resolves to a loopback address: 127.0.0.1; using 10.191.2.158 instead (on interface en0)\n",
      "24/03/14 16:33:02 WARN Utils: Set SPARK_LOCAL_IP if you need to bind to another address\n",
      "Ivy Default Cache set to: /Users/franciscoclaudino/.ivy2/cache\n",
      "The jars for the packages stored in: /Users/franciscoclaudino/.ivy2/jars\n",
      "com.crealytics#spark-excel_2.11 added as a dependency\n",
      ":: resolving dependencies :: org.apache.spark#spark-submit-parent-55f109fe-88db-4755-b73b-08f95d5c87ab;1.0\n",
      "\tconfs: [default]\n"
     ]
    },
    {
     "name": "stdout",
     "output_type": "stream",
     "text": [
      ":: loading settings :: url = jar:file:/Library/anaconda3/envs/DataScience/lib/python3.10/site-packages/pyspark/jars/ivy-2.5.1.jar!/org/apache/ivy/core/settings/ivysettings.xml\n"
     ]
    },
    {
     "name": "stderr",
     "output_type": "stream",
     "text": [
      "\tfound com.crealytics#spark-excel_2.11;0.12.2 in central\n",
      "\tfound org.apache.poi#poi;4.1.0 in central\n",
      "\tfound commons-codec#commons-codec;1.12 in central\n",
      "\tfound org.apache.commons#commons-collections4;4.3 in central\n",
      "\tfound org.apache.commons#commons-math3;3.6.1 in central\n",
      "\tfound org.apache.poi#poi-ooxml;4.1.0 in central\n",
      "\tfound org.apache.poi#poi-ooxml-schemas;4.1.0 in central\n",
      "\tfound org.apache.xmlbeans#xmlbeans;3.1.0 in central\n",
      "\tfound org.apache.commons#commons-compress;1.18 in central\n",
      "\tfound com.github.virtuald#curvesapi;1.06 in central\n",
      "\tfound com.norbitltd#spoiwo_2.11;1.6.0 in central\n",
      "\tfound org.scala-lang.modules#scala-xml_2.11;1.2.0 in central\n",
      "\tfound joda-time#joda-time;2.9.9 in central\n",
      "\tfound org.joda#joda-convert;2.0.1 in central\n",
      "\tfound com.fasterxml.jackson.core#jackson-core;2.8.8 in central\n",
      "\tfound com.monitorjbl#xlsx-streamer;2.1.0 in central\n",
      "\tfound com.rackspace.apache#xerces2-xsd11;2.11.1 in central\n",
      "\tfound com.rackspace.eclipse.webtools.sourceediting#org.eclipse.wst.xml.xpath2.processor;2.1.100 in central\n",
      "\tfound edu.princeton.cup#java-cup;10k in central\n",
      "\tfound com.ibm.icu#icu4j;4.6 in central\n",
      "\tfound xml-resolver#xml-resolver;1.2 in central\n",
      "\tfound xml-apis#xml-apis;1.4.01 in central\n",
      "\tfound org.slf4j#slf4j-api;1.7.25 in central\n",
      ":: resolution report :: resolve 264ms :: artifacts dl 15ms\n",
      "\t:: modules in use:\n",
      "\tcom.crealytics#spark-excel_2.11;0.12.2 from central in [default]\n",
      "\tcom.fasterxml.jackson.core#jackson-core;2.8.8 from central in [default]\n",
      "\tcom.github.virtuald#curvesapi;1.06 from central in [default]\n",
      "\tcom.ibm.icu#icu4j;4.6 from central in [default]\n",
      "\tcom.monitorjbl#xlsx-streamer;2.1.0 from central in [default]\n",
      "\tcom.norbitltd#spoiwo_2.11;1.6.0 from central in [default]\n",
      "\tcom.rackspace.apache#xerces2-xsd11;2.11.1 from central in [default]\n",
      "\tcom.rackspace.eclipse.webtools.sourceediting#org.eclipse.wst.xml.xpath2.processor;2.1.100 from central in [default]\n",
      "\tcommons-codec#commons-codec;1.12 from central in [default]\n",
      "\tedu.princeton.cup#java-cup;10k from central in [default]\n",
      "\tjoda-time#joda-time;2.9.9 from central in [default]\n",
      "\torg.apache.commons#commons-collections4;4.3 from central in [default]\n",
      "\torg.apache.commons#commons-compress;1.18 from central in [default]\n",
      "\torg.apache.commons#commons-math3;3.6.1 from central in [default]\n",
      "\torg.apache.poi#poi;4.1.0 from central in [default]\n",
      "\torg.apache.poi#poi-ooxml;4.1.0 from central in [default]\n",
      "\torg.apache.poi#poi-ooxml-schemas;4.1.0 from central in [default]\n",
      "\torg.apache.xmlbeans#xmlbeans;3.1.0 from central in [default]\n",
      "\torg.joda#joda-convert;2.0.1 from central in [default]\n",
      "\torg.scala-lang.modules#scala-xml_2.11;1.2.0 from central in [default]\n",
      "\torg.slf4j#slf4j-api;1.7.25 from central in [default]\n",
      "\txml-apis#xml-apis;1.4.01 from central in [default]\n",
      "\txml-resolver#xml-resolver;1.2 from central in [default]\n",
      "\t:: evicted modules:\n",
      "\torg.apache.poi#poi;4.0.0 by [org.apache.poi#poi;4.1.0] in [default]\n",
      "\torg.apache.poi#poi-ooxml;4.0.0 by [org.apache.poi#poi-ooxml;4.1.0] in [default]\n",
      "\torg.apache.poi#poi-ooxml-schemas;4.0.0 by [org.apache.poi#poi-ooxml-schemas;4.1.0] in [default]\n",
      "\t---------------------------------------------------------------------\n",
      "\t|                  |            modules            ||   artifacts   |\n",
      "\t|       conf       | number| search|dwnlded|evicted|| number|dwnlded|\n",
      "\t---------------------------------------------------------------------\n",
      "\t|      default     |   26  |   0   |   0   |   3   ||   23  |   0   |\n",
      "\t---------------------------------------------------------------------\n",
      ":: retrieving :: org.apache.spark#spark-submit-parent-55f109fe-88db-4755-b73b-08f95d5c87ab\n",
      "\tconfs: [default]\n",
      "\t0 artifacts copied, 23 already retrieved (0kB/11ms)\n",
      "24/03/14 16:33:02 WARN NativeCodeLoader: Unable to load native-hadoop library for your platform... using builtin-java classes where applicable\n",
      "Setting default log level to \"WARN\".\n",
      "To adjust logging level use sc.setLogLevel(newLevel). For SparkR, use setLogLevel(newLevel).\n"
     ]
    },
    {
     "data": {
      "text/html": [
       "\n",
       "            <div>\n",
       "                <p><b>SparkSession - in-memory</b></p>\n",
       "                \n",
       "        <div>\n",
       "            <p><b>SparkContext</b></p>\n",
       "\n",
       "            <p><a href=\"http://10.191.2.158:4040\">Spark UI</a></p>\n",
       "\n",
       "            <dl>\n",
       "              <dt>Version</dt>\n",
       "                <dd><code>v3.4.1</code></dd>\n",
       "              <dt>Master</dt>\n",
       "                <dd><code>local</code></dd>\n",
       "              <dt>AppName</dt>\n",
       "                <dd><code>Inflation</code></dd>\n",
       "            </dl>\n",
       "        </div>\n",
       "        \n",
       "            </div>\n",
       "        "
      ],
      "text/plain": [
       "<pyspark.sql.session.SparkSession at 0x14d33d120>"
      ]
     },
     "execution_count": 3,
     "metadata": {},
     "output_type": "execute_result"
    }
   ],
   "source": [
    "spark = SparkSession.builder.appName('Inflation').master(\"local\").config(\"spark.jars.packages\", \"com.crealytics:spark-excel_2.11:0.12.2\").getOrCreate()\n",
    "spark"
   ]
  },
  {
   "cell_type": "code",
   "execution_count": 4,
   "metadata": {},
   "outputs": [],
   "source": [
    "# Step 4: Read the Excel file using pandas\n",
    "pandas_df = pd.read_excel(\"../Files/Inflation.xlsx\")\n",
    "\n",
    "# Replace \"no data\" with NaN\n",
    "pandas_df.replace(\"no data\", float(\"nan\"), inplace=True)\n",
    "\n",
    "# Extract column names from the first row\n",
    "column_names = [str(col) for col in pandas_df.columns]\n",
    "\n",
    "# Step 5: Define the schema for the Spark DataFrame\n",
    "schema_fields = [StructField(column_names[0], StringType(), True)] + \\\n",
    "                [StructField(col, DoubleType(), True) for col in column_names[1:]]\n",
    "\n",
    "# Create schema\n",
    "schema = StructType(schema_fields)\n",
    "\n",
    "# Step 6: Convert the pandas DataFrame to a Spark DataFrame with the specified schema\n",
    "df = spark.createDataFrame(pandas_df, schema=schema)"
   ]
  },
  {
   "cell_type": "code",
   "execution_count": 5,
   "metadata": {},
   "outputs": [],
   "source": [
    "# Rename the columns \"location\" and \"total_cases\"\n",
    "df = df.withColumnRenamed(\"Inflation rate, average consumer prices (Annual percent change)\",\"country\")"
   ]
  },
  {
   "cell_type": "code",
   "execution_count": 6,
   "metadata": {},
   "outputs": [],
   "source": [
    "# Assuming df is properly defined DataFrame\n",
    "df = df.select(\"country\", explode(array([\n",
    "    struct(lit(year).alias(\"year\"), col(str(year)).alias(\"inflation\")) \n",
    "    for year in range(2000, 2025)\n",
    "])).alias(\"data\")).selectExpr(\"country\", \"data.year\", \"data.inflation\")"
   ]
  },
  {
   "cell_type": "code",
   "execution_count": 7,
   "metadata": {},
   "outputs": [],
   "source": [
    "# Cast columns to their desired types\n",
    "df = df.withColumn(\"country\", col(\"country\").cast(\"string\"))\n",
    "df = df.withColumn(\"year\", col(\"year\").cast(\"int\"))\n",
    "df = df.withColumn(\"inflation\", col(\"inflation\").cast(\"double\"))"
   ]
  },
  {
   "cell_type": "code",
   "execution_count": 8,
   "metadata": {},
   "outputs": [],
   "source": [
    "# Filter data for years greater than 2010 and lower than 2024\n",
    "df = df.filter(df[\"year\"] > 2010)\n",
    "df = df.filter(df[\"year\"] < 2024)"
   ]
  },
  {
   "cell_type": "code",
   "execution_count": 9,
   "metadata": {},
   "outputs": [],
   "source": [
    "# Order by country and then by year\n",
    "df = df.orderBy(\"country\", \"year\")"
   ]
  },
  {
   "cell_type": "markdown",
   "metadata": {},
   "source": [
    "### $\\textbf{Pre-Processing}$"
   ]
  },
  {
   "cell_type": "code",
   "execution_count": 10,
   "metadata": {},
   "outputs": [],
   "source": [
    "replacements = {\n",
    "    \"China, People's Republic of\": 'China',\n",
    "    'Gambia, The': 'Gambia',\n",
    "    'Micronesia, Fed. States of': 'Micronesia',\n",
    "    'South Sudan, Republic of': 'South Sudan',\n",
    "    'Taiwan Province of China': 'Taiwan',\n",
    "    'Türkiye, Republic of': 'Turkiye',\n",
    "    'Bahamas, The': 'Bahamas',\n",
    "    'Czech Republic': 'Czechia',\n",
    "    'Syria': 'Syrian Arab Republic',\n",
    "    \"Côte d'Ivoire\": \"Cote d'Ivoire\",\n",
    "    'Hong Kong SAR': 'Hong Kong',\n",
    "    'Lao P.D.R.': 'Lao PDR',\n",
    "    'Korea, Republic of': 'South Korea',\n",
    "    'Congo, Dem. Rep. of the': 'Democratic Republic of the Congo',\n",
    "    'Congo, Republic of ': 'Republic of the Congo',\n",
    "    'Pacific Islands ': 'Pacific island small states',\n",
    "    'North Macedonia ': 'North Macedonia'\n",
    "}\n",
    "\n",
    "# Rename columns based on replacements dictionary\n",
    "for old_value, new_value in replacements.items():\n",
    "    df = df.withColumnRenamed(old_value, new_value)"
   ]
  },
  {
   "cell_type": "code",
   "execution_count": 11,
   "metadata": {},
   "outputs": [],
   "source": [
    "# Columns to drop\n",
    "countries_to_remove = ['ASEAN-5', \n",
    "                       'Advanced economies', \n",
    "                       'Africa (Region)', \n",
    "                       'Asia and Pacific', \n",
    "                       'Australia and New Zealand', \n",
    "                       'Central America', \n",
    "                       'Central Asia and the Caucasus', \n",
    "                       '©IMF, 2023',\n",
    "                       'East Asia',\n",
    "                       'Eastern Europe ',\n",
    "                       'Emerging and Developing Asia',\n",
    "                       'Emerging and Developing Europe',\n",
    "                       'Emerging market and developing economies',\n",
    "                       'Euro area',\n",
    "                       'Europe',\n",
    "                       'European Union',\n",
    "                       'Latin America and the Caribbean',\n",
    "                       'Macao SAR',\n",
    "                       'Major advanced economies (G7)',\n",
    "                       'Middle East (Region)',\n",
    "                       'Middle East and Central Asia',\n",
    "                       'North Africa',\n",
    "                       'North America',\n",
    "                       'North Macedonia',\n",
    "                       'Other advanced economies',\n",
    "                       'South America',\n",
    "                       'South Asia',\n",
    "                       'Southeast Asia',\n",
    "                       'Sub-Saharan Africa',\n",
    "                       'Sub-Saharan Africa (Region)',\n",
    "                       'Western Europe',\n",
    "                       'Western Hemisphere (Region)',\n",
    "                       'World',\n",
    "                       'nan']\n",
    "\n",
    "# Drop the specified rows\n",
    "df = df.filter(~df['country'].isin(countries_to_remove))"
   ]
  },
  {
   "cell_type": "code",
   "execution_count": 12,
   "metadata": {},
   "outputs": [],
   "source": [
    "# Remove rows with missing values in the 'country' column\n",
    "df = df.dropna(subset=['country'])"
   ]
  },
  {
   "cell_type": "code",
   "execution_count": 13,
   "metadata": {},
   "outputs": [
    {
     "name": "stderr",
     "output_type": "stream",
     "text": [
      "24/03/14 16:33:06 WARN package: Truncated the string representation of a plan since it was too large. This behavior can be adjusted by setting 'spark.sql.debug.maxToStringFields'.\n",
      "                                                                                \r"
     ]
    },
    {
     "name": "stdout",
     "output_type": "stream",
     "text": [
      "+-----------+----+---------+\n",
      "|    country|year|inflation|\n",
      "+-----------+----+---------+\n",
      "|Afghanistan|2011|     11.8|\n",
      "|Afghanistan|2012|      6.4|\n",
      "|Afghanistan|2013|      7.4|\n",
      "|Afghanistan|2014|      4.7|\n",
      "|Afghanistan|2015|     -0.7|\n",
      "|Afghanistan|2016|      4.4|\n",
      "|Afghanistan|2017|      5.0|\n",
      "|Afghanistan|2018|      0.6|\n",
      "|Afghanistan|2019|      2.3|\n",
      "|Afghanistan|2020|      5.6|\n",
      "|Afghanistan|2021|      5.1|\n",
      "|Afghanistan|2022|     13.7|\n",
      "|Afghanistan|2023|      NaN|\n",
      "|    Albania|2011|      3.4|\n",
      "|    Albania|2012|      2.0|\n",
      "|    Albania|2013|      1.9|\n",
      "|    Albania|2014|      1.6|\n",
      "|    Albania|2015|      1.9|\n",
      "|    Albania|2016|      1.3|\n",
      "|    Albania|2017|      2.0|\n",
      "+-----------+----+---------+\n",
      "only showing top 20 rows\n",
      "\n"
     ]
    }
   ],
   "source": [
    "#Storing this dataframe in parquet\n",
    "df.write.mode(\"overwrite\").parquet(\"../FilesParquet/Inflation.parquet\" )\n",
    "spark.read.parquet(\"../FilesParquet/Inflation.parquet\").show()\n",
    "spark.stop()"
   ]
  },
  {
   "cell_type": "code",
   "execution_count": 14,
   "metadata": {},
   "outputs": [
    {
     "name": "stdout",
     "output_type": "stream",
     "text": [
      "10.069801092147827\n"
     ]
    }
   ],
   "source": [
    "fim = time.time()\n",
    "final = fim - inicio\n",
    "print(final)"
   ]
  }
 ],
 "metadata": {
  "kernelspec": {
   "display_name": "DataScience",
   "language": "python",
   "name": "python3"
  },
  "language_info": {
   "codemirror_mode": {
    "name": "ipython",
    "version": 3
   },
   "file_extension": ".py",
   "mimetype": "text/x-python",
   "name": "python",
   "nbconvert_exporter": "python",
   "pygments_lexer": "ipython3",
   "version": "3.10.13"
  }
 },
 "nbformat": 4,
 "nbformat_minor": 2
}
