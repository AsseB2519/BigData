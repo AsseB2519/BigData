{
 "cells": [
  {
   "cell_type": "markdown",
   "metadata": {},
   "source": [
    "<center>\n",
    "\n",
    "# $\\textbf{Gross Domestic Product }$\n",
    "\n",
    "<center>"
   ]
  },
  {
   "cell_type": "markdown",
   "metadata": {},
   "source": [
    "### $\\textbf{Code}$"
   ]
  },
  {
   "cell_type": "code",
   "execution_count": 1,
   "metadata": {},
   "outputs": [],
   "source": [
    "from pyspark.sql import SparkSession\n",
    "from pyspark.sql.functions import explode, col, lit, array, struct\n",
    "import time"
   ]
  },
  {
   "cell_type": "code",
   "execution_count": 2,
   "metadata": {},
   "outputs": [],
   "source": [
    "inicio = time.time()"
   ]
  },
  {
   "cell_type": "code",
   "execution_count": 3,
   "metadata": {},
   "outputs": [
    {
     "name": "stderr",
     "output_type": "stream",
     "text": [
      "24/03/14 16:32:16 WARN Utils: Your hostname, Francisco-MacBook-Pro.local resolves to a loopback address: 127.0.0.1; using 10.191.2.158 instead (on interface en0)\n",
      "24/03/14 16:32:16 WARN Utils: Set SPARK_LOCAL_IP if you need to bind to another address\n",
      "Setting default log level to \"WARN\".\n",
      "To adjust logging level use sc.setLogLevel(newLevel). For SparkR, use setLogLevel(newLevel).\n",
      "24/03/14 16:32:16 WARN NativeCodeLoader: Unable to load native-hadoop library for your platform... using builtin-java classes where applicable\n"
     ]
    },
    {
     "data": {
      "text/html": [
       "\n",
       "            <div>\n",
       "                <p><b>SparkSession - hive</b></p>\n",
       "                \n",
       "        <div>\n",
       "            <p><b>SparkContext</b></p>\n",
       "\n",
       "            <p><a href=\"http://10.191.2.158:4040\">Spark UI</a></p>\n",
       "\n",
       "            <dl>\n",
       "              <dt>Version</dt>\n",
       "                <dd><code>v3.4.1</code></dd>\n",
       "              <dt>Master</dt>\n",
       "                <dd><code>local</code></dd>\n",
       "              <dt>AppName</dt>\n",
       "                <dd><code>GDP</code></dd>\n",
       "            </dl>\n",
       "        </div>\n",
       "        \n",
       "            </div>\n",
       "        "
      ],
      "text/plain": [
       "<pyspark.sql.session.SparkSession at 0x104c2a440>"
      ]
     },
     "execution_count": 3,
     "metadata": {},
     "output_type": "execute_result"
    }
   ],
   "source": [
    "spark = SparkSession.builder.appName('GDP').master(\"local\").enableHiveSupport().getOrCreate()\n",
    "spark"
   ]
  },
  {
   "cell_type": "code",
   "execution_count": 4,
   "metadata": {},
   "outputs": [],
   "source": [
    "# Creating dataframe from the csv file and infering the schema\n",
    "df = spark.read.load(\"../Files/GDP.csv\", format=\"csv\", sep=\",\", inferschema=\"true\", header=\"true\")"
   ]
  },
  {
   "cell_type": "code",
   "execution_count": 5,
   "metadata": {},
   "outputs": [],
   "source": [
    "# Assuming df is properly defined DataFrame\n",
    "df = df.select(\"country\", explode(array([\n",
    "    struct(lit(year).alias(\"year\"), col(str(year)).alias(\"gdp\")) \n",
    "    for year in range(2000, 2025)\n",
    "])).alias(\"data\")).selectExpr(\"country\", \"data.year\", \"data.gdp\")"
   ]
  },
  {
   "cell_type": "code",
   "execution_count": 6,
   "metadata": {},
   "outputs": [],
   "source": [
    "# Cast columns to their desired types\n",
    "df = df.withColumn(\"country\", col(\"country\").cast(\"string\"))\n",
    "df = df.withColumn(\"year\", col(\"year\").cast(\"int\"))\n",
    "df = df.withColumn(\"gdp\", col(\"gdp\").cast(\"double\"))"
   ]
  },
  {
   "cell_type": "code",
   "execution_count": 7,
   "metadata": {},
   "outputs": [],
   "source": [
    "# Filter data for years greater than 2010 and lower than 2024\n",
    "df = df.filter(df[\"year\"] > 2010)\n",
    "df = df.filter(df[\"year\"] < 2024)"
   ]
  },
  {
   "cell_type": "code",
   "execution_count": 8,
   "metadata": {},
   "outputs": [],
   "source": [
    "# Order by country and then by year\n",
    "df = df.orderBy(\"country\", \"year\")"
   ]
  },
  {
   "cell_type": "markdown",
   "metadata": {},
   "source": [
    "### $\\textbf{Pre-Processing}$"
   ]
  },
  {
   "cell_type": "code",
   "execution_count": 9,
   "metadata": {},
   "outputs": [],
   "source": [
    "# Rename the column\n",
    "df = df.withColumnRenamed(\"China, People\\'s Republic of\",\"China\")\n",
    "df = df.withColumnRenamed(\"Gambia, The\",\"Gambia\")\n",
    "df = df.withColumnRenamed(\"Micronesia, Fed. States of\",\"Micronesia\")\n",
    "df = df.withColumnRenamed(\"South Sudan, Republic of\",\"South Sudan\")\n",
    "df = df.withColumnRenamed(\"Taiwan Province of China\",\"Taiwan\")\n",
    "df = df.withColumnRenamed(\"Türkiye, Republic of\",\"Turkiye\")\n",
    "df = df.withColumnRenamed(\"Bahamas, The\",\"Bahamas\")\n",
    "df = df.withColumnRenamed(\"Syria\",\"Syrian Arab Republic\")\n",
    "df = df.withColumnRenamed(\"Czech Republic\",\"Czechia\")\n",
    "df = df.withColumnRenamed(\"Korea, Republic of\",\"South Korea\")\n",
    "df = df.withColumnRenamed(\"Côte d\\'Ivoire\",\"Cote d\\'Ivoire\")\n",
    "df = df.withColumnRenamed(\"Hong Kong SAR\",\"Hong Kong\")\n",
    "df = df.withColumnRenamed(\"Lao P.D.R.\",\"Lao PDR\")\n",
    "df = df.withColumnRenamed(\"Congo, Republic of \",\"Republic of the Congo\")\n",
    "df = df.withColumnRenamed(\"Congo, Dem. Rep. of the\",\"Democratic Republic of the Congo\")\n",
    "df = df.withColumnRenamed(\"Pacific Islands \",\"Pacific island small states\")\n",
    "df = df.withColumnRenamed(\"North Macedonia \",\"North Macedonia\")"
   ]
  },
  {
   "cell_type": "code",
   "execution_count": 10,
   "metadata": {},
   "outputs": [],
   "source": [
    "# Columns to drop\n",
    "countries_to_remove = [\"ASEAN-5\",\"Advanced economies\", \"Africa (Region)\",\"Asia and Pacific\", \"Australia and New Zealand\",\"Central America\",\n",
    "        \"Central Asia and the Caucasus\",\"©IMF, 2023\",\"East Asia\",\"Eastern Europe \",\"Emerging and Developing Asia\",\n",
    "        \"Emerging and Developing Europe\",\"Emerging market and developing economies\",\"Euro area\",\"Europe\",\"European Union\",\n",
    "        \"Latin America and the Caribbean\",\"Macao SAR\",\"Major advanced economies (G7)\",\"Middle East (Region)\",\"Middle East and Central Asia\",\n",
    "        \"North Africa\",\"North America\",\"North Macedonia\",\"Other advanced economies\",\"South America\",\"South Asia\",\"Southeast Asia\",\n",
    "        \"Sub-Saharan Africa\",\"Sub-Saharan Africa (Region)\",\"Western Europe\",\"Western Hemisphere (Region)\",\"World\"]\n",
    "\n",
    "df = df.filter(~df[\"country\"].isin(countries_to_remove))"
   ]
  },
  {
   "cell_type": "code",
   "execution_count": 11,
   "metadata": {},
   "outputs": [
    {
     "name": "stderr",
     "output_type": "stream",
     "text": [
      "24/03/14 16:32:20 WARN package: Truncated the string representation of a plan since it was too large. This behavior can be adjusted by setting 'spark.sql.debug.maxToStringFields'.\n",
      "                                                                                \r"
     ]
    },
    {
     "name": "stdout",
     "output_type": "stream",
     "text": [
      "+-----------+----+--------+\n",
      "|    country|year|     gdp|\n",
      "+-----------+----+--------+\n",
      "|Afghanistan|2011|   714.7|\n",
      "|Afghanistan|2012| 784.611|\n",
      "|Afghanistan|2013| 754.402|\n",
      "|Afghanistan|2014| 746.922|\n",
      "|Afghanistan|2015| 705.597|\n",
      "|Afghanistan|2016| 617.126|\n",
      "|Afghanistan|2017| 635.789|\n",
      "|Afghanistan|2018| 582.323|\n",
      "|Afghanistan|2019| 586.204|\n",
      "|Afghanistan|2020| 611.268|\n",
      "|Afghanistan|2021| 443.385|\n",
      "|Afghanistan|2022|     0.0|\n",
      "|Afghanistan|2023|     0.0|\n",
      "|    Albania|2011| 4439.89|\n",
      "|    Albania|2012|4248.909|\n",
      "|    Albania|2013|  4415.6|\n",
      "|    Albania|2014|4584.919|\n",
      "|    Albania|2015|3953.611|\n",
      "|    Albania|2016|4124.405|\n",
      "|    Albania|2017|4525.887|\n",
      "+-----------+----+--------+\n",
      "only showing top 20 rows\n",
      "\n"
     ]
    }
   ],
   "source": [
    "#Storing this dataframe in parquet\n",
    "df.write.mode(\"overwrite\").parquet(\"../FilesParquet/GDP.parquet\" )\n",
    "spark.read.parquet(\"../FilesParquet/GDP.parquet\").show()\n",
    "spark.stop()"
   ]
  },
  {
   "cell_type": "code",
   "execution_count": 12,
   "metadata": {},
   "outputs": [
    {
     "name": "stdout",
     "output_type": "stream",
     "text": [
      "6.553692817687988\n"
     ]
    }
   ],
   "source": [
    "fim = time.time()\n",
    "final = fim - inicio\n",
    "print(final)"
   ]
  }
 ],
 "metadata": {
  "kernelspec": {
   "display_name": "DataScience",
   "language": "python",
   "name": "python3"
  },
  "language_info": {
   "codemirror_mode": {
    "name": "ipython",
    "version": 3
   },
   "file_extension": ".py",
   "mimetype": "text/x-python",
   "name": "python",
   "nbconvert_exporter": "python",
   "pygments_lexer": "ipython3",
   "version": "3.10.13"
  }
 },
 "nbformat": 4,
 "nbformat_minor": 2
}
