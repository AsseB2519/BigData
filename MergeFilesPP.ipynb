{
 "cells": [
  {
   "cell_type": "markdown",
   "metadata": {},
   "source": [
    "<center>\n",
    "\n",
    "# $\\textbf{Inflation}$\n",
    "\n",
    "<center>"
   ]
  },
  {
   "cell_type": "markdown",
   "metadata": {},
   "source": [
    "### $\\textbf{Code}$"
   ]
  },
  {
   "cell_type": "code",
   "execution_count": 577,
   "metadata": {},
   "outputs": [],
   "source": [
    "import pandas as pd"
   ]
  },
  {
   "cell_type": "code",
   "execution_count": 578,
   "metadata": {},
   "outputs": [],
   "source": [
    "# Read the CSVs files into a DataFrames\n",
    "inflation = pd.read_csv('FilesPP/Inflation.csv')\n",
    "covid = pd.read_csv('FilesPP/Covid.csv')\n",
    "tax = pd.read_csv('FilesPP/Tax2.csv')\n",
    "migration = pd.read_csv('FilesPP/Migration2.csv')\n",
    "population = pd.read_csv('FilesPP/Population.csv')\n",
    "gdp = pd.read_csv('FilesPP/GDP.csv')\n",
    "unemployment = pd.read_csv('FilesPP/Unemployment2.csv')"
   ]
  },
  {
   "cell_type": "code",
   "execution_count": 579,
   "metadata": {},
   "outputs": [],
   "source": [
    "# Convert data types if needed\n",
    "inflation['country'] = inflation['country'].astype(str)\n",
    "inflation['year'] = inflation['year'].astype(int)\n",
    "\n",
    "covid['country'] = covid['country'].astype(str)\n",
    "covid['year'] = covid['year'].astype(int)\n",
    "\n",
    "tax['country'] = tax['country'].astype(str)\n",
    "tax['year'] = tax['year'].astype(int)\n",
    "\n",
    "migration['country'] = migration['country'].astype(str)\n",
    "migration['year'] = migration['year'].astype(int)\n",
    "\n",
    "population['country'] = population['country'].astype(str)\n",
    "population['year'] = population['year'].astype(int)\n",
    "\n",
    "gdp['country'] = gdp['country'].astype(str)\n",
    "gdp['year'] = gdp['year'].astype(int)\n",
    "\n",
    "unemployment['country'] = unemployment['country'].astype(str)\n",
    "unemployment['year'] = unemployment['year'].astype(int)"
   ]
  },
  {
   "cell_type": "code",
   "execution_count": 580,
   "metadata": {},
   "outputs": [],
   "source": [
    "# Filter data for years greater than 2010\n",
    "inflation = inflation[inflation['year'] > 2010]\n",
    "covid = covid[covid['year'] > 2010]\n",
    "tax = tax[tax['year'] > 2010]\n",
    "migration = migration[migration['year'] > 2010]\n",
    "population = population[population['year'] > 2010]\n",
    "gdp = gdp[gdp['year'] > 2010]\n",
    "unemployment = unemployment[unemployment['year'] > 2010]"
   ]
  },
  {
   "cell_type": "code",
   "execution_count": 581,
   "metadata": {},
   "outputs": [],
   "source": [
    "# Filter data for years lower than 2024\n",
    "inflation = inflation[inflation['year'] < 2024]\n",
    "covid = covid[covid['year'] < 2024]\n",
    "tax = tax[tax['year'] < 2024]\n",
    "migration = migration[migration['year'] < 2024]\n",
    "population = population[population['year'] < 2024]\n",
    "gdp = gdp[gdp['year'] < 2024]\n",
    "unemployment = unemployment[unemployment['year'] < 2024]"
   ]
  },
  {
   "cell_type": "code",
   "execution_count": 582,
   "metadata": {},
   "outputs": [],
   "source": [
    "# Merge the dataframes\n",
    "merged_data = inflation.merge(covid, on=['country', 'year'], how='outer') \\\n",
    "    .merge(migration, on=['country', 'year'], how='outer') \\\n",
    "    .merge(population, on=['country', 'year'], how='outer') \\\n",
    "    .merge(gdp, on=['country', 'year'], how='outer') \\\n",
    "    .merge(unemployment, on=['country', 'year'], how='outer') \\\n",
    "    .merge(tax, on=['country', 'year'], how='outer')"
   ]
  },
  {
   "cell_type": "code",
   "execution_count": 583,
   "metadata": {},
   "outputs": [],
   "source": [
    "# Sort the merged data by country and then by year\n",
    "merged_data = merged_data.sort_values(by=['country', 'year'])"
   ]
  },
  {
   "cell_type": "code",
   "execution_count": 584,
   "metadata": {},
   "outputs": [],
   "source": [
    "# Save the merged dataframe to a new CSV file\n",
    "merged_data.to_csv('FinalOuterPP.csv', index=False)"
   ]
  },
  {
   "cell_type": "markdown",
   "metadata": {},
   "source": [
    "### $\\textbf{Pre-Processing}$"
   ]
  },
  {
   "cell_type": "code",
   "execution_count": 585,
   "metadata": {},
   "outputs": [],
   "source": [
    "# Read the CSV file into a DataFrame\n",
    "df = pd.read_csv('FinalOuterPP.csv')"
   ]
  },
  {
   "cell_type": "code",
   "execution_count": 586,
   "metadata": {},
   "outputs": [],
   "source": [
    "# Drop the specified columns\n",
    "columns_to_drop = ['t. Lucia',\n",
    "                   'ali', \n",
    "                   'alau',\n",
    "                   'Anguilla',\n",
    "                   'Bonaire Sint Eustatius and Saba',\n",
    "                   'Cook Islands',\n",
    "                   'American Samoa',\n",
    "                   'Arab World',\n",
    "                   'European Union',\n",
    "                   'Faeroe Islands',\n",
    "                   'Falkland Islands',\n",
    "                   'Faroe Islands',\n",
    "                   'French Guiana',\n",
    "                   'Guadeloupe',\n",
    "                   'Guernsey',\n",
    "                   'High income',\n",
    "                   'Isle of Man',\n",
    "                   'Jersey',\n",
    "                   'Kyrgyzstan',\n",
    "                   'Late-demographic dividend',\n",
    "                   'Latin America & Caribbean',\n",
    "                   'Low income',\n",
    "                   'Macao',              \n",
    "                   'Martinique',\n",
    "                   'Mayotte',\n",
    "                   'Montserrat',\n",
    "                   'Niue',\n",
    "                   'North America',\n",
    "                   'North Korea',\n",
    "                   'Northern Cyprus',\n",
    "                   'Northern Ireland',\n",
    "                   'Oceania',\n",
    "                   'Western Sahara',\n",
    "                   'Wales',\n",
    "                   'Wallis and Futuna',\n",
    "                   'Vatican',\n",
    "                   'Tokelau',\n",
    "                   'Sub-Saharan Africa',\n",
    "                   'Sub-Saharan Africa (Region) ',\n",
    "                   'St. Lucia',\n",
    "                   'St. Martin',\n",
    "                   'St. Martin (French part)'\n",
    "                   'South America',\n",
    "                   'Sint Maarten',\n",
    "                   'Sint Maarten (Dutch part)',\n",
    "                   'Scotland'\n",
    "                   ]\n",
    "\n",
    "df = df[~df['country'].isin(columns_to_drop)]"
   ]
  },
  {
   "cell_type": "code",
   "execution_count": 587,
   "metadata": {},
   "outputs": [],
   "source": [
    "# df['country'] = df['country'].replace('Yemen, Rep.', 'Yemen')"
   ]
  },
  {
   "cell_type": "code",
   "execution_count": 588,
   "metadata": {},
   "outputs": [],
   "source": [
    "# # Filter Yemen and Yemen, Rep. data\n",
    "# df_combined = df[df['country'].isin(['Yemen', 'Yemen, Rep.'])]\n",
    "\n",
    "# # Replace 'Yemen, Rep.' with 'Yemen' in the 'Country' column\n",
    "# df_combined['country'] = df_combined['country'].replace('Yemen, Rep.', 'Yemen')\n",
    "\n",
    "# # Group by year\n",
    "# grouped = df_combined.groupby('year')"
   ]
  },
  {
   "cell_type": "code",
   "execution_count": 589,
   "metadata": {},
   "outputs": [],
   "source": [
    "# Split the DataFrame into two based on the country column\n",
    "# df_yemen = df[df['country'] == 'Yemen']\n",
    "# df_yemen_rep = df[df['country'] == 'Yemen, Rep.']\n",
    "\n",
    "# Merge the two DataFrames on the 'Year' column\n",
    "# result = pd.merge(df_yemen, df_yemen_rep, on='year')\n",
    "\n",
    "# print(result)\n",
    "# Filter only rows where the country is \"Yemen\"\n",
    "# result = result[result['country'] == 'Yemen']\n",
    "\n",
    "# Drop the duplicate 'Country' column\n",
    "# result.drop('country', axis=1, inplace=True)"
   ]
  },
  {
   "cell_type": "code",
   "execution_count": 590,
   "metadata": {},
   "outputs": [],
   "source": [
    "# # Merge the two DataFrames on the 'Year' column\n",
    "# result = pd.merge(df_yemen, df_yemen_rep, on='Year', suffixes=('_yemen', '_yemen_rep'))"
   ]
  },
  {
   "cell_type": "code",
   "execution_count": 591,
   "metadata": {},
   "outputs": [],
   "source": [
    "# Sort the merged data by country and then by year\n",
    "df = df.sort_values(by=['country', 'year'])"
   ]
  },
  {
   "cell_type": "code",
   "execution_count": 592,
   "metadata": {},
   "outputs": [],
   "source": [
    "# Save the merged dataframe to a new CSV file\n",
    "df.to_csv('FinalOuterPP.csv', index=False)"
   ]
  }
 ],
 "metadata": {
  "kernelspec": {
   "display_name": "daa1",
   "language": "python",
   "name": "python3"
  },
  "language_info": {
   "codemirror_mode": {
    "name": "ipython",
    "version": 3
   },
   "file_extension": ".py",
   "mimetype": "text/x-python",
   "name": "python",
   "nbconvert_exporter": "python",
   "pygments_lexer": "ipython3",
   "version": "3.11.5"
  }
 },
 "nbformat": 4,
 "nbformat_minor": 2
}
