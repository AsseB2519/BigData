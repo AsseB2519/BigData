{
 "cells": [
  {
   "cell_type": "markdown",
   "metadata": {},
   "source": [
    "<center>\n",
    "\n",
    "# $\\textbf{Merge Files}$\n",
    "\n",
    "<center>"
   ]
  },
  {
   "cell_type": "markdown",
   "metadata": {},
   "source": [
    "### $\\textbf{Code}$"
   ]
  },
  {
   "cell_type": "code",
   "execution_count": 1,
   "metadata": {},
   "outputs": [],
   "source": [
    "from pyspark.sql import SparkSession\n",
    "from pyspark.sql.functions import when, col\n",
    "import os\n",
    "import time"
   ]
  },
  {
   "cell_type": "code",
   "execution_count": 2,
   "metadata": {},
   "outputs": [],
   "source": [
    "inicio = time.time()\n",
    "os.environ['PYSPARK_SUBMIT_ARGS'] = '--conf \"spark.executor.extraJavaOptions=-XX:ReservedCodeCacheSize=2048m\" --conf \"spark.driver.extraJavaOptions=-XX:ReservedCodeCacheSize=2048m\" pyspark-shell'"
   ]
  },
  {
   "cell_type": "code",
   "execution_count": 3,
   "metadata": {},
   "outputs": [
    {
     "name": "stderr",
     "output_type": "stream",
     "text": [
      "24/03/14 16:41:38 WARN Utils: Your hostname, Francisco-MacBook-Pro.local resolves to a loopback address: 127.0.0.1; using 10.191.2.158 instead (on interface en0)\n",
      "24/03/14 16:41:38 WARN Utils: Set SPARK_LOCAL_IP if you need to bind to another address\n",
      "Setting default log level to \"WARN\".\n",
      "To adjust logging level use sc.setLogLevel(newLevel). For SparkR, use setLogLevel(newLevel).\n",
      "24/03/14 16:41:38 WARN NativeCodeLoader: Unable to load native-hadoop library for your platform... using builtin-java classes where applicable\n"
     ]
    },
    {
     "data": {
      "text/html": [
       "\n",
       "            <div>\n",
       "                <p><b>SparkSession - hive</b></p>\n",
       "                \n",
       "        <div>\n",
       "            <p><b>SparkContext</b></p>\n",
       "\n",
       "            <p><a href=\"http://10.191.2.158:4040\">Spark UI</a></p>\n",
       "\n",
       "            <dl>\n",
       "              <dt>Version</dt>\n",
       "                <dd><code>v3.4.1</code></dd>\n",
       "              <dt>Master</dt>\n",
       "                <dd><code>local</code></dd>\n",
       "              <dt>AppName</dt>\n",
       "                <dd><code>MergeFiles</code></dd>\n",
       "            </dl>\n",
       "        </div>\n",
       "        \n",
       "            </div>\n",
       "        "
      ],
      "text/plain": [
       "<pyspark.sql.session.SparkSession at 0x10d976320>"
      ]
     },
     "execution_count": 3,
     "metadata": {},
     "output_type": "execute_result"
    }
   ],
   "source": [
    "spark = SparkSession.builder.appName('MergeFiles').master(\"local\").enableHiveSupport().getOrCreate()\n",
    "spark"
   ]
  },
  {
   "cell_type": "code",
   "execution_count": 4,
   "metadata": {},
   "outputs": [
    {
     "name": "stderr",
     "output_type": "stream",
     "text": [
      "                                                                                \r"
     ]
    }
   ],
   "source": [
    "# Set paths to the Parquet files\n",
    "file_paths = [\"../FilesParquet/Covid.parquet\", \"../FilesParquet/GDP.parquet\", \"../FilesParquet/Inflation.parquet\",\n",
    "              \"../FilesParquet/Migration.parquet\", \"../FilesParquet/Population.parquet\", \"../FilesParquet/Tax.parquet\",\n",
    "              \"../FilesParquet/Unemployment.parquet\"]\n",
    "\n",
    "# Read Parquet files into DataFrames\n",
    "dfs = [spark.read.parquet(file_path) for file_path in file_paths]\n",
    "\n",
    "# Merge or outer join the DataFrames\n",
    "merged_df = dfs[0]\n",
    "\n",
    "for df in dfs[1:]:\n",
    "    merged_df = merged_df.join(df, on=[\"country\",\"year\"], how=\"outer\")"
   ]
  },
  {
   "cell_type": "markdown",
   "metadata": {},
   "source": [
    "### $\\textbf{Pre-Processing}$"
   ]
  },
  {
   "cell_type": "code",
   "execution_count": 5,
   "metadata": {},
   "outputs": [],
   "source": [
    "replacements = {\n",
    "    \"Korea\": \"North Korea\",\n",
    "    \"Pacific island small states\": \"Pacific Islands\"\n",
    "}\n",
    "\n",
    "# Rename columns based on replacements dictionary\n",
    "for old_value, new_value in replacements.items():\n",
    "    merged_df = merged_df.withColumnRenamed(old_value, new_value)"
   ]
  },
  {
   "cell_type": "code",
   "execution_count": 6,
   "metadata": {},
   "outputs": [],
   "source": [
    "# Drop the specified columns\n",
    "columns_to_drop = ['t. Lucia',\n",
    "                   'ali', \n",
    "                   'alau',\n",
    "                   'Anguilla',\n",
    "                   'Bonaire Sint Eustatius and Saba',\n",
    "                   'Cook Islands',\n",
    "                   'American Samoa',\n",
    "                   'Arab World',\n",
    "                   'European Union',\n",
    "                   'Faeroe Islands',\n",
    "                   'Falkland Islands',\n",
    "                   'Faroe Islands',\n",
    "                   'French Guiana',\n",
    "                   'Guadeloupe',\n",
    "                   'Guernsey',\n",
    "                   'High income',\n",
    "                   'Isle of Man',\n",
    "                   'Jersey',\n",
    "                   'Kyrgyzstan',\n",
    "                   'Late-demographic dividend',\n",
    "                   'Latin America & Caribbean',\n",
    "                   'Low income',\n",
    "                   'Macao',              \n",
    "                   'Martinique',\n",
    "                   'Mayotte',\n",
    "                   'Montserrat',\n",
    "                   'Niue',\n",
    "                   'North America',\n",
    "                   'North Korea',\n",
    "                   'Northern Cyprus',\n",
    "                   'Northern Ireland',\n",
    "                   'Oceania',\n",
    "                   'Western Sahara',\n",
    "                   'Wales',\n",
    "                   'Wallis and Futuna',\n",
    "                   'Vatican',\n",
    "                   'Tokelau',\n",
    "                   'Sub-Saharan Africa',\n",
    "                   'Sub-Saharan Africa (Region) ',\n",
    "                   'St. Lucia',\n",
    "                   'St. Martin',\n",
    "                   'Sint Maarten',\n",
    "                   'Sint Maarten (Dutch part)',\n",
    "                   'Scotland',\n",
    "                   'Saint Martin',\n",
    "                   'Saint Lucia',\n",
    "                   'Saint Helena',\n",
    "                   'Reunion',\n",
    "                   'Post-demographic dividend',\n",
    "                   'Pitcairn',\n",
    "                   'Palestine',\n",
    "                   'England',\n",
    "                   'Saint Pierre and Miquelon',\n",
    "                   'Saint Barthelemy',\n",
    "                   'South America',\n",
    "                   'St. Martin (French part)'\n",
    "                   ]\n",
    "\n",
    "# Drop the specified rows\n",
    "merged_df = merged_df.filter(~df['country'].isin(columns_to_drop))"
   ]
  },
  {
   "cell_type": "code",
   "execution_count": 7,
   "metadata": {},
   "outputs": [],
   "source": [
    "# Rename \"no data\" to \"nan\"\n",
    "merged_df = merged_df.withColumn(\"country\", when(df[\"country\"] == \"no data\", \"nan\").otherwise(df[\"country\"]))\n",
    "merged_df = merged_df.withColumn(\"covid_cases\", when(col(\"covid_cases\").isNull(), 0).otherwise(col(\"covid_cases\")))"
   ]
  },
  {
   "cell_type": "code",
   "execution_count": 8,
   "metadata": {},
   "outputs": [],
   "source": [
    "# Sort the merged data by country and then by year\n",
    "merged_df = merged_df.orderBy(col('country'), col('year'))"
   ]
  },
  {
   "cell_type": "code",
   "execution_count": 9,
   "metadata": {},
   "outputs": [
    {
     "name": "stderr",
     "output_type": "stream",
     "text": [
      "Java HotSpot(TM) 64-Bit Server VM warning: CodeCache is full. Compiler has been disabled.\n",
      "Java HotSpot(TM) 64-Bit Server VM warning: Try increasing the code cache size using -XX:ReservedCodeCacheSize=\n"
     ]
    },
    {
     "name": "stdout",
     "output_type": "stream",
     "text": [
      "CodeCache: size=2097152Kb used=30080Kb max_used=30080Kb free=2067071Kb\n",
      " bounds [0x0000000280000000, 0x0000000281d80000, 0x0000000300000000]\n",
      " total_blobs=10188 nmethods=9216 adapters=884\n",
      " compilation: disabled (not enough contiguous free space left)\n"
     ]
    },
    {
     "name": "stderr",
     "output_type": "stream",
     "text": [
      "                                                                                \r"
     ]
    },
    {
     "name": "stdout",
     "output_type": "stream",
     "text": [
      "+-----------+----+-----------+--------+---------+---------+----------+----------------+------------+\n",
      "|    country|year|covid_cases|     gdp|inflation|migration|population|             tax|unemployment|\n",
      "+-----------+----+-----------+--------+---------+---------+----------+----------------+------------+\n",
      "|Afghanistan|2011|          0|   714.7|     11.8|   418796|  29249157|8.91679399595736|       7.918|\n",
      "|Afghanistan|2012|          0| 784.611|      6.4|   105905|  30466479|7.70780060287773|       7.914|\n",
      "|Afghanistan|2013|          0| 754.402|      7.4|    48076|  31541209|7.12277329020889|       7.914|\n",
      "|Afghanistan|2014|          0| 746.922|      4.7|   255611|  32716210|6.88210294277301|        7.91|\n",
      "|Afghanistan|2015|          0| 705.597|     -0.7|  -281739|  33753499|7.58538233129798|       9.002|\n",
      "|Afghanistan|2016|          0| 617.126|      4.4|   -90238|  34636207|9.50265278288094|      10.092|\n",
      "|Afghanistan|2017|          0| 635.789|      5.0|   -47090|  35643418|9.89845089688421|       11.18|\n",
      "|Afghanistan|2018|          0| 582.323|      0.6|   -47205|  36686784|             0.0|      11.131|\n",
      "|Afghanistan|2019|          0| 586.204|      2.3|    -8082|  37769499|             0.0|      11.082|\n",
      "|Afghanistan|2020|   82849920| 611.268|      5.6|   166821|  38972230|             0.0|       11.71|\n",
      "|Afghanistan|2021|  391774200| 443.385|      5.1|  -183672|  40099462|             0.0|      12.075|\n",
      "|Afghanistan|2022|  675763230|     0.0|     13.7|   -65846|  41128771|             0.0|        14.1|\n",
      "|    Albania|2011|          0| 4439.89|      3.4|   -24465|   2905195|18.0220132797796|       13.48|\n",
      "|    Albania|2012|          0|4248.909|      2.0|   -19946|   2900401|17.4832335567459|       13.38|\n",
      "|    Albania|2013|          0|  4415.6|      1.9|   -16845|   2895092|16.5032706123389|       15.87|\n",
      "|    Albania|2014|          0|4584.919|      1.6|   -14265|   2889104|18.3019361358269|       18.05|\n",
      "|    Albania|2015|          0|3953.611|      1.9|   -12240|   2880703|18.5157898553099|       17.19|\n",
      "|    Albania|2016|          0|4124.405|      1.3|   -10887|   2876101| 17.590229809729|       15.42|\n",
      "|    Albania|2017|          0|4525.887|      2.0|    -9768|   2873457|18.8874860606848|       13.62|\n",
      "|    Albania|2018|          0|5257.714|      2.0|    -9106|   2866376|18.5459674731621|        12.3|\n",
      "+-----------+----+-----------+--------+---------+---------+----------+----------------+------------+\n",
      "only showing top 20 rows\n",
      "\n"
     ]
    }
   ],
   "source": [
    "#Storing this dataframe in parquet\n",
    "merged_df.write.mode(\"overwrite\").parquet(\"../FinalParquet\")\n",
    "spark.read.parquet(\"../FinalParquet\").show()\n",
    "spark.stop()"
   ]
  },
  {
   "cell_type": "code",
   "execution_count": 10,
   "metadata": {},
   "outputs": [
    {
     "name": "stdout",
     "output_type": "stream",
     "text": [
      "7.556262016296387\n"
     ]
    }
   ],
   "source": [
    "fim = time.time()\n",
    "final = fim - inicio\n",
    "print(final)"
   ]
  }
 ],
 "metadata": {
  "kernelspec": {
   "display_name": "DataScience",
   "language": "python",
   "name": "python3"
  },
  "language_info": {
   "codemirror_mode": {
    "name": "ipython",
    "version": 3
   },
   "file_extension": ".py",
   "mimetype": "text/x-python",
   "name": "python",
   "nbconvert_exporter": "python",
   "pygments_lexer": "ipython3",
   "version": "3.10.13"
  }
 },
 "nbformat": 4,
 "nbformat_minor": 2
}
