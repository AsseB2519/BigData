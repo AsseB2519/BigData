{
 "cells": [
  {
   "cell_type": "markdown",
   "metadata": {},
   "source": [
    "<center>\n",
    "\n",
    "# $\\textbf{Tax}$\n",
    "\n",
    "<center>"
   ]
  },
  {
   "cell_type": "markdown",
   "metadata": {},
   "source": [
    "### $\\textbf{Pre-Processing}$"
   ]
  },
  {
   "cell_type": "code",
   "execution_count": 1,
   "metadata": {},
   "outputs": [],
   "source": [
    "import pandas as pd\n",
    "import time"
   ]
  },
  {
   "cell_type": "code",
   "execution_count": 2,
   "metadata": {},
   "outputs": [],
   "source": [
    "inicio = time.time()"
   ]
  },
  {
   "cell_type": "code",
   "execution_count": 3,
   "metadata": {},
   "outputs": [],
   "source": [
    "# Read the CSV file into a DataFrame\n",
    "df = pd.read_csv('../Files/Tax.csv')"
   ]
  },
  {
   "cell_type": "code",
   "execution_count": 4,
   "metadata": {},
   "outputs": [],
   "source": [
    "# Remove columns Country Code and Indicator Code\n",
    "columns_to_drop = ['Country Code', 'Indicator Code', 'Indicator Name']\n",
    "df.drop(columns=columns_to_drop, inplace=True)"
   ]
  },
  {
   "cell_type": "code",
   "execution_count": 5,
   "metadata": {},
   "outputs": [],
   "source": [
    "# Rename 'Unemployment  total (% of total labor force) (modeled ILO estimate)' to 'unemployment'\n",
    "df.rename(columns={'Country Name': 'country'}, inplace=True)"
   ]
  },
  {
   "cell_type": "code",
   "execution_count": 6,
   "metadata": {},
   "outputs": [],
   "source": [
    "# Reshape the DataFrame using melt\n",
    "df = df.melt(id_vars='country', var_name='year', value_name='tax')"
   ]
  },
  {
   "cell_type": "code",
   "execution_count": 7,
   "metadata": {},
   "outputs": [],
   "source": [
    "# Sort the DataFrame first by Country and then by Year within each Country\n",
    "df = df.sort_values(by=['country', 'year'])"
   ]
  },
  {
   "cell_type": "code",
   "execution_count": 8,
   "metadata": {},
   "outputs": [],
   "source": [
    "# Remove rows where 'tax' column has no value\n",
    "df = df.dropna(subset=['tax'])"
   ]
  },
  {
   "cell_type": "code",
   "execution_count": 9,
   "metadata": {},
   "outputs": [],
   "source": [
    "df['country'] = df['country'].replace({'China, People\\'s Republic of': 'China', \n",
    "                                       'Gambia, The': 'Gambia',\n",
    "                                       'Micronesia, Fed. States of': 'Micronesia',\n",
    "                                       'South Sudan, Republic of': 'South Sudan',\n",
    "                                       'Taiwan Province of China': 'Taiwan',\n",
    "                                       'Türkiye, Republic of': 'Türkiye',\n",
    "                                       'Korea, Republic of' : 'South Korea',\n",
    "                                       'Congo' : 'Democratic Republic of the Congo',\n",
    "                                       'Caribbean small states' : 'Caribbean'})"
   ]
  },
  {
   "cell_type": "code",
   "execution_count": 10,
   "metadata": {},
   "outputs": [],
   "source": [
    "# Columns to drop\n",
    "countries_to_remove = ['Africa Eastern and Southern', \n",
    "                       'Africa Western and Central', \n",
    "                       'Central Europe and the Baltics', \n",
    "                       'Early-demographic dividend', \n",
    "                       'East Asia & Pacific', \n",
    "                       'East Asia & Pacific (IDA & IBRD countries)', \n",
    "                       'East Asia & Pacific (excluding high income)', \n",
    "                       'Euro area',\n",
    "                       'Europe & Central Asia',\n",
    "                       'Europe & Central Asia (IDA & IBRD countries)',\n",
    "                       'Europe & Central Asia (excluding high income)',\n",
    "                       'European Union',\n",
    "                       'Fragile and conflict affected situations',\n",
    "                       'Heavily indebted poor countries (HIPC)',\n",
    "                       'High income',\n",
    "                       'IBRD only',\n",
    "                       'IDA & IBRD total',\n",
    "                       'IDA blend',\n",
    "                       'IDA only',\n",
    "                       'IDA total',\n",
    "                       'Latin America & the Caribbean (IDA & IBRD countries)',\n",
    "                       'Latin America & Caribbean (excluding high income)',\n",
    "                       'Least developed countries: UN classification',\n",
    "                       'Low & middle income',\n",
    "                       'Low income',\n",
    "                       'Lower middle income',\n",
    "                       'Middle East & North Africa',\n",
    "                       'Middle East & North Africa (IDA & IBRD countries)',\n",
    "                       'Middle East & North Africa (excluding high income)',\n",
    "                       'Middle income',\n",
    "                       'Not classified',\n",
    "                       'OECD members',\n",
    "                       'Other small states',\n",
    "                       'Pacific island small states'\n",
    "                       'Post-demographic dividend',\n",
    "                       'Pre-demographic dividend',\n",
    "                       'Small states',\n",
    "                       'South Asia',\n",
    "                       'South Asia (IDA & IBRD)',\n",
    "                       'Sub-Saharan Africa (IDA & IBRD countries)',\n",
    "                       'Sub-Saharan Africa (excluding high income)',\n",
    "                       'Upper middle income',\n",
    "                       'World'\n",
    "                       ]\n",
    "\n",
    "# Drop the specified columns\n",
    "df = df[~df['country'].isin(countries_to_remove)]"
   ]
  },
  {
   "cell_type": "code",
   "execution_count": 11,
   "metadata": {},
   "outputs": [],
   "source": [
    "# Remove rows with missing values in the 'country' column\n",
    "df = df.dropna(subset=['country'])"
   ]
  },
  {
   "cell_type": "code",
   "execution_count": 12,
   "metadata": {},
   "outputs": [],
   "source": [
    "# Read the CSV file into a DataFrame\n",
    "df.to_csv(\"../FinalFiles/Tax.csv\", index=False)"
   ]
  },
  {
   "cell_type": "code",
   "execution_count": 13,
   "metadata": {},
   "outputs": [
    {
     "name": "stdout",
     "output_type": "stream",
     "text": [
      "0.11033201217651367\n"
     ]
    }
   ],
   "source": [
    "fim = time.time()\n",
    "final = fim - inicio\n",
    "print(final)"
   ]
  }
 ],
 "metadata": {
  "kernelspec": {
   "display_name": "daa1",
   "language": "python",
   "name": "python3"
  },
  "language_info": {
   "codemirror_mode": {
    "name": "ipython",
    "version": 3
   },
   "file_extension": ".py",
   "mimetype": "text/x-python",
   "name": "python",
   "nbconvert_exporter": "python",
   "pygments_lexer": "ipython3",
   "version": "3.10.13"
  }
 },
 "nbformat": 4,
 "nbformat_minor": 2
}
