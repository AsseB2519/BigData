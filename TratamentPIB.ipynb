{
 "cells": [
  {
   "cell_type": "markdown",
   "metadata": {},
   "source": [
    "# ECONOMY - PIB"
   ]
  },
  {
   "cell_type": "code",
   "execution_count": 9,
   "metadata": {},
   "outputs": [],
   "source": [
    "import pandas as pd\n",
    "\n",
    "# Read the CSV file into a DataFrame\n",
    "df = pd.read_csv('Files/PIB.csv')\n",
    "\n",
    "# Reshape the DataFrame using melt\n",
    "melted_df = df.melt(id_vars='Country', var_name='Year', value_name='Value')\n",
    "\n",
    "# Sort the DataFrame first by Country and then by Year within each Country\n",
    "melted_df = melted_df.sort_values(by=['Country', 'Year'])\n",
    "\n",
    "# Write the reshaped DataFrame to a new CSV file\n",
    "melted_df.to_csv('FinalFiles/PIB.csv', index=False)"
   ]
  }
 ],
 "metadata": {
  "kernelspec": {
   "display_name": "daa1",
   "language": "python",
   "name": "python3"
  },
  "language_info": {
   "codemirror_mode": {
    "name": "ipython",
    "version": 3
   },
   "file_extension": ".py",
   "mimetype": "text/x-python",
   "name": "python",
   "nbconvert_exporter": "python",
   "pygments_lexer": "ipython3",
   "version": "3.11.5"
  }
 },
 "nbformat": 4,
 "nbformat_minor": 2
}
