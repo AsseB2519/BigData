{
 "cells": [
  {
   "cell_type": "markdown",
   "metadata": {},
   "source": [
    "<center>\n",
    "\n",
    "# $\\textbf{Gross Domestic Product }$\n",
    "\n",
    "<center>"
   ]
  },
  {
   "cell_type": "markdown",
   "metadata": {},
   "source": [
    "### $\\textbf{Code}$"
   ]
  },
  {
   "cell_type": "code",
   "execution_count": 1,
   "metadata": {},
   "outputs": [],
   "source": [
    "import pandas as pd\n",
    "import time"
   ]
  },
  {
   "cell_type": "code",
   "execution_count": 2,
   "metadata": {},
   "outputs": [],
   "source": [
    "inicio = time.time()"
   ]
  },
  {
   "cell_type": "code",
   "execution_count": 3,
   "metadata": {},
   "outputs": [],
   "source": [
    "# Read the CSV file into a DataFrame\n",
    "df = pd.read_csv('../Files/GDP.csv')"
   ]
  },
  {
   "cell_type": "code",
   "execution_count": 4,
   "metadata": {},
   "outputs": [],
   "source": [
    "# Reshape the DataFrame using melt\n",
    "melted_df = df.melt(id_vars='Country', var_name='Year', value_name='Value')"
   ]
  },
  {
   "cell_type": "code",
   "execution_count": 5,
   "metadata": {},
   "outputs": [],
   "source": [
    "# Sort the DataFrame first by Country and then by Year within each Country\n",
    "melted_df = melted_df.sort_values(by=['Country', 'Year'])"
   ]
  },
  {
   "cell_type": "code",
   "execution_count": 6,
   "metadata": {},
   "outputs": [],
   "source": [
    "# Rename Column Value to GDP\n",
    "melted_df.rename(columns={'Value': 'GDP', 'Country': 'country', 'Year': 'year'}, inplace=True)"
   ]
  },
  {
   "cell_type": "code",
   "execution_count": 7,
   "metadata": {},
   "outputs": [],
   "source": [
    "# Write the reshaped DataFrame to a new CSV file\n",
    "melted_df.to_csv('../FinalFiles/GDP.csv', index=False)"
   ]
  },
  {
   "cell_type": "markdown",
   "metadata": {},
   "source": [
    "### $\\textbf{Pre-Processing}$"
   ]
  },
  {
   "cell_type": "code",
   "execution_count": 8,
   "metadata": {},
   "outputs": [],
   "source": [
    "# Read the CSV file into a DataFrame\n",
    "df = pd.read_csv('../FinalFiles/GDP.csv')"
   ]
  },
  {
   "cell_type": "code",
   "execution_count": 9,
   "metadata": {},
   "outputs": [
    {
     "name": "stdout",
     "output_type": "stream",
     "text": [
      "['ASEAN-5' 'Advanced economies' 'Afghanistan' 'Africa (Region)' 'Albania'\n",
      " 'Algeria' 'Andorra' 'Angola' 'Antigua and Barbuda' 'Argentina' 'Armenia'\n",
      " 'Aruba' 'Asia and Pacific' 'Australia' 'Australia and New Zealand'\n",
      " 'Austria' 'Azerbaijan' 'Bahamas, The' 'Bahrain' 'Bangladesh' 'Barbados'\n",
      " 'Belarus' 'Belgium' 'Belize' 'Benin' 'Bhutan' 'Bolivia'\n",
      " 'Bosnia and Herzegovina' 'Botswana' 'Brazil' 'Brunei Darussalam'\n",
      " 'Bulgaria' 'Burkina Faso' 'Burundi' 'Cabo Verde' 'Cambodia' 'Cameroon'\n",
      " 'Canada' 'Caribbean' 'Central African Republic' 'Central America'\n",
      " 'Central Asia and the Caucasus' 'Chad' 'Chile'\n",
      " \"China, People's Republic of\" 'Colombia' 'Comoros'\n",
      " 'Congo, Dem. Rep. of the' 'Congo, Republic of ' 'Costa Rica' 'Croatia'\n",
      " 'Cyprus' 'Czech Republic' \"Côte d'Ivoire\" 'Denmark' 'Djibouti' 'Dominica'\n",
      " 'Dominican Republic' 'East Asia' 'Eastern Europe ' 'Ecuador' 'Egypt'\n",
      " 'El Salvador' 'Emerging and Developing Asia'\n",
      " 'Emerging and Developing Europe'\n",
      " 'Emerging market and developing economies' 'Equatorial Guinea' 'Eritrea'\n",
      " 'Estonia' 'Eswatini' 'Ethiopia' 'Euro area' 'Europe' 'European Union'\n",
      " 'Fiji' 'Finland' 'France' 'Gabon' 'Gambia, The' 'Georgia' 'Germany'\n",
      " 'Ghana' 'Greece' 'Grenada' 'Guatemala' 'Guinea' 'Guinea-Bissau' 'Guyana'\n",
      " 'Haiti' 'Honduras' 'Hong Kong SAR' 'Hungary' 'Iceland' 'India'\n",
      " 'Indonesia' 'Iran' 'Iraq' 'Ireland' 'Israel' 'Italy' 'Jamaica' 'Japan'\n",
      " 'Jordan' 'Kazakhstan' 'Kenya' 'Kiribati' 'Korea, Republic of' 'Kosovo'\n",
      " 'Kuwait' 'Kyrgyz Republic' 'Lao P.D.R.' 'Latin America and the Caribbean'\n",
      " 'Latvia' 'Lebanon' 'Lesotho' 'Liberia' 'Libya' 'Lithuania' 'Luxembourg'\n",
      " 'Macao SAR' 'Madagascar' 'Major advanced economies (G7)' 'Malawi'\n",
      " 'Malaysia' 'Maldives' 'Mali' 'Malta' 'Marshall Islands' 'Mauritania'\n",
      " 'Mauritius' 'Mexico' 'Micronesia, Fed. States of' 'Middle East (Region)'\n",
      " 'Middle East and Central Asia' 'Moldova' 'Mongolia' 'Montenegro'\n",
      " 'Morocco' 'Mozambique' 'Myanmar' 'Namibia' 'Nauru' 'Nepal' 'Netherlands'\n",
      " 'New Zealand' 'Nicaragua' 'Niger' 'Nigeria' 'North Africa'\n",
      " 'North America' 'North Macedonia ' 'Norway' 'Oman'\n",
      " 'Other advanced economies' 'Pacific Islands ' 'Pakistan' 'Palau' 'Panama'\n",
      " 'Papua New Guinea' 'Paraguay' 'Peru' 'Philippines' 'Poland' 'Portugal'\n",
      " 'Puerto Rico' 'Qatar' 'Romania' 'Russian Federation' 'Rwanda'\n",
      " 'Saint Kitts and Nevis' 'Saint Lucia' 'Saint Vincent and the Grenadines'\n",
      " 'Samoa' 'San Marino' 'Saudi Arabia' 'Senegal' 'Serbia' 'Seychelles'\n",
      " 'Sierra Leone' 'Singapore' 'Slovak Republic' 'Slovenia' 'Solomon Islands'\n",
      " 'Somalia' 'South Africa' 'South America' 'South Asia'\n",
      " 'South Sudan, Republic of' 'Southeast Asia' 'Spain' 'Sri Lanka'\n",
      " 'Sub-Saharan Africa' 'Sub-Saharan Africa (Region) ' 'Sudan' 'Suriname'\n",
      " 'Sweden' 'Switzerland' 'Syria' 'São Tomé and Príncipe'\n",
      " 'Taiwan Province of China' 'Tajikistan' 'Tanzania' 'Thailand'\n",
      " 'Timor-Leste' 'Togo' 'Tonga' 'Trinidad and Tobago' 'Tunisia'\n",
      " 'Turkmenistan' 'Tuvalu' 'Türkiye, Republic of' 'Uganda' 'Ukraine'\n",
      " 'United Arab Emirates' 'United Kingdom' 'United States' 'Uruguay'\n",
      " 'Uzbekistan' 'Vanuatu' 'Venezuela' 'Vietnam' 'West Bank and Gaza'\n",
      " 'Western Europe' 'Western Hemisphere (Region)' 'World' 'Yemen' 'Zambia'\n",
      " 'Zimbabwe' '©IMF, 2023']\n"
     ]
    }
   ],
   "source": [
    "unique_values = df['country'].unique()\n",
    "print(unique_values)"
   ]
  },
  {
   "cell_type": "code",
   "execution_count": 10,
   "metadata": {},
   "outputs": [],
   "source": [
    "df['country'] = df['country'].replace({'China, People\\'s Republic of': 'China', \n",
    "                                       'Gambia, The': 'Gambia',\n",
    "                                       'Micronesia, Fed. States of': 'Micronesia',\n",
    "                                       'South Sudan, Republic of': 'South Sudan',\n",
    "                                       'Taiwan Province of China': 'Taiwan',\n",
    "                                       'Türkiye, Republic of': 'Turkiye',\n",
    "                                       'Bahamas, The' : 'Bahamas',\n",
    "                                       'Syria' : 'Syrian Arab Republic',\n",
    "                                       'Czech Republic' : 'Czechia',\n",
    "                                       'Korea, Republic of' : 'South Korea',\n",
    "                                       'Côte d\\'Ivoire' : 'Cote d\\'Ivoire',\n",
    "                                       'Hong Kong SAR' : 'Hong Kong',\n",
    "                                       'Lao P.D.R.' : 'Lao PDR',\n",
    "                                       'Congo, Republic of ' : 'Republic of the Congo',\n",
    "                                       'Congo, Dem. Rep. of the' : 'Democratic Republic of the Congo',\n",
    "                                       'Pacific Islands ' : 'Pacific island small states',\n",
    "                                       'North Macedonia ' : 'North Macedonia'})"
   ]
  },
  {
   "cell_type": "code",
   "execution_count": 11,
   "metadata": {},
   "outputs": [],
   "source": [
    "# Columns to drop\n",
    "countries_to_remove = ['ASEAN-5', \n",
    "                       'Advanced economies', \n",
    "                       'Africa (Region)', \n",
    "                       'Asia and Pacific', \n",
    "                       'Australia and New Zealand', \n",
    "                       'Central America', \n",
    "                       'Central Asia and the Caucasus', \n",
    "                       '©IMF, 2023',\n",
    "                       'East Asia',\n",
    "                       'Eastern Europe ',\n",
    "                       'Emerging and Developing Asia',\n",
    "                       'Emerging and Developing Europe',\n",
    "                       'Emerging market and developing economies',\n",
    "                       'Euro area',\n",
    "                       'Europe',\n",
    "                       'European Union',\n",
    "                       'Latin America and the Caribbean',\n",
    "                       'Macao SAR',\n",
    "                       'Major advanced economies (G7)',\n",
    "                       'Middle East (Region)',\n",
    "                       'Middle East and Central Asia',\n",
    "                       'North Africa',\n",
    "                       'North America',\n",
    "                       'North Macedonia',\n",
    "                       'Other advanced economies',\n",
    "                       'South America',\n",
    "                       'South Asia',\n",
    "                       'Southeast Asia',\n",
    "                       'Sub-Saharan Africa',\n",
    "                       'Sub-Saharan Africa (Region)',\n",
    "                       'Western Europe',\n",
    "                       'Western Hemisphere (Region)',\n",
    "                       'World']\n",
    "\n",
    "# Drop the specified columns\n",
    "df = df[~df['country'].isin(countries_to_remove)]"
   ]
  },
  {
   "cell_type": "code",
   "execution_count": 12,
   "metadata": {},
   "outputs": [],
   "source": [
    "# Read the CSV file into a DataFrame\n",
    "df.to_csv(\"../FilesPP/GDP.csv\", index=False)"
   ]
  },
  {
   "cell_type": "code",
   "execution_count": 13,
   "metadata": {},
   "outputs": [
    {
     "name": "stdout",
     "output_type": "stream",
     "text": [
      "0.09137082099914551\n"
     ]
    }
   ],
   "source": [
    "fim = time.time()\n",
    "final = fim - inicio\n",
    "print(final)"
   ]
  }
 ],
 "metadata": {
  "kernelspec": {
   "display_name": "daa1",
   "language": "python",
   "name": "python3"
  },
  "language_info": {
   "codemirror_mode": {
    "name": "ipython",
    "version": 3
   },
   "file_extension": ".py",
   "mimetype": "text/x-python",
   "name": "python",
   "nbconvert_exporter": "python",
   "pygments_lexer": "ipython3",
   "version": "3.10.13"
  }
 },
 "nbformat": 4,
 "nbformat_minor": 2
}
