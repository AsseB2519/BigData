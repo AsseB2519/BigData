{
 "cells": [
  {
   "cell_type": "markdown",
   "metadata": {},
   "source": [
    "<center>\n",
    "\n",
    "# $\\textbf{Migration}$\n",
    "\n",
    "<center>"
   ]
  },
  {
   "cell_type": "markdown",
   "metadata": {},
   "source": [
    "### $\\textbf{Code}$"
   ]
  },
  {
   "cell_type": "code",
   "execution_count": 11,
   "metadata": {},
   "outputs": [],
   "source": [
    "import pandas as pd"
   ]
  },
  {
   "cell_type": "code",
   "execution_count": 12,
   "metadata": {},
   "outputs": [],
   "source": [
    "# Load the CSV file into a DataFrame\n",
    "df = pd.read_csv(\"Files/Migration2.csv\")"
   ]
  },
  {
   "cell_type": "code",
   "execution_count": 13,
   "metadata": {},
   "outputs": [],
   "source": [
    "# Select the columns you're interested in dropping\n",
    "selected_columns = ['Series Name', 'Series Code', 'Country Code']\n",
    "df.drop(columns=selected_columns, inplace=True)"
   ]
  },
  {
   "cell_type": "code",
   "execution_count": 14,
   "metadata": {},
   "outputs": [],
   "source": [
    "# Rename the column\n",
    "df.rename(columns={'Country Name': 'country'}, inplace=True)\n",
    "df.rename(columns={'2000 [YR2000]': '2000'}, inplace=True)\n",
    "df.rename(columns={'2001 [YR2001]': '2001'}, inplace=True)\n",
    "df.rename(columns={'2002 [YR2002]': '2002'}, inplace=True)\n",
    "df.rename(columns={'2003 [YR2003]': '2003'}, inplace=True)\n",
    "df.rename(columns={'2004 [YR2004]': '2004'}, inplace=True)\n",
    "df.rename(columns={'2005 [YR2005]': '2005'}, inplace=True)\n",
    "df.rename(columns={'2006 [YR2006]': '2006'}, inplace=True)\n",
    "df.rename(columns={'2007 [YR2007]': '2007'}, inplace=True)\n",
    "df.rename(columns={'2008 [YR2008]': '2008'}, inplace=True)\n",
    "df.rename(columns={'2009 [YR2009]': '2009'}, inplace=True)\n",
    "df.rename(columns={'2010 [YR2010]': '2010'}, inplace=True)\n",
    "df.rename(columns={'2011 [YR2011]': '2011'}, inplace=True)\n",
    "df.rename(columns={'2012 [YR2012]': '2012'}, inplace=True)\n",
    "df.rename(columns={'2013 [YR2013]': '2013'}, inplace=True)\n",
    "df.rename(columns={'2014 [YR2014]': '2014'}, inplace=True)\n",
    "df.rename(columns={'2015 [YR2015]': '2015'}, inplace=True)\n",
    "df.rename(columns={'2016 [YR2016]': '2016'}, inplace=True)\n",
    "df.rename(columns={'2017 [YR2017]': '2017'}, inplace=True)\n",
    "df.rename(columns={'2018 [YR2018]': '2018'}, inplace=True)\n",
    "df.rename(columns={'2019 [YR2019]': '2019'}, inplace=True)\n",
    "df.rename(columns={'2020 [YR2020]': '2020'}, inplace=True)\n",
    "df.rename(columns={'2021 [YR2021]': '2021'}, inplace=True)\n",
    "df.rename(columns={'2022 [YR2022]': '2022'}, inplace=True)\n",
    "df.rename(columns={'2023 [YR2023]': '2023'}, inplace=True)\n",
    "df.rename(columns={'2024 [YR2024]': '2024'}, inplace=True)\n",
    "df.rename(columns={'2025 [YR2025]': '2025'}, inplace=True)"
   ]
  },
  {
   "cell_type": "code",
   "execution_count": 15,
   "metadata": {},
   "outputs": [],
   "source": [
    "# Reshape the DataFrame using melt\n",
    "melted_df = df.melt(id_vars='country', var_name='year', value_name='migration')"
   ]
  },
  {
   "cell_type": "code",
   "execution_count": 16,
   "metadata": {},
   "outputs": [],
   "source": [
    "# Sort the DataFrame first by Country and then by Year within each Country\n",
    "melted_df = melted_df.sort_values(by=['country', 'year'])"
   ]
  },
  {
   "cell_type": "code",
   "execution_count": 17,
   "metadata": {},
   "outputs": [],
   "source": [
    "# Write the reshaped DataFrame to a new CSV file\n",
    "melted_df.to_csv('FinalFiles/Migration2.csv', index=False)"
   ]
  },
  {
   "cell_type": "markdown",
   "metadata": {},
   "source": [
    "### $\\textbf{Pre-Processing}$"
   ]
  },
  {
   "cell_type": "code",
   "execution_count": 18,
   "metadata": {},
   "outputs": [],
   "source": [
    "# Read the CSV file into a DataFrame\n",
    "df = pd.read_csv('FinalFiles/Migration2.csv')"
   ]
  },
  {
   "cell_type": "code",
   "execution_count": 19,
   "metadata": {},
   "outputs": [
    {
     "name": "stdout",
     "output_type": "stream",
     "text": [
      "['Afghanistan' 'Africa Eastern and Southern' 'Africa Western and Central'\n",
      " 'Albania' 'Algeria' 'American Samoa' 'Andorra' 'Angola'\n",
      " 'Antigua and Barbuda' 'Arab World' 'Argentina' 'Armenia' 'Aruba'\n",
      " 'Australia' 'Austria' 'Azerbaijan' 'Bahamas, The' 'Bahrain' 'Bangladesh'\n",
      " 'Barbados' 'Belarus' 'Belgium' 'Belize' 'Benin' 'Bermuda' 'Bhutan'\n",
      " 'Bolivia' 'Bosnia and Herzegovina' 'Botswana' 'Brazil'\n",
      " 'British Virgin Islands' 'Brunei Darussalam' 'Bulgaria' 'Burkina Faso'\n",
      " 'Burundi' 'Cabo Verde' 'Cambodia' 'Cameroon' 'Canada'\n",
      " 'Caribbean small states' 'Cayman Islands' 'Central African Republic'\n",
      " 'Central Europe and the Baltics' 'Chad' 'Channel Islands' 'Chile' 'China'\n",
      " 'Colombia' 'Comoros' 'Congo, Dem. Rep.' 'Congo, Rep.' 'Costa Rica'\n",
      " \"Cote d'Ivoire\" 'Croatia' 'Cuba' 'Curacao' 'Cyprus' 'Czechia' 'Denmark'\n",
      " 'Djibouti' 'Dominica' 'Dominican Republic' 'Early-demographic dividend'\n",
      " 'East Asia & Pacific' 'East Asia & Pacific (IDA & IBRD countries)'\n",
      " 'East Asia & Pacific (excluding high income)' 'Ecuador'\n",
      " 'Egypt, Arab Rep.' 'El Salvador' 'Equatorial Guinea' 'Eritrea' 'Estonia'\n",
      " 'Eswatini' 'Ethiopia' 'Euro area' 'Europe & Central Asia'\n",
      " 'Europe & Central Asia (IDA & IBRD countries)'\n",
      " 'Europe & Central Asia (excluding high income)' 'European Union'\n",
      " 'Faroe Islands' 'Fiji' 'Finland'\n",
      " 'Fragile and conflict affected situations' 'France' 'French Polynesia'\n",
      " 'Gabon' 'Gambia, The' 'Georgia' 'Germany' 'Ghana' 'Gibraltar' 'Greece'\n",
      " 'Greenland' 'Grenada' 'Guam' 'Guatemala' 'Guinea' 'Guinea-Bissau'\n",
      " 'Guyana' 'Haiti' 'Heavily indebted poor countries (HIPC)' 'High income'\n",
      " 'Honduras' 'Hong Kong SAR, China' 'Hungary' 'IBRD only'\n",
      " 'IDA & IBRD total' 'IDA blend' 'IDA only' 'IDA total' 'Iceland' 'India'\n",
      " 'Indonesia' 'Iran, Islamic Rep.' 'Iraq' 'Ireland' 'Isle of Man' 'Israel'\n",
      " 'Italy' 'Jamaica' 'Japan' 'Jordan' 'Kazakhstan' 'Kenya' 'Kiribati'\n",
      " \"Korea, Dem. People's Rep.\" 'Korea, Rep.' 'Kosovo' 'Kuwait'\n",
      " 'Kyrgyz Republic' 'Lao PDR' 'Late-demographic dividend'\n",
      " 'Latin America & Caribbean'\n",
      " 'Latin America & Caribbean (excluding high income)'\n",
      " 'Latin America & the Caribbean (IDA & IBRD countries)' 'Latvia'\n",
      " 'Least developed countries: UN classification' 'Lebanon' 'Lesotho'\n",
      " 'Liberia' 'Libya' 'Liechtenstein' 'Lithuania' 'Low & middle income'\n",
      " 'Low income' 'Lower middle income' 'Luxembourg' 'Macao SAR, China'\n",
      " 'Madagascar' 'Malawi' 'Malaysia' 'Maldives' 'Mali' 'Malta'\n",
      " 'Marshall Islands' 'Mauritania' 'Mauritius' 'Mexico'\n",
      " 'Micronesia, Fed. Sts.' 'Middle East & North Africa'\n",
      " 'Middle East & North Africa (IDA & IBRD countries)'\n",
      " 'Middle East & North Africa (excluding high income)' 'Middle income'\n",
      " 'Moldova' 'Monaco' 'Mongolia' 'Montenegro' 'Morocco' 'Mozambique'\n",
      " 'Myanmar' 'Namibia' 'Nauru' 'Nepal' 'Netherlands' 'New Caledonia'\n",
      " 'New Zealand' 'Nicaragua' 'Niger' 'Nigeria' 'North America'\n",
      " 'North Macedonia' 'Northern Mariana Islands' 'Norway' 'Not classified'\n",
      " 'OECD members' 'Oman' 'Other small states' 'Pacific island small states'\n",
      " 'Pakistan' 'Palau' 'Panama' 'Papua New Guinea' 'Paraguay' 'Peru'\n",
      " 'Philippines' 'Poland' 'Portugal' 'Post-demographic dividend'\n",
      " 'Pre-demographic dividend' 'Puerto Rico' 'Qatar' 'Romania'\n",
      " 'Russian Federation' 'Rwanda' 'Samoa' 'San Marino'\n",
      " 'Sao Tome and Principe' 'Saudi Arabia' 'Senegal' 'Serbia' 'Seychelles'\n",
      " 'Sierra Leone' 'Singapore' 'Sint Maarten (Dutch part)' 'Slovak Republic'\n",
      " 'Slovenia' 'Small states' 'Solomon Islands' 'Somalia' 'South Africa'\n",
      " 'South Asia' 'South Asia (IDA & IBRD)' 'South Sudan' 'Spain' 'Sri Lanka'\n",
      " 'St. Kitts and Nevis' 'St. Lucia' 'St. Martin (French part)'\n",
      " 'St. Vincent and the Grenadines' 'Sub-Saharan Africa'\n",
      " 'Sub-Saharan Africa (IDA & IBRD countries)'\n",
      " 'Sub-Saharan Africa (excluding high income)' 'Sudan' 'Suriname' 'Sweden'\n",
      " 'Switzerland' 'Syrian Arab Republic' 'Tajikistan' 'Tanzania' 'Thailand'\n",
      " 'Timor-Leste' 'Togo' 'Tonga' 'Trinidad and Tobago' 'Tunisia' 'Turkiye'\n",
      " 'Turkmenistan' 'Turks and Caicos Islands' 'Tuvalu' 'Uganda' 'Ukraine'\n",
      " 'United Arab Emirates' 'United Kingdom' 'United States'\n",
      " 'Upper middle income' 'Uruguay' 'Uzbekistan' 'Vanuatu' 'Venezuela, RB'\n",
      " 'Viet Nam' 'Virgin Islands (U.S.)' 'West Bank and Gaza' 'World'\n",
      " 'Yemen, Rep.' 'Zambia' 'Zimbabwe']\n"
     ]
    }
   ],
   "source": [
    "unique_values = df['country'].unique()\n",
    "print(unique_values)"
   ]
  },
  {
   "cell_type": "code",
   "execution_count": 20,
   "metadata": {},
   "outputs": [],
   "source": [
    "df.rename(columns={'Bahamas, The': 'Bahamas', \n",
    "                   'Egypt, Arab Rep.' :  'Egypt',\n",
    "                   'Micronesia, Fed. Sts.' : 'Micronesia',\n",
    "                   'Sint Maarten (Dutch part)' : 'Sint Maarten',\n",
    "                   'St. Martin (French part)' : 'St. Martin',\n",
    "                   'Venezuela, RB' : 'Venezuela'}, inplace=True)"
   ]
  },
  {
   "cell_type": "code",
   "execution_count": 21,
   "metadata": {},
   "outputs": [],
   "source": [
    "# Columns to drop\n",
    "countries_to_remove = ['Africa Eastern and Southern', \n",
    "                       'Africa Western and Central', \n",
    "                       'Central Europe and the Baltics', \n",
    "                       'Early-demographic dividend', \n",
    "                       'East Asia & Pacific', \n",
    "                       'East Asia & Pacific (IDA & IBRD countries)', \n",
    "                       'East Asia & Pacific (excluding high income)', \n",
    "                       'Euro area',\n",
    "                       'Europe & Central Asia',\n",
    "                       'Europe & Central Asia (IDA & IBRD countries)',\n",
    "                       'Europe & Central Asia (excluding high income)',\n",
    "                       'European Union',\n",
    "                       'Fragile and conflict affected situations',\n",
    "                       'Heavily indebted poor countries (HIPC)',\n",
    "                       'High income',\n",
    "                       'IBRD only',\n",
    "                       'IDA & IBRD total',\n",
    "                       'IDA blend',\n",
    "                       'IDA only',\n",
    "                       'IDA total',\n",
    "                       'Latin America & the Caribbean (IDA & IBRD countries)',\n",
    "                       'Latin America & Caribbean (excluding high income)',\n",
    "                       'Least developed countries: UN classification',\n",
    "                       'Low & middle income',\n",
    "                       'Low income',\n",
    "                       'Lower middle income',\n",
    "                       'Middle East & North Africa',\n",
    "                       'Middle East & North Africa (IDA & IBRD countries)',\n",
    "                       'Middle East & North Africa (excluding high income)',\n",
    "                       'Middle income',\n",
    "                       'Not classified',\n",
    "                       'OECD members',\n",
    "                       'Other small states',\n",
    "                       'Pacific island small states'\n",
    "                       'Post-demographic dividend',\n",
    "                       'Pre-demographic dividend',\n",
    "                       'Small states',\n",
    "                       'South Asia',\n",
    "                       'South Asia (IDA & IBRD)',\n",
    "                       'Sub-Saharan Africa (IDA & IBRD countries)',\n",
    "                       'Sub-Saharan Africa (excluding high income)',\n",
    "                       'Upper middle income',\n",
    "                       'World'\n",
    "                       ]\n",
    "\n",
    "# Drop the specified columns\n",
    "df = df[~df['country'].isin(countries_to_remove)]"
   ]
  },
  {
   "cell_type": "code",
   "execution_count": 22,
   "metadata": {},
   "outputs": [],
   "source": [
    "# Remove rows with missing values in the 'country' column\n",
    "# df = df.dropna(subset=['country'])"
   ]
  },
  {
   "cell_type": "code",
   "execution_count": 23,
   "metadata": {},
   "outputs": [],
   "source": [
    "# Read the CSV file into a DataFrame\n",
    "df.to_csv(\"FilesPP/Migration2.csv\", index=False)"
   ]
  }
 ],
 "metadata": {
  "kernelspec": {
   "display_name": "DataScience",
   "language": "python",
   "name": "python3"
  },
  "language_info": {
   "codemirror_mode": {
    "name": "ipython",
    "version": 3
   },
   "file_extension": ".py",
   "mimetype": "text/x-python",
   "name": "python",
   "nbconvert_exporter": "python",
   "pygments_lexer": "ipython3",
   "version": "3.11.5"
  }
 },
 "nbformat": 4,
 "nbformat_minor": 2
}
