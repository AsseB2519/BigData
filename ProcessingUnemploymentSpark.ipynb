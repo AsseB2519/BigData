{
 "cells": [
  {
   "cell_type": "markdown",
   "metadata": {},
   "source": [
    "<center>\n",
    "\n",
    "# $\\textbf{Unemployment}$\n",
    "\n",
    "<center>"
   ]
  },
  {
   "cell_type": "markdown",
   "metadata": {},
   "source": [
    "### $\\textbf{Code}$"
   ]
  },
  {
   "cell_type": "code",
   "execution_count": 29,
   "metadata": {},
   "outputs": [],
   "source": [
    "from pyspark.sql import SparkSession\n",
    "from pyspark.sql.functions import explode, col, lit, array, struct"
   ]
  },
  {
   "cell_type": "code",
   "execution_count": 30,
   "metadata": {},
   "outputs": [
    {
     "data": {
      "text/html": [
       "\n",
       "            <div>\n",
       "                <p><b>SparkSession - hive</b></p>\n",
       "                \n",
       "        <div>\n",
       "            <p><b>SparkContext</b></p>\n",
       "\n",
       "            <p><a href=\"http://francisco-mbp:4040\">Spark UI</a></p>\n",
       "\n",
       "            <dl>\n",
       "              <dt>Version</dt>\n",
       "                <dd><code>v3.4.1</code></dd>\n",
       "              <dt>Master</dt>\n",
       "                <dd><code>local</code></dd>\n",
       "              <dt>AppName</dt>\n",
       "                <dd><code>Unemployment</code></dd>\n",
       "            </dl>\n",
       "        </div>\n",
       "        \n",
       "            </div>\n",
       "        "
      ],
      "text/plain": [
       "<pyspark.sql.session.SparkSession at 0x107049e90>"
      ]
     },
     "execution_count": 30,
     "metadata": {},
     "output_type": "execute_result"
    }
   ],
   "source": [
    "spark = SparkSession.builder.appName('Unemployment').master(\"local\").enableHiveSupport().getOrCreate()\n",
    "spark"
   ]
  },
  {
   "cell_type": "code",
   "execution_count": 31,
   "metadata": {},
   "outputs": [],
   "source": [
    "# Creating dataframe from the csv file and infering the schema\n",
    "df = spark.read.load(\"Files/Unemployment2.csv\", format=\"csv\", sep=\",\", inferschema=\"true\", header=\"true\")"
   ]
  },
  {
   "cell_type": "code",
   "execution_count": 32,
   "metadata": {},
   "outputs": [
    {
     "data": {
      "text/plain": [
       "DataFrame[Country Name: string, 1960: string, 1961: string, 1962: string, 1963: string, 1964: string, 1965: string, 1966: string, 1967: string, 1968: string, 1969: string, 1970: string, 1971: string, 1972: string, 1973: string, 1974: string, 1975: string, 1976: string, 1977: string, 1978: string, 1979: string, 1980: string, 1981: string, 1982: string, 1983: string, 1984: string, 1985: string, 1986: string, 1987: string, 1988: string, 1989: string, 1990: string, 1991: double, 1992: double, 1993: double, 1994: double, 1995: double, 1996: double, 1997: double, 1998: double, 1999: double, 2000: double, 2001: double, 2002: double, 2003: double, 2004: double, 2005: double, 2006: double, 2007: double, 2008: double, 2009: double, 2010: double, 2011: double, 2012: double, 2013: double, 2014: double, 2015: double, 2016: double, 2017: double, 2018: double, 2019: double, 2020: double, 2021: double, 2022: double]"
      ]
     },
     "execution_count": 32,
     "metadata": {},
     "output_type": "execute_result"
    }
   ],
   "source": [
    "# Remove columns Country Code and Indicator Code\n",
    "df.drop(\"Country Code\", \"Indicator Code\", \"Indicator Name\")"
   ]
  },
  {
   "cell_type": "code",
   "execution_count": 33,
   "metadata": {},
   "outputs": [],
   "source": [
    "# Rename the column\n",
    "df = df.withColumnRenamed(\"Country Name\",\"country\")"
   ]
  },
  {
   "cell_type": "code",
   "execution_count": 34,
   "metadata": {},
   "outputs": [],
   "source": [
    "# Assuming df is properly defined DataFrame\n",
    "df = df.select(\"country\", explode(array([\n",
    "    struct(lit(year).alias(\"year\"), col(str(year)).alias(\"unemployment\")) \n",
    "    for year in range(2000, 2023)\n",
    "])).alias(\"data\")).selectExpr(\"country\", \"data.year\", \"data.unemployment\")\n",
    "\n",
    "df = df.orderBy(\"country\")"
   ]
  },
  {
   "cell_type": "code",
   "execution_count": 35,
   "metadata": {},
   "outputs": [
    {
     "name": "stdout",
     "output_type": "stream",
     "text": [
      "+-----------+----+------------+\n",
      "|    country|year|unemployment|\n",
      "+-----------+----+------------+\n",
      "|Afghanistan|2000|       7.942|\n",
      "|Afghanistan|2001|       7.942|\n",
      "|Afghanistan|2002|       7.935|\n",
      "|Afghanistan|2003|       7.929|\n",
      "|Afghanistan|2004|       7.926|\n",
      "|Afghanistan|2005|       7.925|\n",
      "|Afghanistan|2006|       7.925|\n",
      "|Afghanistan|2007|       7.924|\n",
      "|Afghanistan|2008|       7.928|\n",
      "|Afghanistan|2009|       7.923|\n",
      "|Afghanistan|2010|       7.921|\n",
      "|Afghanistan|2011|       7.918|\n",
      "|Afghanistan|2012|       7.914|\n",
      "|Afghanistan|2013|       7.914|\n",
      "|Afghanistan|2014|        7.91|\n",
      "|Afghanistan|2015|       9.002|\n",
      "|Afghanistan|2016|      10.092|\n",
      "|Afghanistan|2017|       11.18|\n",
      "|Afghanistan|2018|      11.131|\n",
      "|Afghanistan|2019|      11.082|\n",
      "+-----------+----+------------+\n",
      "only showing top 20 rows\n",
      "\n"
     ]
    }
   ],
   "source": [
    "#Storing this dataframe in parquet\n",
    "df.write.mode(\"overwrite\").parquet(\"FilesParquet/Unemployment.parquet\" )\n",
    "spark.read.parquet(\"FilesParquet/Unemployment.parquet\").show()\n",
    "spark.stop()"
   ]
  }
 ],
 "metadata": {
  "kernelspec": {
   "display_name": "DataScience",
   "language": "python",
   "name": "python3"
  },
  "language_info": {
   "codemirror_mode": {
    "name": "ipython",
    "version": 3
   },
   "file_extension": ".py",
   "mimetype": "text/x-python",
   "name": "python",
   "nbconvert_exporter": "python",
   "pygments_lexer": "ipython3",
   "version": "3.11.5"
  }
 },
 "nbformat": 4,
 "nbformat_minor": 2
}
