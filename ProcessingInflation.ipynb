{
 "cells": [
  {
   "cell_type": "markdown",
   "metadata": {},
   "source": []
  },
  {
   "cell_type": "code",
   "execution_count": null,
   "metadata": {},
   "outputs": [],
   "source": [
    "import pandas as pd\n",
    "\n",
    "# Read the CSV file into a DataFrame\n",
    "df = pd.read_excel('Files/Inflation.xls')\n",
    "\n",
    "# Rename the column\n",
    "df.rename(columns={'Inflation rate, average consumer prices (Annual percent change)': 'Country'}, inplace=True)\n",
    "\n",
    "# Reshape the DataFrame using melt\n",
    "melted_df = df.melt(id_vars='Country', var_name='Year', value_name='Value')\n",
    "\n",
    "# Sort the DataFrame first by Country and then by Year within each Country\n",
    "melted_df = melted_df.sort_values(by=['Country', 'Year'])\n",
    "\n",
    "# Write the reshaped DataFrame to a new CSV file\n",
    "melted_df.to_csv('FinalFiles/PIB.csv', index=False)"
   ]
  }
 ],
 "metadata": {
  "kernelspec": {
   "display_name": "Python 3",
   "language": "python",
   "name": "python3"
  },
  "language_info": {
   "name": "python",
   "version": "3.11.5"
  }
 },
 "nbformat": 4,
 "nbformat_minor": 2
}
