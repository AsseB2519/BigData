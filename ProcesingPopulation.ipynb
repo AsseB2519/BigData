{
 "cells": [
  {
   "cell_type": "markdown",
   "metadata": {},
   "source": [
    "<center>\n",
    "\n",
    "# $\\textbf{Migration}$\n",
    "\n",
    "<center>"
   ]
  },
  {
   "cell_type": "markdown",
   "metadata": {},
   "source": [
    "### $\\textbf{Code}$"
   ]
  },
  {
   "cell_type": "code",
   "execution_count": 8,
   "metadata": {},
   "outputs": [],
   "source": [
    "import pandas as pd"
   ]
  },
  {
   "cell_type": "code",
   "execution_count": 9,
   "metadata": {},
   "outputs": [],
   "source": [
    "# Load the CSV file into a DataFrame\n",
    "df = pd.read_csv(\"Files/Population.csv\")"
   ]
  },
  {
   "cell_type": "code",
   "execution_count": 10,
   "metadata": {},
   "outputs": [],
   "source": [
    "# Select the columns you're interested in dropping\n",
    "selected_columns = ['Series Name', 'Series Code', 'Country Code']\n",
    "df.drop(columns=selected_columns, inplace=True)"
   ]
  },
  {
   "cell_type": "code",
   "execution_count": 11,
   "metadata": {},
   "outputs": [],
   "source": [
    "# Rename the column\n",
    "df.rename(columns={'Country Name': 'country'}, inplace=True)\n",
    "df.rename(columns={'2000 [YR2000]': '2000'}, inplace=True)\n",
    "df.rename(columns={'2001 [YR2001]': '2001'}, inplace=True)\n",
    "df.rename(columns={'2002 [YR2002]': '2002'}, inplace=True)\n",
    "df.rename(columns={'2003 [YR2003]': '2003'}, inplace=True)\n",
    "df.rename(columns={'2004 [YR2004]': '2004'}, inplace=True)\n",
    "df.rename(columns={'2005 [YR2005]': '2005'}, inplace=True)\n",
    "df.rename(columns={'2006 [YR2006]': '2006'}, inplace=True)\n",
    "df.rename(columns={'2007 [YR2007]': '2007'}, inplace=True)\n",
    "df.rename(columns={'2008 [YR2008]': '2008'}, inplace=True)\n",
    "df.rename(columns={'2009 [YR2009]': '2009'}, inplace=True)\n",
    "df.rename(columns={'2010 [YR2010]': '2010'}, inplace=True)\n",
    "df.rename(columns={'2011 [YR2011]': '2011'}, inplace=True)\n",
    "df.rename(columns={'2012 [YR2012]': '2012'}, inplace=True)\n",
    "df.rename(columns={'2013 [YR2013]': '2013'}, inplace=True)\n",
    "df.rename(columns={'2014 [YR2014]': '2014'}, inplace=True)\n",
    "df.rename(columns={'2015 [YR2015]': '2015'}, inplace=True)\n",
    "df.rename(columns={'2016 [YR2016]': '2016'}, inplace=True)\n",
    "df.rename(columns={'2017 [YR2017]': '2017'}, inplace=True)\n",
    "df.rename(columns={'2018 [YR2018]': '2018'}, inplace=True)\n",
    "df.rename(columns={'2019 [YR2019]': '2019'}, inplace=True)\n",
    "df.rename(columns={'2020 [YR2020]': '2020'}, inplace=True)\n",
    "df.rename(columns={'2021 [YR2021]': '2021'}, inplace=True)\n",
    "df.rename(columns={'2022 [YR2022]': '2022'}, inplace=True)\n",
    "df.rename(columns={'2023 [YR2023]': '2023'}, inplace=True)\n",
    "df.rename(columns={'2024 [YR2024]': '2024'}, inplace=True)\n",
    "df.rename(columns={'2025 [YR2025]': '2025'}, inplace=True)"
   ]
  },
  {
   "cell_type": "code",
   "execution_count": 12,
   "metadata": {},
   "outputs": [],
   "source": [
    "# Reshape the DataFrame using melt\n",
    "melted_df = df.melt(id_vars='country', var_name='year', value_name='population')"
   ]
  },
  {
   "cell_type": "code",
   "execution_count": 13,
   "metadata": {},
   "outputs": [],
   "source": [
    "# Sort the DataFrame first by Country and then by Year within each Country\n",
    "melted_df = melted_df.sort_values(by=['country', 'year'])"
   ]
  },
  {
   "cell_type": "code",
   "execution_count": 14,
   "metadata": {},
   "outputs": [],
   "source": [
    "# Write the reshaped DataFrame to a new CSV file\n",
    "melted_df.to_csv('FinalFiles/Population.csv', index=False)"
   ]
  }
 ],
 "metadata": {
  "kernelspec": {
   "display_name": "DataScience",
   "language": "python",
   "name": "python3"
  },
  "language_info": {
   "codemirror_mode": {
    "name": "ipython",
    "version": 3
   },
   "file_extension": ".py",
   "mimetype": "text/x-python",
   "name": "python",
   "nbconvert_exporter": "python",
   "pygments_lexer": "ipython3",
   "version": "3.11.5"
  }
 },
 "nbformat": 4,
 "nbformat_minor": 2
}
