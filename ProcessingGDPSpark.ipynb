{
 "cells": [
  {
   "cell_type": "markdown",
   "metadata": {},
   "source": [
    "<center>\n",
    "\n",
    "# $\\textbf{Gross Domestic Product }$\n",
    "\n",
    "<center>"
   ]
  },
  {
   "cell_type": "markdown",
   "metadata": {},
   "source": [
    "### $\\textbf{Code}$"
   ]
  },
  {
   "cell_type": "code",
   "execution_count": 60,
   "metadata": {},
   "outputs": [],
   "source": [
    "from pyspark.sql import SparkSession\n",
    "from pyspark.sql.functions import explode, col, lit, array, struct"
   ]
  },
  {
   "cell_type": "code",
   "execution_count": 61,
   "metadata": {},
   "outputs": [
    {
     "data": {
      "text/html": [
       "\n",
       "            <div>\n",
       "                <p><b>SparkSession - hive</b></p>\n",
       "                \n",
       "        <div>\n",
       "            <p><b>SparkContext</b></p>\n",
       "\n",
       "            <p><a href=\"http://francisco-mbp:4040\">Spark UI</a></p>\n",
       "\n",
       "            <dl>\n",
       "              <dt>Version</dt>\n",
       "                <dd><code>v3.4.1</code></dd>\n",
       "              <dt>Master</dt>\n",
       "                <dd><code>local</code></dd>\n",
       "              <dt>AppName</dt>\n",
       "                <dd><code>GDP</code></dd>\n",
       "            </dl>\n",
       "        </div>\n",
       "        \n",
       "            </div>\n",
       "        "
      ],
      "text/plain": [
       "<pyspark.sql.session.SparkSession at 0x117d0a410>"
      ]
     },
     "execution_count": 61,
     "metadata": {},
     "output_type": "execute_result"
    }
   ],
   "source": [
    "spark = SparkSession.builder.appName('GDP').master(\"local\").enableHiveSupport().getOrCreate()\n",
    "spark"
   ]
  },
  {
   "cell_type": "code",
   "execution_count": 62,
   "metadata": {},
   "outputs": [],
   "source": [
    "# Creating dataframe from the csv file and infering the schema\n",
    "df = spark.read.load(\"Files/GDP.csv\", format=\"csv\", sep=\",\", inferschema=\"true\", header=\"true\")"
   ]
  },
  {
   "cell_type": "code",
   "execution_count": 63,
   "metadata": {},
   "outputs": [],
   "source": [
    "# Assuming df is properly defined DataFrame\n",
    "df = df.select(\"country\", explode(array([\n",
    "    struct(lit(year).alias(\"year\"), col(str(year)).alias(\"gdp\")) \n",
    "    for year in range(2000, 2025)\n",
    "])).alias(\"data\")).selectExpr(\"country\", \"data.year\", \"data.gdp\")"
   ]
  },
  {
   "cell_type": "code",
   "execution_count": 64,
   "metadata": {},
   "outputs": [
    {
     "name": "stdout",
     "output_type": "stream",
     "text": [
      "+-----------+----+-------+\n",
      "|    country|year|    gdp|\n",
      "+-----------+----+-------+\n",
      "|Afghanistan|2000|    0.0|\n",
      "|Afghanistan|2001|    0.0|\n",
      "|Afghanistan|2002|233.433|\n",
      "|Afghanistan|2003|233.755|\n",
      "|Afghanistan|2004|254.259|\n",
      "|Afghanistan|2005|294.396|\n",
      "|Afghanistan|2006|320.674|\n",
      "|Afghanistan|2007|381.502|\n",
      "|Afghanistan|2008|447.746|\n",
      "|Afghanistan|2009|511.374|\n",
      "|Afghanistan|2010| 631.49|\n",
      "|Afghanistan|2011|  714.7|\n",
      "|Afghanistan|2012|784.611|\n",
      "|Afghanistan|2013|754.402|\n",
      "|Afghanistan|2014|746.922|\n",
      "|Afghanistan|2015|705.597|\n",
      "|Afghanistan|2016|617.126|\n",
      "|Afghanistan|2017|635.789|\n",
      "|Afghanistan|2018|582.323|\n",
      "|Afghanistan|2019|586.204|\n",
      "+-----------+----+-------+\n",
      "only showing top 20 rows\n",
      "\n"
     ]
    }
   ],
   "source": [
    "#Storing this dataframe in parquet\n",
    "df.write.mode(\"overwrite\").parquet(\"FilesParquet/GDP.parquet\" )\n",
    "spark.read.parquet(\"FilesParquet/GDP.parquet\").show()\n",
    "spark.stop()"
   ]
  }
 ],
 "metadata": {
  "kernelspec": {
   "display_name": "DataScience",
   "language": "python",
   "name": "python3"
  },
  "language_info": {
   "codemirror_mode": {
    "name": "ipython",
    "version": 3
   },
   "file_extension": ".py",
   "mimetype": "text/x-python",
   "name": "python",
   "nbconvert_exporter": "python",
   "pygments_lexer": "ipython3",
   "version": "3.11.5"
  }
 },
 "nbformat": 4,
 "nbformat_minor": 2
}
