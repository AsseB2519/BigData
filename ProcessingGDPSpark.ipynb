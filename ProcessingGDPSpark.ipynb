{
 "cells": [
  {
   "cell_type": "markdown",
   "metadata": {},
   "source": [
    "<center>\n",
    "\n",
    "# $\\textbf{Gross Domestic Product }$\n",
    "\n",
    "<center>"
   ]
  },
  {
   "cell_type": "markdown",
   "metadata": {},
   "source": [
    "### $\\textbf{Code}$"
   ]
  },
  {
   "cell_type": "code",
   "execution_count": 25,
   "metadata": {},
   "outputs": [],
   "source": [
    "from pyspark.sql import SparkSession\n",
    "from pyspark.sql.functions import explode, col, lit, array, struct"
   ]
  },
  {
   "cell_type": "code",
   "execution_count": 26,
   "metadata": {},
   "outputs": [
    {
     "data": {
      "text/html": [
       "\n",
       "            <div>\n",
       "                <p><b>SparkSession - hive</b></p>\n",
       "                \n",
       "        <div>\n",
       "            <p><b>SparkContext</b></p>\n",
       "\n",
       "            <p><a href=\"http://172.26.68.223:4040\">Spark UI</a></p>\n",
       "\n",
       "            <dl>\n",
       "              <dt>Version</dt>\n",
       "                <dd><code>v3.4.1</code></dd>\n",
       "              <dt>Master</dt>\n",
       "                <dd><code>local</code></dd>\n",
       "              <dt>AppName</dt>\n",
       "                <dd><code>GDP</code></dd>\n",
       "            </dl>\n",
       "        </div>\n",
       "        \n",
       "            </div>\n",
       "        "
      ],
      "text/plain": [
       "<pyspark.sql.session.SparkSession at 0x107420f40>"
      ]
     },
     "execution_count": 26,
     "metadata": {},
     "output_type": "execute_result"
    }
   ],
   "source": [
    "spark = SparkSession.builder.appName('GDP').master(\"local\").enableHiveSupport().getOrCreate()\n",
    "spark"
   ]
  },
  {
   "cell_type": "code",
   "execution_count": 27,
   "metadata": {},
   "outputs": [],
   "source": [
    "# Creating dataframe from the csv file and infering the schema\n",
    "df = spark.read.load(\"Files/GDP.csv\", format=\"csv\", sep=\",\", inferschema=\"true\", header=\"true\")"
   ]
  },
  {
   "cell_type": "code",
   "execution_count": 28,
   "metadata": {},
   "outputs": [],
   "source": [
    "# Assuming df is properly defined DataFrame\n",
    "df = df.select(\"country\", explode(array([\n",
    "    struct(lit(year).alias(\"year\"), col(str(year)).alias(\"gdp\")) \n",
    "    for year in range(2000, 2025)\n",
    "])).alias(\"data\")).selectExpr(\"country\", \"data.year\", \"data.gdp\")"
   ]
  },
  {
   "cell_type": "code",
   "execution_count": 29,
   "metadata": {},
   "outputs": [],
   "source": [
    "# Cast columns to their desired types\n",
    "df = df.withColumn(\"country\", col(\"country\").cast(\"string\"))\n",
    "df = df.withColumn(\"year\", col(\"year\").cast(\"int\"))\n",
    "df = df.withColumn(\"gdp\", col(\"gdp\").cast(\"double\"))"
   ]
  },
  {
   "cell_type": "code",
   "execution_count": 30,
   "metadata": {},
   "outputs": [],
   "source": [
    "# Filter data for years greater than 2010 and lower than 2024\n",
    "df = df.filter(df[\"year\"] > 2010)\n",
    "df = df.filter(df[\"year\"] < 2024)"
   ]
  },
  {
   "cell_type": "code",
   "execution_count": 31,
   "metadata": {},
   "outputs": [],
   "source": [
    "# Order by country and then by year\n",
    "df = df.orderBy(\"country\", \"year\")"
   ]
  },
  {
   "cell_type": "code",
   "execution_count": 32,
   "metadata": {},
   "outputs": [
    {
     "name": "stdout",
     "output_type": "stream",
     "text": [
      "+------------------+----+---------+\n",
      "|           country|year|      gdp|\n",
      "+------------------+----+---------+\n",
      "|           ASEAN-5|2011| 4742.031|\n",
      "|           ASEAN-5|2012| 4934.317|\n",
      "|           ASEAN-5|2013| 5009.992|\n",
      "|           ASEAN-5|2014| 4941.123|\n",
      "|           ASEAN-5|2015| 4715.428|\n",
      "|           ASEAN-5|2016| 4889.034|\n",
      "|           ASEAN-5|2017| 5213.511|\n",
      "|           ASEAN-5|2018| 5513.448|\n",
      "|           ASEAN-5|2019| 5771.691|\n",
      "|           ASEAN-5|2020| 5361.577|\n",
      "|           ASEAN-5|2021| 5882.641|\n",
      "|           ASEAN-5|2022| 6249.703|\n",
      "|           ASEAN-5|2023| 6597.204|\n",
      "|Advanced economies|2011|45011.518|\n",
      "|Advanced economies|2012|44632.763|\n",
      "|Advanced economies|2013|44832.244|\n",
      "|Advanced economies|2014|45647.709|\n",
      "|Advanced economies|2015|42967.254|\n",
      "|Advanced economies|2016|43894.075|\n",
      "|Advanced economies|2017| 45602.87|\n",
      "+------------------+----+---------+\n",
      "only showing top 20 rows\n",
      "\n"
     ]
    }
   ],
   "source": [
    "#Storing this dataframe in parquet\n",
    "df.write.mode(\"overwrite\").parquet(\"FilesParquet/GDP.parquet\" )\n",
    "spark.read.parquet(\"FilesParquet/GDP.parquet\").show()\n",
    "spark.stop()"
   ]
  },
  {
   "cell_type": "markdown",
   "metadata": {},
   "source": [
    "### $\\textbf{Pre-Processing}$"
   ]
  },
  {
   "cell_type": "code",
   "execution_count": null,
   "metadata": {},
   "outputs": [],
   "source": [
    "df['country'] = df['country'].replace({'China, People\\'s Republic of': 'China', \n",
    "                                       'Gambia, The': 'Gambia',\n",
    "                                       'Micronesia, Fed. States of': 'Micronesia',\n",
    "                                       'South Sudan, Republic of': 'South Sudan',\n",
    "                                       'Taiwan Province of China': 'Taiwan',\n",
    "                                       'Türkiye, Republic of': 'Turkiye',\n",
    "                                       'Bahamas, The' : 'Bahamas',\n",
    "                                       'Syria' : 'Syrian Arab Republic',\n",
    "                                       'Czech Republic' : 'Czechia',\n",
    "                                       'Korea, Republic of' : 'South Korea',\n",
    "                                       'Côte d\\'Ivoire' : 'Cote d\\'Ivoire',\n",
    "                                       'Hong Kong SAR' : 'Hong Kong',\n",
    "                                       'Lao P.D.R.' : 'Lao PDR',\n",
    "                                       'Congo, Republic of ' : 'Republic of the Congo',\n",
    "                                       'Congo, Dem. Rep. of the' : 'Democratic Republic of the Congo',\n",
    "                                       'Pacific Islands ' : 'Pacific island small states',\n",
    "                                       'North Macedonia ' : 'North Macedonia'})\n",
    "\n",
    "# Rename the column\n",
    "df = df.withColumnRenamed(\"China, People\\'s Republic of\",\"China\")\n",
    "df = df.withColumnRenamed(\"Gambia, The\",\"Gambia\")\n",
    "df = df.withColumnRenamed(\"Micronesia, Fed. States of\",\"Micronesia\")\n",
    "df = df.withColumnRenamed(\"South Sudan, Republic of\",\"South Sudan\")\n",
    "df = df.withColumnRenamed(\"Taiwan Province of China\",\"Taiwan\")\n",
    "df = df.withColumnRenamed(\"Türkiye, Republic of\",\"Turkiye\")\n",
    "df = df.withColumnRenamed(\"Bahamas, The\",\"Bahamas\")\n",
    "df = df.withColumnRenamed(\"Syria\",\"Syrian Arab Republic\")\n",
    "df = df.withColumnRenamed(\"Czech Republic\",\"Czechia\")\n",
    "df = df.withColumnRenamed(\"Korea, Republic of\",\"South Korea\")\n",
    "df = df.withColumnRenamed(\"Sint Maarten (Dutch part)\",\"Sint Maarten\")\n",
    "df = df.withColumnRenamed(\"Brunei\",\"Brunei Darussalam\")\n",
    "df = df.withColumnRenamed(\"Cape Verde\",\"Cabo Verde\")\n",
    "df = df.withColumnRenamed(\"Laos\",\"Lao PDR\")\n",
    "df = df.withColumnRenamed(\"United States Virgin Islands\",\"Virgin Islands (U.S.)\")\n",
    "df = df.withColumnRenamed(\"Turkey\",\"Turkiye\")\n",
    "df = df.withColumnRenamed(\"Syria\",\"Syrian Arab Republic\")\n",
    "df = df.withColumnRenamed(\"Timor\",\"Timor-Leste\")\n",
    "df = df.withColumnRenamed(\"Russia\",\"Russian Federation\")\n",
    "df = df.withColumnRenamed(\"Congo\",\"Democratic Republic of the Congo\")\n",
    "df = df.withColumnRenamed(\"Slovakia\",\"Slovenia\")"
   ]
  }
 ],
 "metadata": {
  "kernelspec": {
   "display_name": "DataScience",
   "language": "python",
   "name": "python3"
  },
  "language_info": {
   "codemirror_mode": {
    "name": "ipython",
    "version": 3
   },
   "file_extension": ".py",
   "mimetype": "text/x-python",
   "name": "python",
   "nbconvert_exporter": "python",
   "pygments_lexer": "ipython3",
   "version": "3.10.13"
  }
 },
 "nbformat": 4,
 "nbformat_minor": 2
}
