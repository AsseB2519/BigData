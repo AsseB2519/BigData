{
 "cells": [
  {
   "cell_type": "markdown",
   "metadata": {},
   "source": [
    "<center>\n",
    "\n",
    "# $\\textbf{Covid-19 - until 2024-02-04}$\n",
    "\n",
    "<center>"
   ]
  },
  {
   "cell_type": "markdown",
   "metadata": {},
   "source": [
    "### $\\textbf{Code}$"
   ]
  },
  {
   "cell_type": "code",
   "execution_count": 63,
   "metadata": {},
   "outputs": [],
   "source": [
    "from pyspark.sql import SparkSession\n",
    "from pyspark.sql.functions import regexp_replace, year, sum, col, when\n",
    "from pyspark.sql.window import Window"
   ]
  },
  {
   "cell_type": "code",
   "execution_count": 64,
   "metadata": {},
   "outputs": [
    {
     "data": {
      "text/html": [
       "\n",
       "            <div>\n",
       "                <p><b>SparkSession - hive</b></p>\n",
       "                \n",
       "        <div>\n",
       "            <p><b>SparkContext</b></p>\n",
       "\n",
       "            <p><a href=\"http://francisco-mbp:4040\">Spark UI</a></p>\n",
       "\n",
       "            <dl>\n",
       "              <dt>Version</dt>\n",
       "                <dd><code>v3.4.1</code></dd>\n",
       "              <dt>Master</dt>\n",
       "                <dd><code>local</code></dd>\n",
       "              <dt>AppName</dt>\n",
       "                <dd><code>Covid</code></dd>\n",
       "            </dl>\n",
       "        </div>\n",
       "        \n",
       "            </div>\n",
       "        "
      ],
      "text/plain": [
       "<pyspark.sql.session.SparkSession at 0x12ac253d0>"
      ]
     },
     "execution_count": 64,
     "metadata": {},
     "output_type": "execute_result"
    }
   ],
   "source": [
    "spark = SparkSession.builder.appName('Covid').master(\"local\").enableHiveSupport().getOrCreate()\n",
    "spark"
   ]
  },
  {
   "cell_type": "code",
   "execution_count": 65,
   "metadata": {},
   "outputs": [
    {
     "name": "stderr",
     "output_type": "stream",
     "text": [
      "                                                                                \r"
     ]
    }
   ],
   "source": [
    "# Creating dataframe from the csv file and infering the schema\n",
    "df = spark.read.load(\"Files/Covid.csv\", format=\"csv\", sep=\",\", inferschema=\"true\", header=\"true\")"
   ]
  },
  {
   "cell_type": "code",
   "execution_count": 66,
   "metadata": {},
   "outputs": [],
   "source": [
    "# Select the columns you're interested in\n",
    "df = df.select(\"location\",\"date\",\"total_cases\")"
   ]
  },
  {
   "cell_type": "code",
   "execution_count": 67,
   "metadata": {},
   "outputs": [],
   "source": [
    "# Rename the columns \"location\" and \"total_cases\"\n",
    "df = df.withColumnRenamed(\"location\",\"country\")\n",
    "df = df.withColumnRenamed(\"total_cases\",\"covid_cases\")"
   ]
  },
  {
   "cell_type": "code",
   "execution_count": 68,
   "metadata": {},
   "outputs": [],
   "source": [
    "# Extract year from 'day' column\n",
    "df = df.withColumn(\"year\", year(\"date\"))\n",
    "df = df.drop(\"date\")\n",
    "\n",
    "# Replace null values in 'total_cases' column with 0\n",
    "df = df.withColumn(\"covid_cases\", when(df[\"covid_cases\"].isNull(), 0).otherwise(df[\"covid_cases\"]))\n",
    "\n",
    "# Replace null values in 'total_cases' column with 0\n",
    "#df = df.na.fill({'total_cases': 0})\n",
    "\n",
    "# Remove non-numeric characters from 'total_cases' column\n",
    "df = df.withColumn(\"covid_cases\", regexp_replace(\"covid_cases\", \"[^0-9]\", \"\"))\n",
    "\n",
    "# Cast 'total_cases' column to integer type\n",
    "df = df.withColumn(\"covid_cases\", col(\"covid_cases\").cast(\"int\"))\n",
    "\n",
    "# Filter out any null values after cleaning\n",
    "df = df.filter(col(\"covid_cases\").isNotNull())\n",
    "\n",
    "# Calculate total cases per year\n",
    "df = df.groupBy(\"country\", \"year\").agg(sum(\"covid_cases\"))\n",
    "\n",
    "# Order by country and then by year\n",
    "df = df.orderBy(\"country\", \"year\")\n",
    "\n",
    "# Rename 'sum(covid_cases)' to 'covid_cases'\n",
    "df = df.withColumnRenamed(\"sum(covid_cases)\",\"covid_cases\")"
   ]
  },
  {
   "cell_type": "code",
   "execution_count": 69,
   "metadata": {},
   "outputs": [
    {
     "name": "stderr",
     "output_type": "stream",
     "text": [
      "                                                                                \r"
     ]
    },
    {
     "name": "stdout",
     "output_type": "stream",
     "text": [
      "+-----------+----+-----------+\n",
      "|    country|year|covid_cases|\n",
      "+-----------+----+-----------+\n",
      "|Afghanistan|2020|   82849920|\n",
      "|Afghanistan|2021|  391774200|\n",
      "|Afghanistan|2022|  675763230|\n",
      "|Afghanistan|2023|  802611370|\n",
      "|Afghanistan|2024|   80812150|\n",
      "|     Africa|2020| 2850575310|\n",
      "|     Africa|2021|22223520660|\n",
      "|     Africa|2022|40143651429|\n",
      "|     Africa|2023|46949658745|\n",
      "|     Africa|2024| 4596780605|\n",
      "|    Albania|2020|   34448550|\n",
      "|    Albania|2021|  503635430|\n",
      "|    Albania|2022| 1072461670|\n",
      "|    Albania|2023| 1218905130|\n",
      "|    Albania|2024|  117160410|\n",
      "|    Algeria|2020|  101885690|\n",
      "|    Algeria|2021|  567017170|\n",
      "|    Algeria|2022|  963218050|\n",
      "|    Algeria|2023|  991880860|\n",
      "|    Algeria|2024|   95203500|\n",
      "+-----------+----+-----------+\n",
      "only showing top 20 rows\n",
      "\n"
     ]
    }
   ],
   "source": [
    "#Storing this dataframe in parquet\n",
    "df.write.mode(\"overwrite\").parquet(\"FilesParquet/Covid.parquet\" )\n",
    "spark.read.parquet(\"FilesParquet/Covid.parquet\").show()\n",
    "spark.stop()"
   ]
  }
 ],
 "metadata": {
  "kernelspec": {
   "display_name": "DataScience",
   "language": "python",
   "name": "python3"
  },
  "language_info": {
   "codemirror_mode": {
    "name": "ipython",
    "version": 3
   },
   "file_extension": ".py",
   "mimetype": "text/x-python",
   "name": "python",
   "nbconvert_exporter": "python",
   "pygments_lexer": "ipython3",
   "version": "3.11.5"
  }
 },
 "nbformat": 4,
 "nbformat_minor": 2
}
