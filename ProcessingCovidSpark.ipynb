{
 "cells": [
  {
   "cell_type": "markdown",
   "metadata": {},
   "source": [
    "<center>\n",
    "\n",
    "# $\\textbf{Covid-19 - until 2024-02-04}$\n",
    "\n",
    "<center>"
   ]
  },
  {
   "cell_type": "markdown",
   "metadata": {},
   "source": [
    "### $\\textbf{Code}$"
   ]
  },
  {
   "cell_type": "code",
   "execution_count": 320,
   "metadata": {},
   "outputs": [],
   "source": [
    "from pyspark.sql import SparkSession\n",
    "from pyspark.sql.functions import col, year, row_number\n",
    "from pyspark.sql.window import Window\n",
    "from pyspark.sql.functions import when"
   ]
  },
  {
   "cell_type": "code",
   "execution_count": 321,
   "metadata": {},
   "outputs": [
    {
     "data": {
      "text/html": [
       "\n",
       "            <div>\n",
       "                <p><b>SparkSession - hive</b></p>\n",
       "                \n",
       "        <div>\n",
       "            <p><b>SparkContext</b></p>\n",
       "\n",
       "            <p><a href=\"http://10.191.2.158:4040\">Spark UI</a></p>\n",
       "\n",
       "            <dl>\n",
       "              <dt>Version</dt>\n",
       "                <dd><code>v3.4.1</code></dd>\n",
       "              <dt>Master</dt>\n",
       "                <dd><code>local</code></dd>\n",
       "              <dt>AppName</dt>\n",
       "                <dd><code>Covid</code></dd>\n",
       "            </dl>\n",
       "        </div>\n",
       "        \n",
       "            </div>\n",
       "        "
      ],
      "text/plain": [
       "<pyspark.sql.session.SparkSession at 0x125dd88d0>"
      ]
     },
     "execution_count": 321,
     "metadata": {},
     "output_type": "execute_result"
    }
   ],
   "source": [
    "spark = SparkSession.builder.appName('Covid').master(\"local\").enableHiveSupport().getOrCreate()\n",
    "spark"
   ]
  },
  {
   "cell_type": "code",
   "execution_count": 322,
   "metadata": {},
   "outputs": [
    {
     "name": "stderr",
     "output_type": "stream",
     "text": [
      "                                                                                \r"
     ]
    }
   ],
   "source": [
    "# Creating dataframe from the csv file and infering the schema\n",
    "df = spark.read.load(\"Files/Covid.csv\", format=\"csv\", sep=\",\", inferschema=\"true\", header=\"true\")"
   ]
  },
  {
   "cell_type": "code",
   "execution_count": 323,
   "metadata": {},
   "outputs": [],
   "source": [
    "# Select the columns you're interested in\n",
    "df = df.select(\"location\",\"date\",\"total_cases\")"
   ]
  },
  {
   "cell_type": "code",
   "execution_count": 324,
   "metadata": {},
   "outputs": [],
   "source": [
    "# Rename the columns \"location\" and \"total_cases\"\n",
    "df = df.withColumnRenamed(\"location\",\"country\")\n",
    "df = df.withColumnRenamed(\"total_cases\",\"covid_cases\")"
   ]
  },
  {
   "cell_type": "code",
   "execution_count": 325,
   "metadata": {},
   "outputs": [],
   "source": [
    "# Group by country and year, and select the last date of each year for each country\n",
    "\n",
    "# Define a window specification to partition by year and location and order by date\n",
    "window_spec = Window.partitionBy(year(\"date\"), \"country\").orderBy(\"date\")\n",
    "\n",
    "# Add row numbers to each partition\n",
    "df = df.withColumn(\"row_number\", row_number().over(window_spec))\n",
    "\n",
    "# Filter rows where row_number = 1\n",
    "df = df.filter(col(\"row_number\") == 1).drop(\"row_number\")"
   ]
  },
  {
   "cell_type": "code",
   "execution_count": 326,
   "metadata": {},
   "outputs": [],
   "source": [
    "# Extract the year from the 'date' column and store it in a new column\n",
    "df = df.withColumn(\"Year\", year(\"Date\"))"
   ]
  },
  {
   "cell_type": "code",
   "execution_count": 327,
   "metadata": {},
   "outputs": [],
   "source": [
    "# Drop the 'date' and 'continent' columns, and rename columns\n",
    "df = df.drop(\"date\")\n",
    "df = df.orderBy(\"location\")"
   ]
  },
  {
   "cell_type": "code",
   "execution_count": 328,
   "metadata": {},
   "outputs": [
    {
     "name": "stderr",
     "output_type": "stream",
     "text": [
      "                                                                                \r"
     ]
    },
    {
     "name": "stdout",
     "output_type": "stream",
     "text": [
      "+-----------+-----------+----+\n",
      "|    country|covid_cases|Year|\n",
      "+-----------+-----------+----+\n",
      "|Afghanistan|       null|2020|\n",
      "|Afghanistan|    51848.0|2021|\n",
      "|Afghanistan|   157902.0|2022|\n",
      "|Afghanistan|   207579.0|2023|\n",
      "|Afghanistan|   230375.0|2024|\n",
      "|     Africa|       null|2020|\n",
      "|     Africa|  2662452.0|2021|\n",
      "|     Africa|  9634415.0|2022|\n",
      "|     Africa|1.3001383E7|2023|\n",
      "|     Africa|1.3130839E7|2024|\n",
      "|    Albania|       null|2020|\n",
      "|    Albania|    55380.0|2021|\n",
      "|    Albania|   207221.0|2022|\n",
      "|    Albania|   332794.0|2023|\n",
      "|    Albania|   334596.0|2024|\n",
      "|    Algeria|       null|2020|\n",
      "|    Algeria|    97857.0|2021|\n",
      "|    Algeria|   216376.0|2022|\n",
      "|    Algeria|   271217.0|2023|\n",
      "|    Algeria|   272010.0|2024|\n",
      "+-----------+-----------+----+\n",
      "only showing top 20 rows\n",
      "\n"
     ]
    }
   ],
   "source": [
    "#Storing this dataframe in parquet\n",
    "df.write.mode(\"overwrite\").parquet(\"FilesParquet/Covid.parquet\" )\n",
    "spark.read.parquet(\"FilesParquet/Covid.parquet\").show()\n",
    "spark.stop()"
   ]
  }
 ],
 "metadata": {
  "kernelspec": {
   "display_name": "DataScience",
   "language": "python",
   "name": "python3"
  },
  "language_info": {
   "codemirror_mode": {
    "name": "ipython",
    "version": 3
   },
   "file_extension": ".py",
   "mimetype": "text/x-python",
   "name": "python",
   "nbconvert_exporter": "python",
   "pygments_lexer": "ipython3",
   "version": "3.11.5"
  }
 },
 "nbformat": 4,
 "nbformat_minor": 2
}
