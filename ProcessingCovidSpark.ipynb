{
 "cells": [
  {
   "cell_type": "markdown",
   "metadata": {},
   "source": [
    "<center>\n",
    "\n",
    "# $\\textbf{Covid-19 - until 2024-02-04}$\n",
    "\n",
    "<center>"
   ]
  },
  {
   "cell_type": "markdown",
   "metadata": {},
   "source": [
    "### $\\textbf{Code}$"
   ]
  },
  {
   "cell_type": "code",
   "execution_count": 1,
   "metadata": {},
   "outputs": [],
   "source": [
    "from pyspark.sql import SparkSession\n",
    "from pyspark.sql.functions import regexp_replace, year, sum, col, when\n",
    "import time"
   ]
  },
  {
   "cell_type": "code",
   "execution_count": 2,
   "metadata": {},
   "outputs": [],
   "source": [
    "inicio = time.time()"
   ]
  },
  {
   "cell_type": "code",
   "execution_count": 3,
   "metadata": {},
   "outputs": [
    {
     "name": "stderr",
     "output_type": "stream",
     "text": [
      "24/03/07 19:17:29 WARN Utils: Your hostname, Francisco-MacBook-Pro.local resolves to a loopback address: 127.0.0.1; using 10.191.2.158 instead (on interface en0)\n",
      "24/03/07 19:17:29 WARN Utils: Set SPARK_LOCAL_IP if you need to bind to another address\n",
      "Setting default log level to \"WARN\".\n",
      "To adjust logging level use sc.setLogLevel(newLevel). For SparkR, use setLogLevel(newLevel).\n",
      "24/03/07 19:17:30 WARN NativeCodeLoader: Unable to load native-hadoop library for your platform... using builtin-java classes where applicable\n"
     ]
    },
    {
     "data": {
      "text/html": [
       "\n",
       "            <div>\n",
       "                <p><b>SparkSession - hive</b></p>\n",
       "                \n",
       "        <div>\n",
       "            <p><b>SparkContext</b></p>\n",
       "\n",
       "            <p><a href=\"http://10.191.2.158:4040\">Spark UI</a></p>\n",
       "\n",
       "            <dl>\n",
       "              <dt>Version</dt>\n",
       "                <dd><code>v3.4.1</code></dd>\n",
       "              <dt>Master</dt>\n",
       "                <dd><code>local</code></dd>\n",
       "              <dt>AppName</dt>\n",
       "                <dd><code>Covid</code></dd>\n",
       "            </dl>\n",
       "        </div>\n",
       "        \n",
       "            </div>\n",
       "        "
      ],
      "text/plain": [
       "<pyspark.sql.session.SparkSession at 0x10930a800>"
      ]
     },
     "execution_count": 3,
     "metadata": {},
     "output_type": "execute_result"
    }
   ],
   "source": [
    "spark = SparkSession.builder.appName('Covid').master(\"local\").enableHiveSupport().getOrCreate()\n",
    "spark"
   ]
  },
  {
   "cell_type": "code",
   "execution_count": 4,
   "metadata": {},
   "outputs": [
    {
     "name": "stderr",
     "output_type": "stream",
     "text": [
      "                                                                                \r"
     ]
    }
   ],
   "source": [
    "# Creating dataframe from the csv file and infering the schema\n",
    "df = spark.read.load(\"Files/Covid.csv\", format=\"csv\", sep=\",\", inferschema=\"true\", header=\"true\")"
   ]
  },
  {
   "cell_type": "code",
   "execution_count": 5,
   "metadata": {},
   "outputs": [],
   "source": [
    "# Select the columns you're interested in\n",
    "df = df.select(\"location\",\"date\",\"total_cases\")"
   ]
  },
  {
   "cell_type": "code",
   "execution_count": 6,
   "metadata": {},
   "outputs": [],
   "source": [
    "# Rename the columns \"location\" and \"total_cases\"\n",
    "df = df.withColumnRenamed(\"location\",\"country\")\n",
    "df = df.withColumnRenamed(\"total_cases\",\"covid_cases\")"
   ]
  },
  {
   "cell_type": "code",
   "execution_count": 7,
   "metadata": {},
   "outputs": [],
   "source": [
    "# Extract year from 'day' column\n",
    "df = df.withColumn(\"year\", year(\"date\"))\n",
    "df = df.drop(\"date\")\n",
    "\n",
    "# Replace null values in 'total_cases' column with 0\n",
    "df = df.withColumn(\"covid_cases\", when(df[\"covid_cases\"].isNull(), 0).otherwise(df[\"covid_cases\"]))\n",
    "\n",
    "# Remove non-numeric characters from 'total_cases' column\n",
    "df = df.withColumn(\"covid_cases\", regexp_replace(\"covid_cases\", \"[^0-9]\", \"\"))\n",
    "\n",
    "# Cast columns to their desired types\n",
    "df = df.withColumn(\"country\", col(\"country\").cast(\"string\"))\n",
    "df = df.withColumn(\"year\", col(\"year\").cast(\"int\"))\n",
    "df = df.withColumn(\"covid_cases\", col(\"covid_cases\").cast(\"int\"))\n",
    "\n",
    "# Filter out any null values after cleaning\n",
    "df = df.filter(col(\"covid_cases\").isNotNull())\n",
    "\n",
    "# Calculate total cases per year\n",
    "df = df.groupBy(\"country\", \"year\").agg(sum(\"covid_cases\"))\n",
    "\n",
    "# Order by country and then by year\n",
    "df = df.orderBy(\"country\", \"year\")\n",
    "\n",
    "# Rename 'sum(covid_cases)' to 'covid_cases'\n",
    "df = df.withColumnRenamed(\"sum(covid_cases)\",\"covid_cases\")"
   ]
  },
  {
   "cell_type": "markdown",
   "metadata": {},
   "source": [
    "### $\\textbf{Pre-Processing}$"
   ]
  },
  {
   "cell_type": "code",
   "execution_count": 8,
   "metadata": {},
   "outputs": [],
   "source": [
    "# Rename the column\n",
    "df = df.withColumnRenamed(\"Micronesia (country)\",\"Micronesia\")\n",
    "df = df.withColumnRenamed(\"Saint Martin (French part)\",\"Saint Martin\")\n",
    "df = df.withColumnRenamed(\"Sint Maarten (Dutch part)\",\"Sint Maarten\")\n",
    "df = df.withColumnRenamed(\"Brunei\",\"Brunei Darussalam\")\n",
    "df = df.withColumnRenamed(\"Cape Verde\",\"Cabo Verde\")\n",
    "df = df.withColumnRenamed(\"Laos\",\"Lao PDR\")\n",
    "df = df.withColumnRenamed(\"United States Virgin Islands\",\"Virgin Islands (U.S.)\")\n",
    "df = df.withColumnRenamed(\"Turkey\",\"Turkiye\")\n",
    "df = df.withColumnRenamed(\"Syria\",\"Syrian Arab Republic\")\n",
    "df = df.withColumnRenamed(\"Timor\",\"Timor-Leste\")\n",
    "df = df.withColumnRenamed(\"Russia\",\"Russian Federation\")\n",
    "df = df.withColumnRenamed(\"Congo\",\"Democratic Republic of the Congo\")\n",
    "df = df.withColumnRenamed(\"Slovakia\",\"Slovenia\")"
   ]
  },
  {
   "cell_type": "code",
   "execution_count": 9,
   "metadata": {},
   "outputs": [],
   "source": [
    "# Drop the specified lines\n",
    "countries_to_remove = [\"Africa\", \"Europe\", \"Europe Union\", \"Asia\", \"Lower middle income\", \"Upper middle income\", \"World\"]\n",
    "df = df.filter(~df[\"country\"].isin(countries_to_remove))"
   ]
  },
  {
   "cell_type": "code",
   "execution_count": 10,
   "metadata": {},
   "outputs": [
    {
     "name": "stderr",
     "output_type": "stream",
     "text": [
      "Java HotSpot(TM) 64-Bit Server VM warning: CodeCache is full. Compiler has been disabled.\n",
      "Java HotSpot(TM) 64-Bit Server VM warning: Try increasing the code cache size using -XX:ReservedCodeCacheSize=\n"
     ]
    },
    {
     "name": "stdout",
     "output_type": "stream",
     "text": [
      "CodeCache: size=131072Kb used=23356Kb max_used=23373Kb free=107715Kb\n",
      " bounds [0x00000001091e0000, 0x000000010a8e0000, 0x00000001111e0000]\n",
      " total_blobs=9239 nmethods=8274 adapters=878\n",
      " compilation: disabled (not enough contiguous free space left)\n"
     ]
    },
    {
     "name": "stderr",
     "output_type": "stream",
     "text": [
      "                                                                                \r"
     ]
    },
    {
     "name": "stdout",
     "output_type": "stream",
     "text": [
      "+--------------+----+-----------+\n",
      "|       country|year|covid_cases|\n",
      "+--------------+----+-----------+\n",
      "|   Afghanistan|2020|   82849920|\n",
      "|   Afghanistan|2021|  391774200|\n",
      "|   Afghanistan|2022|  675763230|\n",
      "|   Afghanistan|2023|  802611370|\n",
      "|   Afghanistan|2024|   80812150|\n",
      "|       Albania|2020|   34448550|\n",
      "|       Albania|2021|  503635430|\n",
      "|       Albania|2022| 1072461670|\n",
      "|       Albania|2023| 1218905130|\n",
      "|       Albania|2024|  117160410|\n",
      "|       Algeria|2020|  101885690|\n",
      "|       Algeria|2021|  567017170|\n",
      "|       Algeria|2022|  963218050|\n",
      "|       Algeria|2023|  991880860|\n",
      "|       Algeria|2024|   95203500|\n",
      "|American Samoa|2020|          0|\n",
      "|American Samoa|2021|       5420|\n",
      "|American Samoa|2022|   20366540|\n",
      "|American Samoa|2023|   30429780|\n",
      "|American Samoa|2024|    2925650|\n",
      "+--------------+----+-----------+\n",
      "only showing top 20 rows\n",
      "\n"
     ]
    }
   ],
   "source": [
    "#Storing this dataframe in parquet\n",
    "df.write.mode(\"overwrite\").parquet(\"FilesParquet/Covid.parquet\" )\n",
    "spark.read.parquet(\"FilesParquet/Covid.parquet\").show()\n",
    "spark.stop()"
   ]
  },
  {
   "cell_type": "code",
   "execution_count": 11,
   "metadata": {},
   "outputs": [
    {
     "name": "stdout",
     "output_type": "stream",
     "text": [
      "8.541510343551636\n"
     ]
    }
   ],
   "source": [
    "fim = time.time()\n",
    "final = fim - inicio\n",
    "print(final)"
   ]
  }
 ],
 "metadata": {
  "kernelspec": {
   "display_name": "DataScience",
   "language": "python",
   "name": "python3"
  },
  "language_info": {
   "codemirror_mode": {
    "name": "ipython",
    "version": 3
   },
   "file_extension": ".py",
   "mimetype": "text/x-python",
   "name": "python",
   "nbconvert_exporter": "python",
   "pygments_lexer": "ipython3",
   "version": "3.10.13"
  }
 },
 "nbformat": 4,
 "nbformat_minor": 2
}
