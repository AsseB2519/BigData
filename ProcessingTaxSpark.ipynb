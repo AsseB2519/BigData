{
 "cells": [
  {
   "cell_type": "markdown",
   "metadata": {},
   "source": [
    "<center>\n",
    "\n",
    "# $\\textbf{Tax}$\n",
    "\n",
    "<center>"
   ]
  },
  {
   "cell_type": "markdown",
   "metadata": {},
   "source": [
    "### $\\textbf{Code}$"
   ]
  },
  {
   "cell_type": "code",
   "execution_count": 28,
   "metadata": {},
   "outputs": [],
   "source": [
    "from pyspark.sql import SparkSession\n",
    "from pyspark.sql.functions import explode, col, lit, array, struct, when"
   ]
  },
  {
   "cell_type": "code",
   "execution_count": 29,
   "metadata": {},
   "outputs": [
    {
     "data": {
      "text/html": [
       "\n",
       "            <div>\n",
       "                <p><b>SparkSession - hive</b></p>\n",
       "                \n",
       "        <div>\n",
       "            <p><b>SparkContext</b></p>\n",
       "\n",
       "            <p><a href=\"http://172.26.68.223:4040\">Spark UI</a></p>\n",
       "\n",
       "            <dl>\n",
       "              <dt>Version</dt>\n",
       "                <dd><code>v3.4.1</code></dd>\n",
       "              <dt>Master</dt>\n",
       "                <dd><code>local</code></dd>\n",
       "              <dt>AppName</dt>\n",
       "                <dd><code>Tax</code></dd>\n",
       "            </dl>\n",
       "        </div>\n",
       "        \n",
       "            </div>\n",
       "        "
      ],
      "text/plain": [
       "<pyspark.sql.session.SparkSession at 0x10c74faf0>"
      ]
     },
     "execution_count": 29,
     "metadata": {},
     "output_type": "execute_result"
    }
   ],
   "source": [
    "spark = SparkSession.builder.appName('Tax').master(\"local\").enableHiveSupport().getOrCreate()\n",
    "spark"
   ]
  },
  {
   "cell_type": "code",
   "execution_count": 30,
   "metadata": {},
   "outputs": [],
   "source": [
    "# Creating dataframe from the csv file and infering the schema\n",
    "df = spark.read.load(\"Files/Tax2.csv\", format=\"csv\", sep=\",\", inferschema=\"true\", header=\"true\")"
   ]
  },
  {
   "cell_type": "code",
   "execution_count": 31,
   "metadata": {},
   "outputs": [],
   "source": [
    "# Rename the column\n",
    "df = df.withColumnRenamed(\"Country Name\",\"country\")\n",
    "columns_to_drop = [str(year) for year in range(1960, 2000)]\n",
    "df = df.drop(\"Country Code\",\"Indicator Name\",\"Indicator Code\",*columns_to_drop,\"_c67\")"
   ]
  },
  {
   "cell_type": "code",
   "execution_count": 32,
   "metadata": {},
   "outputs": [],
   "source": [
    "# Assuming df is properly defined DataFrame\n",
    "df = df.select(\"country\", explode(array([\n",
    "    struct(lit(year).alias(\"year\"), col(str(year)).alias(\"tax\")) \n",
    "    for year in range(2000, 2023)\n",
    "])).alias(\"data\")).selectExpr(\"country\", \"data.year\", \"data.tax\")\n",
    "\n",
    "df = df.orderBy(\"country\")"
   ]
  },
  {
   "cell_type": "code",
   "execution_count": 33,
   "metadata": {},
   "outputs": [],
   "source": [
    "# Replace null values in 'total_cases' column with 0\n",
    "df = df.withColumn(\"tax\", when(df[\"tax\"].isNull(), 0).otherwise(df[\"tax\"]))\n",
    "\n",
    "# Cast columns to their desired types\n",
    "df = df.withColumn(\"country\", col(\"country\").cast(\"string\"))\n",
    "df = df.withColumn(\"year\", col(\"year\").cast(\"int\"))\n",
    "df = df.withColumn(\"tax\", col(\"tax\").cast(\"double\"))"
   ]
  },
  {
   "cell_type": "code",
   "execution_count": 34,
   "metadata": {},
   "outputs": [],
   "source": [
    "# Filter data for years greater than 2010 and lower than 2024\n",
    "df = df.filter(df[\"year\"] > 2010)\n",
    "df = df.filter(df[\"year\"] < 2024)"
   ]
  },
  {
   "cell_type": "code",
   "execution_count": 35,
   "metadata": {},
   "outputs": [],
   "source": [
    "# Order by country and then by year\n",
    "df = df.orderBy(\"country\", \"year\")"
   ]
  },
  {
   "cell_type": "code",
   "execution_count": 36,
   "metadata": {},
   "outputs": [
    {
     "name": "stdout",
     "output_type": "stream",
     "text": [
      "+--------------------+----+----------------+\n",
      "|             country|year|             tax|\n",
      "+--------------------+----+----------------+\n",
      "|         Afghanistan|2011|8.91679399595736|\n",
      "|         Afghanistan|2012|7.70780060287773|\n",
      "|         Afghanistan|2013|7.12277329020889|\n",
      "|         Afghanistan|2014|6.88210294277301|\n",
      "|         Afghanistan|2015|7.58538233129798|\n",
      "|         Afghanistan|2016|9.50265278288094|\n",
      "|         Afghanistan|2017|9.89845089688421|\n",
      "|         Afghanistan|2018|             0.0|\n",
      "|         Afghanistan|2019|             0.0|\n",
      "|         Afghanistan|2020|             0.0|\n",
      "|         Afghanistan|2021|             0.0|\n",
      "|         Afghanistan|2022|             0.0|\n",
      "|Africa Eastern an...|2011|17.5214609793853|\n",
      "|Africa Eastern an...|2012|18.0124688502049|\n",
      "|Africa Eastern an...|2013|18.1782844330301|\n",
      "|Africa Eastern an...|2014|18.2420894982272|\n",
      "|Africa Eastern an...|2015|17.4297917003423|\n",
      "|Africa Eastern an...|2016|17.0950776217955|\n",
      "|Africa Eastern an...|2017|17.8607979980375|\n",
      "|Africa Eastern an...|2018|17.6854747560086|\n",
      "+--------------------+----+----------------+\n",
      "only showing top 20 rows\n",
      "\n"
     ]
    }
   ],
   "source": [
    "#Storing this dataframe in parquet\n",
    "df.write.mode(\"overwrite\").parquet(\"FilesParquet/Tax.parquet\" )\n",
    "spark.read.parquet(\"FilesParquet/Tax.parquet\").show()\n",
    "spark.stop()"
   ]
  }
 ],
 "metadata": {
  "kernelspec": {
   "display_name": "DataScience",
   "language": "python",
   "name": "python3"
  },
  "language_info": {
   "codemirror_mode": {
    "name": "ipython",
    "version": 3
   },
   "file_extension": ".py",
   "mimetype": "text/x-python",
   "name": "python",
   "nbconvert_exporter": "python",
   "pygments_lexer": "ipython3",
   "version": "3.10.13"
  }
 },
 "nbformat": 4,
 "nbformat_minor": 2
}
