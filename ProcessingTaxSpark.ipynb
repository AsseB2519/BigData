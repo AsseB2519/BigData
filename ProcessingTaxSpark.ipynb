{
 "cells": [
  {
   "cell_type": "markdown",
   "metadata": {},
   "source": [
    "<center>\n",
    "\n",
    "# $\\textbf{Tax}$\n",
    "\n",
    "<center>"
   ]
  },
  {
   "cell_type": "markdown",
   "metadata": {},
   "source": [
    "### $\\textbf{Code}$"
   ]
  },
  {
   "cell_type": "code",
   "execution_count": 1,
   "metadata": {},
   "outputs": [],
   "source": [
    "from pyspark.sql import SparkSession\n",
    "from pyspark.sql.functions import explode, col, lit, array, struct, when\n",
    "import time"
   ]
  },
  {
   "cell_type": "code",
   "execution_count": 2,
   "metadata": {},
   "outputs": [],
   "source": [
    "inicio = time.time()"
   ]
  },
  {
   "cell_type": "code",
   "execution_count": 3,
   "metadata": {},
   "outputs": [
    {
     "name": "stderr",
     "output_type": "stream",
     "text": [
      "24/03/07 21:06:32 WARN Utils: Your hostname, Francisco-MacBook-Pro.local resolves to a loopback address: 127.0.0.1; using 10.191.2.158 instead (on interface en0)\n",
      "24/03/07 21:06:32 WARN Utils: Set SPARK_LOCAL_IP if you need to bind to another address\n",
      "Setting default log level to \"WARN\".\n",
      "To adjust logging level use sc.setLogLevel(newLevel). For SparkR, use setLogLevel(newLevel).\n",
      "24/03/07 21:06:32 WARN NativeCodeLoader: Unable to load native-hadoop library for your platform... using builtin-java classes where applicable\n"
     ]
    },
    {
     "data": {
      "text/html": [
       "\n",
       "            <div>\n",
       "                <p><b>SparkSession - hive</b></p>\n",
       "                \n",
       "        <div>\n",
       "            <p><b>SparkContext</b></p>\n",
       "\n",
       "            <p><a href=\"http://10.191.2.158:4040\">Spark UI</a></p>\n",
       "\n",
       "            <dl>\n",
       "              <dt>Version</dt>\n",
       "                <dd><code>v3.4.1</code></dd>\n",
       "              <dt>Master</dt>\n",
       "                <dd><code>local</code></dd>\n",
       "              <dt>AppName</dt>\n",
       "                <dd><code>Tax</code></dd>\n",
       "            </dl>\n",
       "        </div>\n",
       "        \n",
       "            </div>\n",
       "        "
      ],
      "text/plain": [
       "<pyspark.sql.session.SparkSession at 0x116cfea40>"
      ]
     },
     "execution_count": 3,
     "metadata": {},
     "output_type": "execute_result"
    }
   ],
   "source": [
    "spark = SparkSession.builder.appName('Tax').master(\"local\").enableHiveSupport().getOrCreate()\n",
    "spark"
   ]
  },
  {
   "cell_type": "code",
   "execution_count": 4,
   "metadata": {},
   "outputs": [],
   "source": [
    "# Creating dataframe from the csv file and infering the schema\n",
    "df = spark.read.load(\"Files/Tax2.csv\", format=\"csv\", sep=\",\", inferschema=\"true\", header=\"true\")"
   ]
  },
  {
   "cell_type": "code",
   "execution_count": 5,
   "metadata": {},
   "outputs": [],
   "source": [
    "# Rename the column\n",
    "df = df.withColumnRenamed(\"Country Name\",\"country\")\n",
    "columns_to_drop = [str(year) for year in range(1960, 2000)]\n",
    "df = df.drop(\"Country Code\",\"Indicator Name\",\"Indicator Code\",*columns_to_drop,\"_c67\")"
   ]
  },
  {
   "cell_type": "code",
   "execution_count": 6,
   "metadata": {},
   "outputs": [],
   "source": [
    "# Assuming df is properly defined DataFrame\n",
    "df = df.select(\"country\", explode(array([\n",
    "    struct(lit(year).alias(\"year\"), col(str(year)).alias(\"tax\")) \n",
    "    for year in range(2000, 2023)\n",
    "])).alias(\"data\")).selectExpr(\"country\", \"data.year\", \"data.tax\")\n",
    "\n",
    "df = df.orderBy(\"country\")"
   ]
  },
  {
   "cell_type": "code",
   "execution_count": 7,
   "metadata": {},
   "outputs": [],
   "source": [
    "# Replace null values in 'total_cases' column with 0\n",
    "df = df.withColumn(\"tax\", when(df[\"tax\"].isNull(), 0).otherwise(df[\"tax\"]))\n",
    "\n",
    "# Cast columns to their desired types\n",
    "df = df.withColumn(\"country\", col(\"country\").cast(\"string\"))\n",
    "df = df.withColumn(\"year\", col(\"year\").cast(\"int\"))\n",
    "df = df.withColumn(\"tax\", col(\"tax\").cast(\"double\"))"
   ]
  },
  {
   "cell_type": "code",
   "execution_count": 8,
   "metadata": {},
   "outputs": [],
   "source": [
    "# Filter data for years greater than 2010 and lower than 2024\n",
    "df = df.filter(df[\"year\"] > 2010)\n",
    "df = df.filter(df[\"year\"] < 2024)"
   ]
  },
  {
   "cell_type": "code",
   "execution_count": 9,
   "metadata": {},
   "outputs": [],
   "source": [
    "# Order by country and then by year\n",
    "df = df.orderBy(\"country\", \"year\")"
   ]
  },
  {
   "cell_type": "markdown",
   "metadata": {},
   "source": [
    "### $\\textbf{Pre-Processing}$"
   ]
  },
  {
   "cell_type": "code",
   "execution_count": 10,
   "metadata": {},
   "outputs": [],
   "source": [
    "replacements = {\n",
    "    \"China, People's Republic of\": \"China\",\n",
    "    \"Gambia, The\": \"Gambia\",\n",
    "    \"Micronesia, Fed. States of\": \"Micronesia\",\n",
    "    \"South Sudan, Republic of\": \"South Sudan\",\n",
    "    \"Taiwan Province of China\": \"Taiwan\",\n",
    "    \"Türkiye, Republic of\": \"Türkiye\",\n",
    "    \"Korea, Republic of\": \"South Korea\",\n",
    "    \"Congo\": \"Democratic Republic of the Congo\",\n",
    "    \"Caribbean small states\": \"Caribbean\"\n",
    "}\n",
    "\n",
    "# Rename columns based on replacements dictionary\n",
    "for old_value, new_value in replacements.items():\n",
    "    df = df.withColumnRenamed(old_value, new_value)"
   ]
  },
  {
   "cell_type": "code",
   "execution_count": 11,
   "metadata": {},
   "outputs": [],
   "source": [
    "# Columns to drop\n",
    "countries_to_remove = ['Africa Eastern and Southern', \n",
    "                       'Africa Western and Central', \n",
    "                       'Central Europe and the Baltics', \n",
    "                       'Early-demographic dividend', \n",
    "                       'East Asia & Pacific', \n",
    "                       'East Asia & Pacific (IDA & IBRD countries)', \n",
    "                       'East Asia & Pacific (excluding high income)', \n",
    "                       'Euro area',\n",
    "                       'Europe & Central Asia',\n",
    "                       'Europe & Central Asia (IDA & IBRD countries)',\n",
    "                       'Europe & Central Asia (excluding high income)',\n",
    "                       'European Union',\n",
    "                       'Fragile and conflict affected situations',\n",
    "                       'Heavily indebted poor countries (HIPC)',\n",
    "                       'High income',\n",
    "                       'IBRD only',\n",
    "                       'IDA & IBRD total',\n",
    "                       'IDA blend',\n",
    "                       'IDA only',\n",
    "                       'IDA total',\n",
    "                       'Latin America & the Caribbean (IDA & IBRD countries)',\n",
    "                       'Latin America & Caribbean (excluding high income)',\n",
    "                       'Least developed countries: UN classification',\n",
    "                       'Low & middle income',\n",
    "                       'Low income',\n",
    "                       'Lower middle income',\n",
    "                       'Middle East & North Africa',\n",
    "                       'Middle East & North Africa (IDA & IBRD countries)',\n",
    "                       'Middle East & North Africa (excluding high income)',\n",
    "                       'Middle income',\n",
    "                       'Not classified',\n",
    "                       'OECD members',\n",
    "                       'Other small states',\n",
    "                       'Pacific island small states'\n",
    "                       'Post-demographic dividend',\n",
    "                       'Pre-demographic dividend',\n",
    "                       'Small states',\n",
    "                       'South Asia',\n",
    "                       'South Asia (IDA & IBRD)',\n",
    "                       'Sub-Saharan Africa (IDA & IBRD countries)',\n",
    "                       'Sub-Saharan Africa (excluding high income)',\n",
    "                       'Upper middle income',\n",
    "                       'World'\n",
    "                       ]\n",
    "\n",
    "# Drop the specified rows\n",
    "df = df.filter(~df['country'].isin(countries_to_remove))"
   ]
  },
  {
   "cell_type": "code",
   "execution_count": 12,
   "metadata": {},
   "outputs": [],
   "source": [
    "# Remove rows with missing values in the 'country' column\n",
    "df = df.dropna(subset=['country'])"
   ]
  },
  {
   "cell_type": "code",
   "execution_count": 13,
   "metadata": {},
   "outputs": [
    {
     "name": "stderr",
     "output_type": "stream",
     "text": [
      "                                                                                \r"
     ]
    },
    {
     "name": "stdout",
     "output_type": "stream",
     "text": [
      "+-----------+----+----------------+\n",
      "|    country|year|             tax|\n",
      "+-----------+----+----------------+\n",
      "|Afghanistan|2011|8.91679399595736|\n",
      "|Afghanistan|2012|7.70780060287773|\n",
      "|Afghanistan|2013|7.12277329020889|\n",
      "|Afghanistan|2014|6.88210294277301|\n",
      "|Afghanistan|2015|7.58538233129798|\n",
      "|Afghanistan|2016|9.50265278288094|\n",
      "|Afghanistan|2017|9.89845089688421|\n",
      "|Afghanistan|2018|             0.0|\n",
      "|Afghanistan|2019|             0.0|\n",
      "|Afghanistan|2020|             0.0|\n",
      "|Afghanistan|2021|             0.0|\n",
      "|Afghanistan|2022|             0.0|\n",
      "|    Albania|2011|18.0220132797796|\n",
      "|    Albania|2012|17.4832335567459|\n",
      "|    Albania|2013|16.5032706123389|\n",
      "|    Albania|2014|18.3019361358269|\n",
      "|    Albania|2015|18.5157898553099|\n",
      "|    Albania|2016| 17.590229809729|\n",
      "|    Albania|2017|18.8874860606848|\n",
      "|    Albania|2018|18.5459674731621|\n",
      "+-----------+----+----------------+\n",
      "only showing top 20 rows\n",
      "\n"
     ]
    }
   ],
   "source": [
    "#Storing this dataframe in parquet\n",
    "df.write.mode(\"overwrite\").parquet(\"FilesParquet/Tax.parquet\" )\n",
    "spark.read.parquet(\"FilesParquet/Tax.parquet\").show()\n",
    "spark.stop()"
   ]
  },
  {
   "cell_type": "code",
   "execution_count": 14,
   "metadata": {},
   "outputs": [
    {
     "name": "stdout",
     "output_type": "stream",
     "text": [
      "7.7793309688568115\n"
     ]
    }
   ],
   "source": [
    "fim = time.time()\n",
    "final = fim - inicio\n",
    "print(final)"
   ]
  }
 ],
 "metadata": {
  "kernelspec": {
   "display_name": "DataScience",
   "language": "python",
   "name": "python3"
  },
  "language_info": {
   "codemirror_mode": {
    "name": "ipython",
    "version": 3
   },
   "file_extension": ".py",
   "mimetype": "text/x-python",
   "name": "python",
   "nbconvert_exporter": "python",
   "pygments_lexer": "ipython3",
   "version": "3.10.13"
  }
 },
 "nbformat": 4,
 "nbformat_minor": 2
}
