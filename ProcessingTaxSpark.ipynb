{
 "cells": [
  {
   "cell_type": "markdown",
   "metadata": {},
   "source": [
    "<center>\n",
    "\n",
    "# $\\textbf{Tax}$\n",
    "\n",
    "<center>"
   ]
  },
  {
   "cell_type": "markdown",
   "metadata": {},
   "source": [
    "### $\\textbf{Code}$"
   ]
  },
  {
   "cell_type": "code",
   "execution_count": 19,
   "metadata": {},
   "outputs": [],
   "source": [
    "from pyspark.sql import SparkSession\n",
    "from pyspark.sql.functions import explode, col, lit, array, struct"
   ]
  },
  {
   "cell_type": "code",
   "execution_count": 20,
   "metadata": {},
   "outputs": [
    {
     "data": {
      "text/html": [
       "\n",
       "            <div>\n",
       "                <p><b>SparkSession - hive</b></p>\n",
       "                \n",
       "        <div>\n",
       "            <p><b>SparkContext</b></p>\n",
       "\n",
       "            <p><a href=\"http://francisco-mbp:4040\">Spark UI</a></p>\n",
       "\n",
       "            <dl>\n",
       "              <dt>Version</dt>\n",
       "                <dd><code>v3.4.1</code></dd>\n",
       "              <dt>Master</dt>\n",
       "                <dd><code>local</code></dd>\n",
       "              <dt>AppName</dt>\n",
       "                <dd><code>Tax</code></dd>\n",
       "            </dl>\n",
       "        </div>\n",
       "        \n",
       "            </div>\n",
       "        "
      ],
      "text/plain": [
       "<pyspark.sql.session.SparkSession at 0x107ecddd0>"
      ]
     },
     "execution_count": 20,
     "metadata": {},
     "output_type": "execute_result"
    }
   ],
   "source": [
    "spark = SparkSession.builder.appName('Tax').master(\"local\").enableHiveSupport().getOrCreate()\n",
    "spark"
   ]
  },
  {
   "cell_type": "code",
   "execution_count": 21,
   "metadata": {},
   "outputs": [],
   "source": [
    "# Creating dataframe from the csv file and infering the schema\n",
    "df = spark.read.load(\"Files/Tax2.csv\", format=\"csv\", sep=\",\", inferschema=\"true\", header=\"true\")"
   ]
  },
  {
   "cell_type": "code",
   "execution_count": 22,
   "metadata": {},
   "outputs": [],
   "source": [
    "# Rename the column\n",
    "df = df.withColumnRenamed(\"Country Name\",\"country\")\n",
    "columns_to_drop = [str(year) for year in range(1960, 2000)]\n",
    "df = df.drop(\"Country Code\",\"Indicator Name\",\"Indicator Code\",*columns_to_drop,\"_c67\")"
   ]
  },
  {
   "cell_type": "code",
   "execution_count": 23,
   "metadata": {},
   "outputs": [],
   "source": [
    "# Assuming df is properly defined DataFrame\n",
    "df = df.select(\"country\", explode(array([\n",
    "    struct(lit(year).alias(\"year\"), col(str(year)).alias(\"tax\")) \n",
    "    for year in range(2000, 2023)\n",
    "])).alias(\"data\")).selectExpr(\"country\", \"data.year\", \"data.tax\")\n",
    "\n",
    "df = df.orderBy(\"country\")"
   ]
  },
  {
   "cell_type": "code",
   "execution_count": 24,
   "metadata": {},
   "outputs": [
    {
     "name": "stdout",
     "output_type": "stream",
     "text": [
      "+-----------+----+----------------+\n",
      "|    country|year|             tax|\n",
      "+-----------+----+----------------+\n",
      "|Afghanistan|2000|            null|\n",
      "|Afghanistan|2001|            null|\n",
      "|Afghanistan|2002|            null|\n",
      "|Afghanistan|2003|            null|\n",
      "|Afghanistan|2004|            null|\n",
      "|Afghanistan|2005|            null|\n",
      "|Afghanistan|2006|6.96759757507017|\n",
      "|Afghanistan|2007|5.28345660398282|\n",
      "|Afghanistan|2008|6.08796493020769|\n",
      "|Afghanistan|2009|8.48175836103604|\n",
      "|Afghanistan|2010|9.16975191915408|\n",
      "|Afghanistan|2011|8.91679399595736|\n",
      "|Afghanistan|2012|7.70780060287773|\n",
      "|Afghanistan|2013|7.12277329020889|\n",
      "|Afghanistan|2014|6.88210294277301|\n",
      "|Afghanistan|2015|7.58538233129798|\n",
      "|Afghanistan|2016|9.50265278288094|\n",
      "|Afghanistan|2017|9.89845089688421|\n",
      "|Afghanistan|2018|            null|\n",
      "|Afghanistan|2019|            null|\n",
      "+-----------+----+----------------+\n",
      "only showing top 20 rows\n",
      "\n"
     ]
    }
   ],
   "source": [
    "#Storing this dataframe in parquet\n",
    "df.write.mode(\"overwrite\").parquet(\"FilesParquet/Tax.parquet\" )\n",
    "spark.read.parquet(\"FilesParquet/Tax.parquet\").show()\n",
    "spark.stop()"
   ]
  }
 ],
 "metadata": {
  "kernelspec": {
   "display_name": "DataScience",
   "language": "python",
   "name": "python3"
  },
  "language_info": {
   "codemirror_mode": {
    "name": "ipython",
    "version": 3
   },
   "file_extension": ".py",
   "mimetype": "text/x-python",
   "name": "python",
   "nbconvert_exporter": "python",
   "pygments_lexer": "ipython3",
   "version": "3.11.5"
  }
 },
 "nbformat": 4,
 "nbformat_minor": 2
}
