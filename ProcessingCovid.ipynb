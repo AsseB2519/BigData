{
 "cells": [
  {
   "cell_type": "markdown",
   "metadata": {},
   "source": [
    "# COVID - until 2024-02-04"
   ]
  },
  {
   "cell_type": "code",
   "execution_count": 12,
   "metadata": {},
   "outputs": [
    {
     "name": "stdout",
     "output_type": "stream",
     "text": [
      "       iso_code continent     location       date  total_cases\n",
      "361         AFG      Asia  Afghanistan 2020-12-31      51848.0\n",
      "726         AFG      Asia  Afghanistan 2021-12-31     157902.0\n",
      "1091        AFG      Asia  Afghanistan 2022-12-31     207322.0\n",
      "1456        AFG      Asia  Afghanistan 2023-12-31     230375.0\n",
      "1491        AFG      Asia  Afghanistan 2024-02-04     231539.0\n",
      "...         ...       ...          ...        ...          ...\n",
      "375651      ZWE    Africa     Zimbabwe 2020-12-31      12963.0\n",
      "376016      ZWE    Africa     Zimbabwe 2021-12-31     203746.0\n",
      "376381      ZWE    Africa     Zimbabwe 2022-12-31     259944.0\n",
      "376746      ZWE    Africa     Zimbabwe 2023-12-31     266048.0\n",
      "376781      ZWE    Africa     Zimbabwe 2024-02-04     266265.0\n",
      "\n",
      "[1261 rows x 5 columns]\n"
     ]
    },
    {
     "name": "stderr",
     "output_type": "stream",
     "text": [
      "C:\\Users\\afons\\AppData\\Local\\Temp\\ipykernel_5964\\3509871085.py:13: SettingWithCopyWarning: \n",
      "A value is trying to be set on a copy of a slice from a DataFrame.\n",
      "Try using .loc[row_indexer,col_indexer] = value instead\n",
      "\n",
      "See the caveats in the documentation: https://pandas.pydata.org/pandas-docs/stable/user_guide/indexing.html#returning-a-view-versus-a-copy\n",
      "  covid['date'] = pd.to_datetime(covid['date'])\n",
      "C:\\Users\\afons\\AppData\\Local\\Temp\\ipykernel_5964\\3509871085.py:22: SettingWithCopyWarning: \n",
      "A value is trying to be set on a copy of a slice from a DataFrame.\n",
      "Try using .loc[row_indexer,col_indexer] = value instead\n",
      "\n",
      "See the caveats in the documentation: https://pandas.pydata.org/pandas-docs/stable/user_guide/indexing.html#returning-a-view-versus-a-copy\n",
      "  covid_last_day_of_year['year'] = covid_last_day_of_year['date'].dt.year\n"
     ]
    }
   ],
   "source": [
    "import pandas as pd\n",
    "\n",
    "# Load the CSV file into a DataFrame\n",
    "df = pd.read_csv('Files/Covid.csv')\n",
    "\n",
    "# Select the columns you're interested in\n",
    "selected_columns = ['iso_code', 'continent', 'location', 'date', 'total_cases']\n",
    "\n",
    "# Create a new DataFrame with only the selected columns\n",
    "covid = df[selected_columns]\n",
    "\n",
    "# Convert 'date' column to datetime format\n",
    "covid['date'] = pd.to_datetime(covid['date'])\n",
    "\n",
    "# Group by country and year, and select the last date of each year for each country\n",
    "covid_last_day_of_year = covid.groupby([covid['date'].dt.year, 'iso_code']).tail(1)\n",
    "\n",
    "# Display the data\n",
    "print(covid_last_day_of_year)\n",
    "\n",
    "# Extract the year from the 'date' column and store it in a new column\n",
    "covid_last_day_of_year['year'] = covid_last_day_of_year['date'].dt.year\n",
    "\n",
    "# Drop the 'date' and 'continent' columns\n",
    "covid_last_day_of_year = covid_last_day_of_year.drop(['date', 'continent'], axis=1)\n",
    "\n",
    "# Save the selected data to a new CSV file\n",
    "covid_last_day_of_year.to_csv(\"FinalFiles/Covid.csv\", index=False)"
   ]
  }
 ],
 "metadata": {
  "kernelspec": {
   "display_name": "daa1",
   "language": "python",
   "name": "python3"
  },
  "language_info": {
   "codemirror_mode": {
    "name": "ipython",
    "version": 3
   },
   "file_extension": ".py",
   "mimetype": "text/x-python",
   "name": "python",
   "nbconvert_exporter": "python",
   "pygments_lexer": "ipython3",
   "version": "3.11.5"
  }
 },
 "nbformat": 4,
 "nbformat_minor": 2
}
