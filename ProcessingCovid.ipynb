{
 "cells": [
  {
   "cell_type": "markdown",
   "metadata": {},
   "source": [
    "<center>\n",
    "\n",
    "# $\\textbf{Covid-19 - until 2024-02-04}$\n",
    "\n",
    "<center>"
   ]
  },
  {
   "cell_type": "markdown",
   "metadata": {},
   "source": [
    "### $\\textbf{Code}$"
   ]
  },
  {
   "cell_type": "code",
   "execution_count": 1,
   "metadata": {},
   "outputs": [],
   "source": [
    "import pandas as pd\n",
    "import time"
   ]
  },
  {
   "cell_type": "code",
   "execution_count": 2,
   "metadata": {},
   "outputs": [],
   "source": [
    "inicio = time.time()"
   ]
  },
  {
   "cell_type": "code",
   "execution_count": 3,
   "metadata": {},
   "outputs": [],
   "source": [
    "# Load the CSV file into a DataFrame\n",
    "df = pd.read_csv('Files/Covid.csv')"
   ]
  },
  {
   "cell_type": "code",
   "execution_count": 4,
   "metadata": {},
   "outputs": [],
   "source": [
    "# Select the columns you're interested in\n",
    "selected_columns = ['location', 'date', 'total_cases']"
   ]
  },
  {
   "cell_type": "code",
   "execution_count": 5,
   "metadata": {},
   "outputs": [],
   "source": [
    "# Create a new DataFrame with only the selected columns\n",
    "covid = df[selected_columns].copy()"
   ]
  },
  {
   "cell_type": "code",
   "execution_count": 6,
   "metadata": {},
   "outputs": [],
   "source": [
    "# Convert 'date' column to datetime format\n",
    "covid['date'] = pd.to_datetime(covid['date'])"
   ]
  },
  {
   "cell_type": "code",
   "execution_count": 7,
   "metadata": {},
   "outputs": [],
   "source": [
    "# Group by country and year, and select the last date of each year for each country\n",
    "covid_last_day_of_year = covid.groupby([covid['date'].dt.year, 'location']).tail(1)"
   ]
  },
  {
   "cell_type": "code",
   "execution_count": 8,
   "metadata": {},
   "outputs": [],
   "source": [
    "# Extract the year from the 'date' column and store it in a new column\n",
    "covid_last_day_of_year = covid_last_day_of_year.assign(year=covid_last_day_of_year['date'].dt.year)"
   ]
  },
  {
   "cell_type": "code",
   "execution_count": 9,
   "metadata": {},
   "outputs": [],
   "source": [
    "# Drop the 'date' and 'continent' columns, and rename columns\n",
    "covid_last_day_of_year = covid_last_day_of_year.drop(['date'], axis=1)\n",
    "covid_last_day_of_year.rename(columns={'location': 'country', \n",
    "                                       'total_cases': 'covid_cases'}, inplace=True)"
   ]
  },
  {
   "cell_type": "code",
   "execution_count": 10,
   "metadata": {},
   "outputs": [],
   "source": [
    "# Save the selected data to a new CSV file\n",
    "covid_last_day_of_year.to_csv(\"FinalFiles/Covid.csv\", index=False)"
   ]
  },
  {
   "cell_type": "markdown",
   "metadata": {},
   "source": [
    "### $\\textbf{Pre-Processing}$"
   ]
  },
  {
   "cell_type": "code",
   "execution_count": 11,
   "metadata": {},
   "outputs": [],
   "source": [
    "# Read the CSV file into a DataFrame\n",
    "df = pd.read_csv('FinalFiles/Covid.csv')"
   ]
  },
  {
   "cell_type": "code",
   "execution_count": 12,
   "metadata": {},
   "outputs": [],
   "source": [
    "df['country'] = df['country'].replace({'Micronesia (country)': 'Micronesia', \n",
    "                                       'Saint Martin (French part)': 'Saint Martin',\n",
    "                                       'Sint Maarten (Dutch part)': 'Sint Maarten',\n",
    "                                       'Brunei' : 'Brunei Darussalam',\n",
    "                                       'Cape Verde' : 'Cabo Verde',\n",
    "                                       'Laos' : 'Lao PDR',\n",
    "                                       'United States Virgin Islands' : 'Virgin Islands (U.S.)',\n",
    "                                       'Turkey' : 'Turkiye',\n",
    "                                       'Syria' : 'Syrian Arab Republic',\n",
    "                                       'Timor' : 'Timor-Leste',\n",
    "                                       'Russia' : 'Russian Federation',\n",
    "                                       'Congo' : 'Democratic Republic of the Congo',\n",
    "                                       'Slovakia' : 'Slovenia'})"
   ]
  },
  {
   "cell_type": "code",
   "execution_count": 13,
   "metadata": {},
   "outputs": [],
   "source": [
    "# Columns to drop\n",
    "countries_to_remove = ['Africa', 'Europe', 'Europe Union', 'Asia', 'Lower middle income', 'Upper middle income', 'World']\n",
    "\n",
    "# Drop the specified columns\n",
    "df = df[~df['country'].isin(countries_to_remove)]"
   ]
  },
  {
   "cell_type": "code",
   "execution_count": 14,
   "metadata": {},
   "outputs": [],
   "source": [
    "# Read the CSV file into a DataFrame\n",
    "df.to_csv(\"FilesPP/Covid.csv\", index=False)"
   ]
  },
  {
   "cell_type": "code",
   "execution_count": 15,
   "metadata": {},
   "outputs": [
    {
     "name": "stdout",
     "output_type": "stream",
     "text": [
      "0.7633371353149414\n"
     ]
    }
   ],
   "source": [
    "fim = time.time()\n",
    "final = fim - inicio\n",
    "print(final)"
   ]
  }
 ],
 "metadata": {
  "kernelspec": {
   "display_name": "daa1",
   "language": "python",
   "name": "python3"
  },
  "language_info": {
   "codemirror_mode": {
    "name": "ipython",
    "version": 3
   },
   "file_extension": ".py",
   "mimetype": "text/x-python",
   "name": "python",
   "nbconvert_exporter": "python",
   "pygments_lexer": "ipython3",
   "version": "3.10.13"
  }
 },
 "nbformat": 4,
 "nbformat_minor": 2
}
